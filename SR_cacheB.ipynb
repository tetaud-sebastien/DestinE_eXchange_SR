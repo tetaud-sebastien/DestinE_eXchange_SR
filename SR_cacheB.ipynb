{
 "cells": [
  {
   "cell_type": "code",
   "execution_count": 1,
   "id": "eda9169f",
   "metadata": {},
   "outputs": [
    {
     "name": "stderr",
     "output_type": "stream",
     "text": [
      "Seed set to 42\n"
     ]
    },
    {
     "data": {
      "text/plain": [
       "42"
      ]
     },
     "execution_count": 1,
     "metadata": {},
     "output_type": "execute_result"
    }
   ],
   "source": [
    "from torch.utils.data import Dataset, DataLoader\n",
    "import numpy as np\n",
    "from torch.utils.data import Dataset\n",
    "from pyproj import CRS\n",
    "import pandas as pd\n",
    "import torch\n",
    "import lightning as L\n",
    "from torchvision import transforms\n",
    "import xarray as xr\n",
    "import torch\n",
    "import torch.nn as nn\n",
    "from torchmetrics import PeakSignalNoiseRatio, StructuralSimilarityIndexMeasure\n",
    "from sklearn.model_selection import train_test_split\n",
    "\n",
    "from lightning.pytorch import seed_everything\n",
    "import matplotlib.pyplot as plt\n",
    "import cartopy.crs as ccrs\n",
    "import cartopy.feature as cf\n",
    "import warnings\n",
    "\n",
    "warnings.filterwarnings(\"ignore\")\n",
    "torch.set_float32_matmul_precision('high')\n",
    "seed_everything(42, workers=True)"
   ]
  },
  {
   "cell_type": "markdown",
   "id": "40a96a0a",
   "metadata": {},
   "source": [
    "## "
   ]
  },
  {
   "cell_type": "code",
   "execution_count": 2,
   "id": "42989013",
   "metadata": {},
   "outputs": [],
   "source": [
    "class SuperResolutionModel(L.LightningModule):\n",
    "    def __init__(self, model):\n",
    "\n",
    "        super().__init__()\n",
    "        self.lr = 1e-3\n",
    "        self.model = model\n",
    "        self.psnr = PeakSignalNoiseRatio()\n",
    "        self.ssim = StructuralSimilarityIndexMeasure()\n",
    "\n",
    "    def forward(self, x):\n",
    "        upscaled_img = self.model(x)\n",
    "        return upscaled_img\n",
    "\n",
    "    def training_step(self, batch, batch_idx):\n",
    "\n",
    "        lr_img, hr_img = batch\n",
    "        sr_img = self(lr_img)\n",
    "\n",
    "        loss = nn.functional.mse_loss(sr_img, hr_img)\n",
    "        psnr_value = self.psnr(sr_img, hr_img)\n",
    "\n",
    "        self.log('train_loss', loss, prog_bar=True)\n",
    "        self.log('train_psnr', psnr_value, prog_bar=True)\n",
    "\n",
    "        return loss\n",
    "\n",
    "    def validation_step(self, batch, batch_idx):\n",
    "        lr_img, hr_img = batch\n",
    "        sr_img = self(lr_img)\n",
    "\n",
    "        loss = nn.functional.mse_loss(sr_img, hr_img)\n",
    "        psnr_value = self.psnr(sr_img, hr_img)\n",
    "        ssim_value = self.ssim(sr_img, hr_img)\n",
    "\n",
    "        self.log('val_loss', loss, prog_bar=True)\n",
    "        self.log('val_psnr', psnr_value, prog_bar=True)\n",
    "        self.log('val_ssim', ssim_value, prog_bar=True)\n",
    "\n",
    "        # Log images to TensorBoard every 10 steps\n",
    "        if batch_idx % 10 == 0:\n",
    "            self.log_images(lr_img, hr_img, sr_img, 'val', batch_idx)  # Make sure batch_idx is passed here\n",
    "\n",
    "        return {'val_loss': loss, 'val_psnr': psnr_value, 'val_ssim': ssim_value}\n",
    "\n",
    "    def test_step(self, batch, batch_idx):\n",
    "        lr_img, hr_img = batch\n",
    "        sr_img = self(lr_img)\n",
    "\n",
    "        loss = nn.functional.mse_loss(sr_img, hr_img)\n",
    "        psnr_value = self.psnr(sr_img, hr_img)\n",
    "        ssim_value = self.ssim(sr_img, hr_img)\n",
    "\n",
    "        self.log('test_loss', loss, prog_bar=True)\n",
    "        self.log('test_psnr', psnr_value, prog_bar=True)\n",
    "        self.log('test_ssim', ssim_value, prog_bar=True)\n",
    "\n",
    "        return {'test_loss': loss, 'test_psnr': psnr_value, 'test_ssim': ssim_value}\n",
    "\n",
    "    def configure_optimizers(self):\n",
    "        optimizer = torch.optim.Adam(self.parameters(), lr=self.lr)\n",
    "        return optimizer\n",
    "\n",
    "\n",
    "    def log_images(self, lr_img, hr_img, sr_img, stage, batch_idx):\n",
    "        \"\"\"\n",
    "        Helper function to log input, target, and output images to TensorBoard, including cartopy plots\n",
    "        \"\"\"\n",
    "        # Ensure images are in range [0, 1]\n",
    "        lr_img = lr_img.cpu()\n",
    "        hr_img = hr_img.cpu()\n",
    "        sr_img = sr_img.cpu()\n",
    "\n",
    "        # Convert lr_img, hr_img to numpy for cartopy visualization\n",
    "        lr_img_np = lr_img.squeeze().numpy()[0]  # (lat, lon) format\n",
    "        hr_img_np = hr_img.squeeze().numpy()[0] # (lat, lon) format\n",
    "        sr_img_np = sr_img.squeeze().numpy()[0] # (lat, lon) format\n",
    "\n",
    "        lon_min, lon_max = 5, 16.25\n",
    "        lat_min, lat_max = 47, 58.22\n",
    "\n",
    "        # Create a single figure with two subplots (for HR and LR)\n",
    "        fig, ax = plt.subplots(1, 3, figsize=(12, 6), subplot_kw={'projection': ccrs.Mercator()})\n",
    "        # Plot high-resolution data\n",
    "        ax[0].coastlines()\n",
    "        ax[0].add_feature(cf.BORDERS)\n",
    "        ax[0].set_extent([lon_min, lon_max, lat_min, lat_max], crs=ccrs.PlateCarree())\n",
    "        ax[0].imshow(lr_img_np, origin='upper', extent=[5, 16.25, 47, 58.22], transform=ccrs.PlateCarree(), cmap=\"YlOrRd\")\n",
    "        ax[0].set_title(\"Low-Resolution\")\n",
    "        # Plot low-resolution data\n",
    "        ax[1].coastlines()\n",
    "        ax[1].add_feature(cf.BORDERS)\n",
    "        ax[1].set_extent([lon_min, lon_max, lat_min, lat_max], crs=ccrs.PlateCarree())\n",
    "\n",
    "        ax[1].imshow(hr_img_np, origin='upper', extent=[5, 16.25, 47, 58.22], transform=ccrs.PlateCarree(), cmap=\"YlOrRd\")\n",
    "        ax[1].set_title(\"High-Resolution\")\n",
    "\n",
    "        ax[2].coastlines()\n",
    "        ax[2].add_feature(cf.BORDERS)\n",
    "        ax[2].set_extent([lon_min, lon_max, lat_min, lat_max], crs=ccrs.PlateCarree())\n",
    "\n",
    "        ax[2].imshow(sr_img_np, origin='upper', extent=[5, 16.25, 47, 58.22], transform=ccrs.PlateCarree(), cmap=\"YlOrRd\")\n",
    "        ax[2].set_title(\"High-Resolution Prediction\")\n",
    "\n",
    "        # Adjust layout for better spacing\n",
    "        plt.tight_layout()\n",
    "        plt.savefig(f\"/home/ubuntu/project/DestinE_eXchange_SR/{str(batch_idx)}.png\", format='png', bbox_inches='tight')  # Save the plot as PNG\n",
    "        plt.close(fig)"
   ]
  },
  {
   "cell_type": "code",
   "execution_count": 3,
   "id": "c4cbf950",
   "metadata": {},
   "outputs": [],
   "source": [
    "%%capture cap\n",
    "%run ./cacheb-authentication.py"
   ]
  },
  {
   "cell_type": "code",
   "execution_count": 4,
   "id": "cc9cbace",
   "metadata": {},
   "outputs": [],
   "source": [
    "output_1 = cap.stdout.split('}\\n')\n",
    "token = output_1[-1][0:-1]\n",
    "\n",
    "from pathlib import Path\n",
    "with open(Path.home() / \".netrc\", \"a\") as fp:\n",
    "    fp.write(token)"
   ]
  },
  {
   "cell_type": "code",
   "execution_count": 5,
   "id": "430cb44c",
   "metadata": {},
   "outputs": [
    {
     "data": {
      "text/html": [
       "<div><svg style=\"position: absolute; width: 0; height: 0; overflow: hidden\">\n",
       "<defs>\n",
       "<symbol id=\"icon-database\" viewBox=\"0 0 32 32\">\n",
       "<path d=\"M16 0c-8.837 0-16 2.239-16 5v4c0 2.761 7.163 5 16 5s16-2.239 16-5v-4c0-2.761-7.163-5-16-5z\"></path>\n",
       "<path d=\"M16 17c-8.837 0-16-2.239-16-5v6c0 2.761 7.163 5 16 5s16-2.239 16-5v-6c0 2.761-7.163 5-16 5z\"></path>\n",
       "<path d=\"M16 26c-8.837 0-16-2.239-16-5v6c0 2.761 7.163 5 16 5s16-2.239 16-5v-6c0 2.761-7.163 5-16 5z\"></path>\n",
       "</symbol>\n",
       "<symbol id=\"icon-file-text2\" viewBox=\"0 0 32 32\">\n",
       "<path d=\"M28.681 7.159c-0.694-0.947-1.662-2.053-2.724-3.116s-2.169-2.030-3.116-2.724c-1.612-1.182-2.393-1.319-2.841-1.319h-15.5c-1.378 0-2.5 1.121-2.5 2.5v27c0 1.378 1.122 2.5 2.5 2.5h23c1.378 0 2.5-1.122 2.5-2.5v-19.5c0-0.448-0.137-1.23-1.319-2.841zM24.543 5.457c0.959 0.959 1.712 1.825 2.268 2.543h-4.811v-4.811c0.718 0.556 1.584 1.309 2.543 2.268zM28 29.5c0 0.271-0.229 0.5-0.5 0.5h-23c-0.271 0-0.5-0.229-0.5-0.5v-27c0-0.271 0.229-0.5 0.5-0.5 0 0 15.499-0 15.5 0v7c0 0.552 0.448 1 1 1h7v19.5z\"></path>\n",
       "<path d=\"M23 26h-14c-0.552 0-1-0.448-1-1s0.448-1 1-1h14c0.552 0 1 0.448 1 1s-0.448 1-1 1z\"></path>\n",
       "<path d=\"M23 22h-14c-0.552 0-1-0.448-1-1s0.448-1 1-1h14c0.552 0 1 0.448 1 1s-0.448 1-1 1z\"></path>\n",
       "<path d=\"M23 18h-14c-0.552 0-1-0.448-1-1s0.448-1 1-1h14c0.552 0 1 0.448 1 1s-0.448 1-1 1z\"></path>\n",
       "</symbol>\n",
       "</defs>\n",
       "</svg>\n",
       "<style>/* CSS stylesheet for displaying xarray objects in jupyterlab.\n",
       " *\n",
       " */\n",
       "\n",
       ":root {\n",
       "  --xr-font-color0: var(--jp-content-font-color0, rgba(0, 0, 0, 1));\n",
       "  --xr-font-color2: var(--jp-content-font-color2, rgba(0, 0, 0, 0.54));\n",
       "  --xr-font-color3: var(--jp-content-font-color3, rgba(0, 0, 0, 0.38));\n",
       "  --xr-border-color: var(--jp-border-color2, #e0e0e0);\n",
       "  --xr-disabled-color: var(--jp-layout-color3, #bdbdbd);\n",
       "  --xr-background-color: var(--jp-layout-color0, white);\n",
       "  --xr-background-color-row-even: var(--jp-layout-color1, white);\n",
       "  --xr-background-color-row-odd: var(--jp-layout-color2, #eeeeee);\n",
       "}\n",
       "\n",
       "html[theme=dark],\n",
       "html[data-theme=dark],\n",
       "body[data-theme=dark],\n",
       "body.vscode-dark {\n",
       "  --xr-font-color0: rgba(255, 255, 255, 1);\n",
       "  --xr-font-color2: rgba(255, 255, 255, 0.54);\n",
       "  --xr-font-color3: rgba(255, 255, 255, 0.38);\n",
       "  --xr-border-color: #1F1F1F;\n",
       "  --xr-disabled-color: #515151;\n",
       "  --xr-background-color: #111111;\n",
       "  --xr-background-color-row-even: #111111;\n",
       "  --xr-background-color-row-odd: #313131;\n",
       "}\n",
       "\n",
       ".xr-wrap {\n",
       "  display: block !important;\n",
       "  min-width: 300px;\n",
       "  max-width: 700px;\n",
       "}\n",
       "\n",
       ".xr-text-repr-fallback {\n",
       "  /* fallback to plain text repr when CSS is not injected (untrusted notebook) */\n",
       "  display: none;\n",
       "}\n",
       "\n",
       ".xr-header {\n",
       "  padding-top: 6px;\n",
       "  padding-bottom: 6px;\n",
       "  margin-bottom: 4px;\n",
       "  border-bottom: solid 1px var(--xr-border-color);\n",
       "}\n",
       "\n",
       ".xr-header > div,\n",
       ".xr-header > ul {\n",
       "  display: inline;\n",
       "  margin-top: 0;\n",
       "  margin-bottom: 0;\n",
       "}\n",
       "\n",
       ".xr-obj-type,\n",
       ".xr-array-name {\n",
       "  margin-left: 2px;\n",
       "  margin-right: 10px;\n",
       "}\n",
       "\n",
       ".xr-obj-type {\n",
       "  color: var(--xr-font-color2);\n",
       "}\n",
       "\n",
       ".xr-sections {\n",
       "  padding-left: 0 !important;\n",
       "  display: grid;\n",
       "  grid-template-columns: 150px auto auto 1fr 0 20px 0 20px;\n",
       "}\n",
       "\n",
       ".xr-section-item {\n",
       "  display: contents;\n",
       "}\n",
       "\n",
       ".xr-section-item input {\n",
       "  display: inline-block;\n",
       "  opacity: 0;\n",
       "}\n",
       "\n",
       ".xr-section-item input + label {\n",
       "  color: var(--xr-disabled-color);\n",
       "}\n",
       "\n",
       ".xr-section-item input:enabled + label {\n",
       "  cursor: pointer;\n",
       "  color: var(--xr-font-color2);\n",
       "}\n",
       "\n",
       ".xr-section-item input:focus + label {\n",
       "  border: 2px solid var(--xr-font-color0);\n",
       "}\n",
       "\n",
       ".xr-section-item input:enabled + label:hover {\n",
       "  color: var(--xr-font-color0);\n",
       "}\n",
       "\n",
       ".xr-section-summary {\n",
       "  grid-column: 1;\n",
       "  color: var(--xr-font-color2);\n",
       "  font-weight: 500;\n",
       "}\n",
       "\n",
       ".xr-section-summary > span {\n",
       "  display: inline-block;\n",
       "  padding-left: 0.5em;\n",
       "}\n",
       "\n",
       ".xr-section-summary-in:disabled + label {\n",
       "  color: var(--xr-font-color2);\n",
       "}\n",
       "\n",
       ".xr-section-summary-in + label:before {\n",
       "  display: inline-block;\n",
       "  content: '►';\n",
       "  font-size: 11px;\n",
       "  width: 15px;\n",
       "  text-align: center;\n",
       "}\n",
       "\n",
       ".xr-section-summary-in:disabled + label:before {\n",
       "  color: var(--xr-disabled-color);\n",
       "}\n",
       "\n",
       ".xr-section-summary-in:checked + label:before {\n",
       "  content: '▼';\n",
       "}\n",
       "\n",
       ".xr-section-summary-in:checked + label > span {\n",
       "  display: none;\n",
       "}\n",
       "\n",
       ".xr-section-summary,\n",
       ".xr-section-inline-details {\n",
       "  padding-top: 4px;\n",
       "  padding-bottom: 4px;\n",
       "}\n",
       "\n",
       ".xr-section-inline-details {\n",
       "  grid-column: 2 / -1;\n",
       "}\n",
       "\n",
       ".xr-section-details {\n",
       "  display: none;\n",
       "  grid-column: 1 / -1;\n",
       "  margin-bottom: 5px;\n",
       "}\n",
       "\n",
       ".xr-section-summary-in:checked ~ .xr-section-details {\n",
       "  display: contents;\n",
       "}\n",
       "\n",
       ".xr-array-wrap {\n",
       "  grid-column: 1 / -1;\n",
       "  display: grid;\n",
       "  grid-template-columns: 20px auto;\n",
       "}\n",
       "\n",
       ".xr-array-wrap > label {\n",
       "  grid-column: 1;\n",
       "  vertical-align: top;\n",
       "}\n",
       "\n",
       ".xr-preview {\n",
       "  color: var(--xr-font-color3);\n",
       "}\n",
       "\n",
       ".xr-array-preview,\n",
       ".xr-array-data {\n",
       "  padding: 0 5px !important;\n",
       "  grid-column: 2;\n",
       "}\n",
       "\n",
       ".xr-array-data,\n",
       ".xr-array-in:checked ~ .xr-array-preview {\n",
       "  display: none;\n",
       "}\n",
       "\n",
       ".xr-array-in:checked ~ .xr-array-data,\n",
       ".xr-array-preview {\n",
       "  display: inline-block;\n",
       "}\n",
       "\n",
       ".xr-dim-list {\n",
       "  display: inline-block !important;\n",
       "  list-style: none;\n",
       "  padding: 0 !important;\n",
       "  margin: 0;\n",
       "}\n",
       "\n",
       ".xr-dim-list li {\n",
       "  display: inline-block;\n",
       "  padding: 0;\n",
       "  margin: 0;\n",
       "}\n",
       "\n",
       ".xr-dim-list:before {\n",
       "  content: '(';\n",
       "}\n",
       "\n",
       ".xr-dim-list:after {\n",
       "  content: ')';\n",
       "}\n",
       "\n",
       ".xr-dim-list li:not(:last-child):after {\n",
       "  content: ',';\n",
       "  padding-right: 5px;\n",
       "}\n",
       "\n",
       ".xr-has-index {\n",
       "  font-weight: bold;\n",
       "}\n",
       "\n",
       ".xr-var-list,\n",
       ".xr-var-item {\n",
       "  display: contents;\n",
       "}\n",
       "\n",
       ".xr-var-item > div,\n",
       ".xr-var-item label,\n",
       ".xr-var-item > .xr-var-name span {\n",
       "  background-color: var(--xr-background-color-row-even);\n",
       "  margin-bottom: 0;\n",
       "}\n",
       "\n",
       ".xr-var-item > .xr-var-name:hover span {\n",
       "  padding-right: 5px;\n",
       "}\n",
       "\n",
       ".xr-var-list > li:nth-child(odd) > div,\n",
       ".xr-var-list > li:nth-child(odd) > label,\n",
       ".xr-var-list > li:nth-child(odd) > .xr-var-name span {\n",
       "  background-color: var(--xr-background-color-row-odd);\n",
       "}\n",
       "\n",
       ".xr-var-name {\n",
       "  grid-column: 1;\n",
       "}\n",
       "\n",
       ".xr-var-dims {\n",
       "  grid-column: 2;\n",
       "}\n",
       "\n",
       ".xr-var-dtype {\n",
       "  grid-column: 3;\n",
       "  text-align: right;\n",
       "  color: var(--xr-font-color2);\n",
       "}\n",
       "\n",
       ".xr-var-preview {\n",
       "  grid-column: 4;\n",
       "}\n",
       "\n",
       ".xr-index-preview {\n",
       "  grid-column: 2 / 5;\n",
       "  color: var(--xr-font-color2);\n",
       "}\n",
       "\n",
       ".xr-var-name,\n",
       ".xr-var-dims,\n",
       ".xr-var-dtype,\n",
       ".xr-preview,\n",
       ".xr-attrs dt {\n",
       "  white-space: nowrap;\n",
       "  overflow: hidden;\n",
       "  text-overflow: ellipsis;\n",
       "  padding-right: 10px;\n",
       "}\n",
       "\n",
       ".xr-var-name:hover,\n",
       ".xr-var-dims:hover,\n",
       ".xr-var-dtype:hover,\n",
       ".xr-attrs dt:hover {\n",
       "  overflow: visible;\n",
       "  width: auto;\n",
       "  z-index: 1;\n",
       "}\n",
       "\n",
       ".xr-var-attrs,\n",
       ".xr-var-data,\n",
       ".xr-index-data {\n",
       "  display: none;\n",
       "  background-color: var(--xr-background-color) !important;\n",
       "  padding-bottom: 5px !important;\n",
       "}\n",
       "\n",
       ".xr-var-attrs-in:checked ~ .xr-var-attrs,\n",
       ".xr-var-data-in:checked ~ .xr-var-data,\n",
       ".xr-index-data-in:checked ~ .xr-index-data {\n",
       "  display: block;\n",
       "}\n",
       "\n",
       ".xr-var-data > table {\n",
       "  float: right;\n",
       "}\n",
       "\n",
       ".xr-var-name span,\n",
       ".xr-var-data,\n",
       ".xr-index-name div,\n",
       ".xr-index-data,\n",
       ".xr-attrs {\n",
       "  padding-left: 25px !important;\n",
       "}\n",
       "\n",
       ".xr-attrs,\n",
       ".xr-var-attrs,\n",
       ".xr-var-data,\n",
       ".xr-index-data {\n",
       "  grid-column: 1 / -1;\n",
       "}\n",
       "\n",
       "dl.xr-attrs {\n",
       "  padding: 0;\n",
       "  margin: 0;\n",
       "  display: grid;\n",
       "  grid-template-columns: 125px auto;\n",
       "}\n",
       "\n",
       ".xr-attrs dt,\n",
       ".xr-attrs dd {\n",
       "  padding: 0;\n",
       "  margin: 0;\n",
       "  float: left;\n",
       "  padding-right: 10px;\n",
       "  width: auto;\n",
       "}\n",
       "\n",
       ".xr-attrs dt {\n",
       "  font-weight: normal;\n",
       "  grid-column: 1;\n",
       "}\n",
       "\n",
       ".xr-attrs dt:hover span {\n",
       "  display: inline-block;\n",
       "  background: var(--xr-background-color);\n",
       "  padding-right: 10px;\n",
       "}\n",
       "\n",
       ".xr-attrs dd {\n",
       "  grid-column: 2;\n",
       "  white-space: pre-wrap;\n",
       "  word-break: break-all;\n",
       "}\n",
       "\n",
       ".xr-icon-database,\n",
       ".xr-icon-file-text2,\n",
       ".xr-no-icon {\n",
       "  display: inline-block;\n",
       "  vertical-align: middle;\n",
       "  width: 1em;\n",
       "  height: 1.5em !important;\n",
       "  stroke-width: 0;\n",
       "  stroke: currentColor;\n",
       "  fill: currentColor;\n",
       "}\n",
       "</style><pre class='xr-text-repr-fallback'>&lt;xarray.DataArray &#x27;t2m&#x27; (time: 24, latitude: 256, longitude: 256)&gt; Size: 6MB\n",
       "dask.array&lt;getitem, shape=(24, 256, 256), dtype=float32, chunksize=(24, 256, 256), chunktype=numpy.ndarray&gt;\n",
       "Coordinates:\n",
       "  * latitude   (latitude) float64 2kB 47.01 47.05 47.1 ... 58.13 58.18 58.22\n",
       "  * longitude  (longitude) float64 2kB 5.01 5.054 5.098 ... 16.13 16.17 16.22\n",
       "    step       timedelta64[ns] 8B ...\n",
       "    surface    float64 8B ...\n",
       "  * time       (time) datetime64[ns] 192B 2020-01-01 ... 2020-01-01T23:00:00\n",
       "Attributes:\n",
       "    units:    C</pre><div class='xr-wrap' style='display:none'><div class='xr-header'><div class='xr-obj-type'>xarray.DataArray</div><div class='xr-array-name'>'t2m'</div><ul class='xr-dim-list'><li><span class='xr-has-index'>time</span>: 24</li><li><span class='xr-has-index'>latitude</span>: 256</li><li><span class='xr-has-index'>longitude</span>: 256</li></ul></div><ul class='xr-sections'><li class='xr-section-item'><div class='xr-array-wrap'><input id='section-b70c8373-2b81-4252-ab90-df44af413b93' class='xr-array-in' type='checkbox' checked><label for='section-b70c8373-2b81-4252-ab90-df44af413b93' title='Show/hide data repr'><svg class='icon xr-icon-database'><use xlink:href='#icon-database'></use></svg></label><div class='xr-array-preview xr-preview'><span>dask.array&lt;chunksize=(24, 256, 256), meta=np.ndarray&gt;</span></div><div class='xr-array-data'><table>\n",
       "    <tr>\n",
       "        <td>\n",
       "            <table style=\"border-collapse: collapse;\">\n",
       "                <thead>\n",
       "                    <tr>\n",
       "                        <td> </td>\n",
       "                        <th> Array </th>\n",
       "                        <th> Chunk </th>\n",
       "                    </tr>\n",
       "                </thead>\n",
       "                <tbody>\n",
       "                    \n",
       "                    <tr>\n",
       "                        <th> Bytes </th>\n",
       "                        <td> 6.00 MiB </td>\n",
       "                        <td> 6.00 MiB </td>\n",
       "                    </tr>\n",
       "                    \n",
       "                    <tr>\n",
       "                        <th> Shape </th>\n",
       "                        <td> (24, 256, 256) </td>\n",
       "                        <td> (24, 256, 256) </td>\n",
       "                    </tr>\n",
       "                    <tr>\n",
       "                        <th> Dask graph </th>\n",
       "                        <td colspan=\"2\"> 1 chunks in 5 graph layers </td>\n",
       "                    </tr>\n",
       "                    <tr>\n",
       "                        <th> Data type </th>\n",
       "                        <td colspan=\"2\"> float32 numpy.ndarray </td>\n",
       "                    </tr>\n",
       "                </tbody>\n",
       "            </table>\n",
       "        </td>\n",
       "        <td>\n",
       "        <svg width=\"202\" height=\"192\" style=\"stroke:rgb(0,0,0);stroke-width:1\" >\n",
       "\n",
       "  <!-- Horizontal lines -->\n",
       "  <line x1=\"10\" y1=\"0\" x2=\"32\" y2=\"22\" style=\"stroke-width:2\" />\n",
       "  <line x1=\"10\" y1=\"120\" x2=\"32\" y2=\"142\" style=\"stroke-width:2\" />\n",
       "\n",
       "  <!-- Vertical lines -->\n",
       "  <line x1=\"10\" y1=\"0\" x2=\"10\" y2=\"120\" style=\"stroke-width:2\" />\n",
       "  <line x1=\"32\" y1=\"22\" x2=\"32\" y2=\"142\" style=\"stroke-width:2\" />\n",
       "\n",
       "  <!-- Colored Rectangle -->\n",
       "  <polygon points=\"10.0,0.0 32.491872383141754,22.49187238314175 32.491872383141754,142.49187238314175 10.0,120.0\" style=\"fill:#ECB172A0;stroke-width:0\"/>\n",
       "\n",
       "  <!-- Horizontal lines -->\n",
       "  <line x1=\"10\" y1=\"0\" x2=\"130\" y2=\"0\" style=\"stroke-width:2\" />\n",
       "  <line x1=\"32\" y1=\"22\" x2=\"152\" y2=\"22\" style=\"stroke-width:2\" />\n",
       "\n",
       "  <!-- Vertical lines -->\n",
       "  <line x1=\"10\" y1=\"0\" x2=\"32\" y2=\"22\" style=\"stroke-width:2\" />\n",
       "  <line x1=\"130\" y1=\"0\" x2=\"152\" y2=\"22\" style=\"stroke-width:2\" />\n",
       "\n",
       "  <!-- Colored Rectangle -->\n",
       "  <polygon points=\"10.0,0.0 130.0,0.0 152.49187238314175,22.49187238314175 32.491872383141754,22.49187238314175\" style=\"fill:#ECB172A0;stroke-width:0\"/>\n",
       "\n",
       "  <!-- Horizontal lines -->\n",
       "  <line x1=\"32\" y1=\"22\" x2=\"152\" y2=\"22\" style=\"stroke-width:2\" />\n",
       "  <line x1=\"32\" y1=\"142\" x2=\"152\" y2=\"142\" style=\"stroke-width:2\" />\n",
       "\n",
       "  <!-- Vertical lines -->\n",
       "  <line x1=\"32\" y1=\"22\" x2=\"32\" y2=\"142\" style=\"stroke-width:2\" />\n",
       "  <line x1=\"152\" y1=\"22\" x2=\"152\" y2=\"142\" style=\"stroke-width:2\" />\n",
       "\n",
       "  <!-- Colored Rectangle -->\n",
       "  <polygon points=\"32.491872383141754,22.49187238314175 152.49187238314175,22.49187238314175 152.49187238314175,142.49187238314175 32.491872383141754,142.49187238314175\" style=\"fill:#ECB172A0;stroke-width:0\"/>\n",
       "\n",
       "  <!-- Text -->\n",
       "  <text x=\"92.491872\" y=\"162.491872\" font-size=\"1.0rem\" font-weight=\"100\" text-anchor=\"middle\" >256</text>\n",
       "  <text x=\"172.491872\" y=\"82.491872\" font-size=\"1.0rem\" font-weight=\"100\" text-anchor=\"middle\" transform=\"rotate(-90,172.491872,82.491872)\">256</text>\n",
       "  <text x=\"11.245936\" y=\"151.245936\" font-size=\"1.0rem\" font-weight=\"100\" text-anchor=\"middle\" transform=\"rotate(45,11.245936,151.245936)\">24</text>\n",
       "</svg>\n",
       "        </td>\n",
       "    </tr>\n",
       "</table></div></div></li><li class='xr-section-item'><input id='section-909509af-07a9-44c1-b740-e72a95ae57ce' class='xr-section-summary-in' type='checkbox'  checked><label for='section-909509af-07a9-44c1-b740-e72a95ae57ce' class='xr-section-summary' >Coordinates: <span>(5)</span></label><div class='xr-section-inline-details'></div><div class='xr-section-details'><ul class='xr-var-list'><li class='xr-var-item'><div class='xr-var-name'><span class='xr-has-index'>latitude</span></div><div class='xr-var-dims'>(latitude)</div><div class='xr-var-dtype'>float64</div><div class='xr-var-preview xr-preview'>47.01 47.05 47.1 ... 58.18 58.22</div><input id='attrs-71135337-d75a-4ef0-8dc6-f6878626b665' class='xr-var-attrs-in' type='checkbox' ><label for='attrs-71135337-d75a-4ef0-8dc6-f6878626b665' title='Show/Hide attributes'><svg class='icon xr-icon-file-text2'><use xlink:href='#icon-file-text2'></use></svg></label><input id='data-bdcd4403-dcbd-4d19-bfbd-dfb3a7f6e34b' class='xr-var-data-in' type='checkbox'><label for='data-bdcd4403-dcbd-4d19-bfbd-dfb3a7f6e34b' title='Show/Hide data repr'><svg class='icon xr-icon-database'><use xlink:href='#icon-database'></use></svg></label><div class='xr-var-attrs'><dl class='xr-attrs'><dt><span>long_name :</span></dt><dd>latitude</dd><dt><span>standard_name :</span></dt><dd>latitude</dd><dt><span>units :</span></dt><dd>degrees_north</dd></dl></div><div class='xr-var-data'><pre>array([47.010989, 47.054945, 47.098901, ..., 58.131868, 58.175824, 58.21978 ])</pre></div></li><li class='xr-var-item'><div class='xr-var-name'><span class='xr-has-index'>longitude</span></div><div class='xr-var-dims'>(longitude)</div><div class='xr-var-dtype'>float64</div><div class='xr-var-preview xr-preview'>5.01 5.054 5.098 ... 16.17 16.22</div><input id='attrs-5f99655d-5c6e-4ceb-9538-41dd376d7eee' class='xr-var-attrs-in' type='checkbox' ><label for='attrs-5f99655d-5c6e-4ceb-9538-41dd376d7eee' title='Show/Hide attributes'><svg class='icon xr-icon-file-text2'><use xlink:href='#icon-file-text2'></use></svg></label><input id='data-3ec96d72-88a0-43b7-8440-bd03a5e6944a' class='xr-var-data-in' type='checkbox'><label for='data-3ec96d72-88a0-43b7-8440-bd03a5e6944a' title='Show/Hide data repr'><svg class='icon xr-icon-database'><use xlink:href='#icon-database'></use></svg></label><div class='xr-var-attrs'><dl class='xr-attrs'><dt><span>long_name :</span></dt><dd>longitude</dd><dt><span>standard_name :</span></dt><dd>longitude</dd><dt><span>units :</span></dt><dd>degrees_east</dd></dl></div><div class='xr-var-data'><pre>array([ 5.009766,  5.053711,  5.097656, ..., 16.12793 , 16.171875, 16.21582 ])</pre></div></li><li class='xr-var-item'><div class='xr-var-name'><span>step</span></div><div class='xr-var-dims'>()</div><div class='xr-var-dtype'>timedelta64[ns]</div><div class='xr-var-preview xr-preview'>...</div><input id='attrs-59af5719-b9b8-4fd6-ba3b-b3ff8d438ff2' class='xr-var-attrs-in' type='checkbox' ><label for='attrs-59af5719-b9b8-4fd6-ba3b-b3ff8d438ff2' title='Show/Hide attributes'><svg class='icon xr-icon-file-text2'><use xlink:href='#icon-file-text2'></use></svg></label><input id='data-f74707c0-c17d-4be9-835a-1cb575341693' class='xr-var-data-in' type='checkbox'><label for='data-f74707c0-c17d-4be9-835a-1cb575341693' title='Show/Hide data repr'><svg class='icon xr-icon-database'><use xlink:href='#icon-database'></use></svg></label><div class='xr-var-attrs'><dl class='xr-attrs'><dt><span>long_name :</span></dt><dd>time since forecast_reference_time</dd><dt><span>standard_name :</span></dt><dd>forecast_period</dd></dl></div><div class='xr-var-data'><pre>[1 values with dtype=timedelta64[ns]]</pre></div></li><li class='xr-var-item'><div class='xr-var-name'><span>surface</span></div><div class='xr-var-dims'>()</div><div class='xr-var-dtype'>float64</div><div class='xr-var-preview xr-preview'>...</div><input id='attrs-662cb7cd-5bf5-4bd8-8e19-55765a5bd34a' class='xr-var-attrs-in' type='checkbox' ><label for='attrs-662cb7cd-5bf5-4bd8-8e19-55765a5bd34a' title='Show/Hide attributes'><svg class='icon xr-icon-file-text2'><use xlink:href='#icon-file-text2'></use></svg></label><input id='data-3e81b3f4-b8d6-46bd-a70f-3214130a40f6' class='xr-var-data-in' type='checkbox'><label for='data-3e81b3f4-b8d6-46bd-a70f-3214130a40f6' title='Show/Hide data repr'><svg class='icon xr-icon-database'><use xlink:href='#icon-database'></use></svg></label><div class='xr-var-attrs'><dl class='xr-attrs'><dt><span>long_name :</span></dt><dd>original GRIB coordinate for key: level(surface)</dd><dt><span>units :</span></dt><dd>1</dd></dl></div><div class='xr-var-data'><pre>[1 values with dtype=float64]</pre></div></li><li class='xr-var-item'><div class='xr-var-name'><span class='xr-has-index'>time</span></div><div class='xr-var-dims'>(time)</div><div class='xr-var-dtype'>datetime64[ns]</div><div class='xr-var-preview xr-preview'>2020-01-01 ... 2020-01-01T23:00:00</div><input id='attrs-952ed665-9aba-4765-ae54-45c426e5d944' class='xr-var-attrs-in' type='checkbox' disabled><label for='attrs-952ed665-9aba-4765-ae54-45c426e5d944' title='Show/Hide attributes'><svg class='icon xr-icon-file-text2'><use xlink:href='#icon-file-text2'></use></svg></label><input id='data-890abee4-a41b-4aea-8864-5640f8ead78b' class='xr-var-data-in' type='checkbox'><label for='data-890abee4-a41b-4aea-8864-5640f8ead78b' title='Show/Hide data repr'><svg class='icon xr-icon-database'><use xlink:href='#icon-database'></use></svg></label><div class='xr-var-attrs'><dl class='xr-attrs'></dl></div><div class='xr-var-data'><pre>array([&#x27;2020-01-01T00:00:00.000000000&#x27;, &#x27;2020-01-01T01:00:00.000000000&#x27;,\n",
       "       &#x27;2020-01-01T02:00:00.000000000&#x27;, &#x27;2020-01-01T03:00:00.000000000&#x27;,\n",
       "       &#x27;2020-01-01T04:00:00.000000000&#x27;, &#x27;2020-01-01T05:00:00.000000000&#x27;,\n",
       "       &#x27;2020-01-01T06:00:00.000000000&#x27;, &#x27;2020-01-01T07:00:00.000000000&#x27;,\n",
       "       &#x27;2020-01-01T08:00:00.000000000&#x27;, &#x27;2020-01-01T09:00:00.000000000&#x27;,\n",
       "       &#x27;2020-01-01T10:00:00.000000000&#x27;, &#x27;2020-01-01T11:00:00.000000000&#x27;,\n",
       "       &#x27;2020-01-01T12:00:00.000000000&#x27;, &#x27;2020-01-01T13:00:00.000000000&#x27;,\n",
       "       &#x27;2020-01-01T14:00:00.000000000&#x27;, &#x27;2020-01-01T15:00:00.000000000&#x27;,\n",
       "       &#x27;2020-01-01T16:00:00.000000000&#x27;, &#x27;2020-01-01T17:00:00.000000000&#x27;,\n",
       "       &#x27;2020-01-01T18:00:00.000000000&#x27;, &#x27;2020-01-01T19:00:00.000000000&#x27;,\n",
       "       &#x27;2020-01-01T20:00:00.000000000&#x27;, &#x27;2020-01-01T21:00:00.000000000&#x27;,\n",
       "       &#x27;2020-01-01T22:00:00.000000000&#x27;, &#x27;2020-01-01T23:00:00.000000000&#x27;],\n",
       "      dtype=&#x27;datetime64[ns]&#x27;)</pre></div></li></ul></div></li><li class='xr-section-item'><input id='section-053ba1d9-2e9f-44be-b2a4-d4bc6208681c' class='xr-section-summary-in' type='checkbox'  ><label for='section-053ba1d9-2e9f-44be-b2a4-d4bc6208681c' class='xr-section-summary' >Indexes: <span>(3)</span></label><div class='xr-section-inline-details'></div><div class='xr-section-details'><ul class='xr-var-list'><li class='xr-var-item'><div class='xr-index-name'><div>latitude</div></div><div class='xr-index-preview'>PandasIndex</div><div></div><input id='index-00df3f46-654d-481c-a553-9ea54139af31' class='xr-index-data-in' type='checkbox'/><label for='index-00df3f46-654d-481c-a553-9ea54139af31' title='Show/Hide index repr'><svg class='icon xr-icon-database'><use xlink:href='#icon-database'></use></svg></label><div class='xr-index-data'><pre>PandasIndex(Index([ 47.01098901098902,  47.05494505494508,  47.09890109890111,\n",
       "        47.14285714285717,   47.1868131868132, 47.230769230769255,\n",
       "        47.27472527472529,  47.31868131868134,  47.36263736263737,\n",
       "        47.40659340659343,\n",
       "       ...\n",
       "       57.824175824175825,  57.86813186813188,  57.91208791208791,\n",
       "        57.95604395604397,  58.00000000000001, 58.043956043956065,\n",
       "        58.08791208791209, 58.131868131868146, 58.175824175824175,\n",
       "        58.21978021978023],\n",
       "      dtype=&#x27;float64&#x27;, name=&#x27;latitude&#x27;, length=256))</pre></div></li><li class='xr-var-item'><div class='xr-index-name'><div>longitude</div></div><div class='xr-index-preview'>PandasIndex</div><div></div><input id='index-a8b16944-3c50-40e6-815e-e25d9971e457' class='xr-index-data-in' type='checkbox'/><label for='index-a8b16944-3c50-40e6-815e-e25d9971e457' title='Show/Hide index repr'><svg class='icon xr-icon-database'><use xlink:href='#icon-database'></use></svg></label><div class='xr-index-data'><pre>PandasIndex(Index([ 5.009765625000001,       5.0537109375,         5.09765625,\n",
       "             5.1416015625,        5.185546875,       5.2294921875,\n",
       "                5.2734375,       5.3173828125,        5.361328125,\n",
       "             5.4052734375,\n",
       "       ...\n",
       "               15.8203125, 15.864257812500002,       15.908203125,\n",
       "       15.952148437500002,        15.99609375,      16.0400390625,\n",
       "             16.083984375,      16.1279296875,          16.171875,\n",
       "            16.2158203125],\n",
       "      dtype=&#x27;float64&#x27;, name=&#x27;longitude&#x27;, length=256))</pre></div></li><li class='xr-var-item'><div class='xr-index-name'><div>time</div></div><div class='xr-index-preview'>PandasIndex</div><div></div><input id='index-e6eb4608-efc2-4799-9b36-ac2230b09e41' class='xr-index-data-in' type='checkbox'/><label for='index-e6eb4608-efc2-4799-9b36-ac2230b09e41' title='Show/Hide index repr'><svg class='icon xr-icon-database'><use xlink:href='#icon-database'></use></svg></label><div class='xr-index-data'><pre>PandasIndex(DatetimeIndex([&#x27;2020-01-01 00:00:00&#x27;, &#x27;2020-01-01 01:00:00&#x27;,\n",
       "               &#x27;2020-01-01 02:00:00&#x27;, &#x27;2020-01-01 03:00:00&#x27;,\n",
       "               &#x27;2020-01-01 04:00:00&#x27;, &#x27;2020-01-01 05:00:00&#x27;,\n",
       "               &#x27;2020-01-01 06:00:00&#x27;, &#x27;2020-01-01 07:00:00&#x27;,\n",
       "               &#x27;2020-01-01 08:00:00&#x27;, &#x27;2020-01-01 09:00:00&#x27;,\n",
       "               &#x27;2020-01-01 10:00:00&#x27;, &#x27;2020-01-01 11:00:00&#x27;,\n",
       "               &#x27;2020-01-01 12:00:00&#x27;, &#x27;2020-01-01 13:00:00&#x27;,\n",
       "               &#x27;2020-01-01 14:00:00&#x27;, &#x27;2020-01-01 15:00:00&#x27;,\n",
       "               &#x27;2020-01-01 16:00:00&#x27;, &#x27;2020-01-01 17:00:00&#x27;,\n",
       "               &#x27;2020-01-01 18:00:00&#x27;, &#x27;2020-01-01 19:00:00&#x27;,\n",
       "               &#x27;2020-01-01 20:00:00&#x27;, &#x27;2020-01-01 21:00:00&#x27;,\n",
       "               &#x27;2020-01-01 22:00:00&#x27;, &#x27;2020-01-01 23:00:00&#x27;],\n",
       "              dtype=&#x27;datetime64[ns]&#x27;, name=&#x27;time&#x27;, freq=None))</pre></div></li></ul></div></li><li class='xr-section-item'><input id='section-d418c668-5c28-40a0-be0f-baf3c1133730' class='xr-section-summary-in' type='checkbox'  checked><label for='section-d418c668-5c28-40a0-be0f-baf3c1133730' class='xr-section-summary' >Attributes: <span>(1)</span></label><div class='xr-section-inline-details'></div><div class='xr-section-details'><dl class='xr-attrs'><dt><span>units :</span></dt><dd>C</dd></dl></div></li></ul></div></div>"
      ],
      "text/plain": [
       "<xarray.DataArray 't2m' (time: 24, latitude: 256, longitude: 256)> Size: 6MB\n",
       "dask.array<getitem, shape=(24, 256, 256), dtype=float32, chunksize=(24, 256, 256), chunktype=numpy.ndarray>\n",
       "Coordinates:\n",
       "  * latitude   (latitude) float64 2kB 47.01 47.05 47.1 ... 58.13 58.18 58.22\n",
       "  * longitude  (longitude) float64 2kB 5.01 5.054 5.098 ... 16.13 16.17 16.22\n",
       "    step       timedelta64[ns] 8B ...\n",
       "    surface    float64 8B ...\n",
       "  * time       (time) datetime64[ns] 192B 2020-01-01 ... 2020-01-01T23:00:00\n",
       "Attributes:\n",
       "    units:    C"
      ]
     },
     "execution_count": 5,
     "metadata": {},
     "output_type": "execute_result"
    }
   ],
   "source": [
    "data = xr.open_dataset(\n",
    "        \"https://cacheb.dcms.destine.eu/d1-climate-dt/ScenarioMIP-SSP3-7.0-IFS-NEMO-0001-high-sfc-v0.zarr\",\n",
    "        engine=\"zarr\",\n",
    "        storage_options={\"client_kwargs\": {\"trust_env\": \"true\"}},\n",
    "        chunks={},\n",
    "    )\n",
    "t2m_hr = data.t2m.astype(\"float32\") - 273.15\n",
    "t2m_hr.attrs[\"units\"] = \"C\"\n",
    "hr = t2m_hr.sel(**{\"latitude\": slice(47, 58.22), \"longitude\": slice(5, 16.25)})\n",
    "hr = hr.sel(time=\"2020-01-01\")\n",
    "hr"
   ]
  },
  {
   "cell_type": "code",
   "execution_count": 6,
   "id": "84b7fa8a",
   "metadata": {},
   "outputs": [
    {
     "data": {
      "text/html": [
       "<div><svg style=\"position: absolute; width: 0; height: 0; overflow: hidden\">\n",
       "<defs>\n",
       "<symbol id=\"icon-database\" viewBox=\"0 0 32 32\">\n",
       "<path d=\"M16 0c-8.837 0-16 2.239-16 5v4c0 2.761 7.163 5 16 5s16-2.239 16-5v-4c0-2.761-7.163-5-16-5z\"></path>\n",
       "<path d=\"M16 17c-8.837 0-16-2.239-16-5v6c0 2.761 7.163 5 16 5s16-2.239 16-5v-6c0 2.761-7.163 5-16 5z\"></path>\n",
       "<path d=\"M16 26c-8.837 0-16-2.239-16-5v6c0 2.761 7.163 5 16 5s16-2.239 16-5v-6c0 2.761-7.163 5-16 5z\"></path>\n",
       "</symbol>\n",
       "<symbol id=\"icon-file-text2\" viewBox=\"0 0 32 32\">\n",
       "<path d=\"M28.681 7.159c-0.694-0.947-1.662-2.053-2.724-3.116s-2.169-2.030-3.116-2.724c-1.612-1.182-2.393-1.319-2.841-1.319h-15.5c-1.378 0-2.5 1.121-2.5 2.5v27c0 1.378 1.122 2.5 2.5 2.5h23c1.378 0 2.5-1.122 2.5-2.5v-19.5c0-0.448-0.137-1.23-1.319-2.841zM24.543 5.457c0.959 0.959 1.712 1.825 2.268 2.543h-4.811v-4.811c0.718 0.556 1.584 1.309 2.543 2.268zM28 29.5c0 0.271-0.229 0.5-0.5 0.5h-23c-0.271 0-0.5-0.229-0.5-0.5v-27c0-0.271 0.229-0.5 0.5-0.5 0 0 15.499-0 15.5 0v7c0 0.552 0.448 1 1 1h7v19.5z\"></path>\n",
       "<path d=\"M23 26h-14c-0.552 0-1-0.448-1-1s0.448-1 1-1h14c0.552 0 1 0.448 1 1s-0.448 1-1 1z\"></path>\n",
       "<path d=\"M23 22h-14c-0.552 0-1-0.448-1-1s0.448-1 1-1h14c0.552 0 1 0.448 1 1s-0.448 1-1 1z\"></path>\n",
       "<path d=\"M23 18h-14c-0.552 0-1-0.448-1-1s0.448-1 1-1h14c0.552 0 1 0.448 1 1s-0.448 1-1 1z\"></path>\n",
       "</symbol>\n",
       "</defs>\n",
       "</svg>\n",
       "<style>/* CSS stylesheet for displaying xarray objects in jupyterlab.\n",
       " *\n",
       " */\n",
       "\n",
       ":root {\n",
       "  --xr-font-color0: var(--jp-content-font-color0, rgba(0, 0, 0, 1));\n",
       "  --xr-font-color2: var(--jp-content-font-color2, rgba(0, 0, 0, 0.54));\n",
       "  --xr-font-color3: var(--jp-content-font-color3, rgba(0, 0, 0, 0.38));\n",
       "  --xr-border-color: var(--jp-border-color2, #e0e0e0);\n",
       "  --xr-disabled-color: var(--jp-layout-color3, #bdbdbd);\n",
       "  --xr-background-color: var(--jp-layout-color0, white);\n",
       "  --xr-background-color-row-even: var(--jp-layout-color1, white);\n",
       "  --xr-background-color-row-odd: var(--jp-layout-color2, #eeeeee);\n",
       "}\n",
       "\n",
       "html[theme=dark],\n",
       "html[data-theme=dark],\n",
       "body[data-theme=dark],\n",
       "body.vscode-dark {\n",
       "  --xr-font-color0: rgba(255, 255, 255, 1);\n",
       "  --xr-font-color2: rgba(255, 255, 255, 0.54);\n",
       "  --xr-font-color3: rgba(255, 255, 255, 0.38);\n",
       "  --xr-border-color: #1F1F1F;\n",
       "  --xr-disabled-color: #515151;\n",
       "  --xr-background-color: #111111;\n",
       "  --xr-background-color-row-even: #111111;\n",
       "  --xr-background-color-row-odd: #313131;\n",
       "}\n",
       "\n",
       ".xr-wrap {\n",
       "  display: block !important;\n",
       "  min-width: 300px;\n",
       "  max-width: 700px;\n",
       "}\n",
       "\n",
       ".xr-text-repr-fallback {\n",
       "  /* fallback to plain text repr when CSS is not injected (untrusted notebook) */\n",
       "  display: none;\n",
       "}\n",
       "\n",
       ".xr-header {\n",
       "  padding-top: 6px;\n",
       "  padding-bottom: 6px;\n",
       "  margin-bottom: 4px;\n",
       "  border-bottom: solid 1px var(--xr-border-color);\n",
       "}\n",
       "\n",
       ".xr-header > div,\n",
       ".xr-header > ul {\n",
       "  display: inline;\n",
       "  margin-top: 0;\n",
       "  margin-bottom: 0;\n",
       "}\n",
       "\n",
       ".xr-obj-type,\n",
       ".xr-array-name {\n",
       "  margin-left: 2px;\n",
       "  margin-right: 10px;\n",
       "}\n",
       "\n",
       ".xr-obj-type {\n",
       "  color: var(--xr-font-color2);\n",
       "}\n",
       "\n",
       ".xr-sections {\n",
       "  padding-left: 0 !important;\n",
       "  display: grid;\n",
       "  grid-template-columns: 150px auto auto 1fr 0 20px 0 20px;\n",
       "}\n",
       "\n",
       ".xr-section-item {\n",
       "  display: contents;\n",
       "}\n",
       "\n",
       ".xr-section-item input {\n",
       "  display: inline-block;\n",
       "  opacity: 0;\n",
       "}\n",
       "\n",
       ".xr-section-item input + label {\n",
       "  color: var(--xr-disabled-color);\n",
       "}\n",
       "\n",
       ".xr-section-item input:enabled + label {\n",
       "  cursor: pointer;\n",
       "  color: var(--xr-font-color2);\n",
       "}\n",
       "\n",
       ".xr-section-item input:focus + label {\n",
       "  border: 2px solid var(--xr-font-color0);\n",
       "}\n",
       "\n",
       ".xr-section-item input:enabled + label:hover {\n",
       "  color: var(--xr-font-color0);\n",
       "}\n",
       "\n",
       ".xr-section-summary {\n",
       "  grid-column: 1;\n",
       "  color: var(--xr-font-color2);\n",
       "  font-weight: 500;\n",
       "}\n",
       "\n",
       ".xr-section-summary > span {\n",
       "  display: inline-block;\n",
       "  padding-left: 0.5em;\n",
       "}\n",
       "\n",
       ".xr-section-summary-in:disabled + label {\n",
       "  color: var(--xr-font-color2);\n",
       "}\n",
       "\n",
       ".xr-section-summary-in + label:before {\n",
       "  display: inline-block;\n",
       "  content: '►';\n",
       "  font-size: 11px;\n",
       "  width: 15px;\n",
       "  text-align: center;\n",
       "}\n",
       "\n",
       ".xr-section-summary-in:disabled + label:before {\n",
       "  color: var(--xr-disabled-color);\n",
       "}\n",
       "\n",
       ".xr-section-summary-in:checked + label:before {\n",
       "  content: '▼';\n",
       "}\n",
       "\n",
       ".xr-section-summary-in:checked + label > span {\n",
       "  display: none;\n",
       "}\n",
       "\n",
       ".xr-section-summary,\n",
       ".xr-section-inline-details {\n",
       "  padding-top: 4px;\n",
       "  padding-bottom: 4px;\n",
       "}\n",
       "\n",
       ".xr-section-inline-details {\n",
       "  grid-column: 2 / -1;\n",
       "}\n",
       "\n",
       ".xr-section-details {\n",
       "  display: none;\n",
       "  grid-column: 1 / -1;\n",
       "  margin-bottom: 5px;\n",
       "}\n",
       "\n",
       ".xr-section-summary-in:checked ~ .xr-section-details {\n",
       "  display: contents;\n",
       "}\n",
       "\n",
       ".xr-array-wrap {\n",
       "  grid-column: 1 / -1;\n",
       "  display: grid;\n",
       "  grid-template-columns: 20px auto;\n",
       "}\n",
       "\n",
       ".xr-array-wrap > label {\n",
       "  grid-column: 1;\n",
       "  vertical-align: top;\n",
       "}\n",
       "\n",
       ".xr-preview {\n",
       "  color: var(--xr-font-color3);\n",
       "}\n",
       "\n",
       ".xr-array-preview,\n",
       ".xr-array-data {\n",
       "  padding: 0 5px !important;\n",
       "  grid-column: 2;\n",
       "}\n",
       "\n",
       ".xr-array-data,\n",
       ".xr-array-in:checked ~ .xr-array-preview {\n",
       "  display: none;\n",
       "}\n",
       "\n",
       ".xr-array-in:checked ~ .xr-array-data,\n",
       ".xr-array-preview {\n",
       "  display: inline-block;\n",
       "}\n",
       "\n",
       ".xr-dim-list {\n",
       "  display: inline-block !important;\n",
       "  list-style: none;\n",
       "  padding: 0 !important;\n",
       "  margin: 0;\n",
       "}\n",
       "\n",
       ".xr-dim-list li {\n",
       "  display: inline-block;\n",
       "  padding: 0;\n",
       "  margin: 0;\n",
       "}\n",
       "\n",
       ".xr-dim-list:before {\n",
       "  content: '(';\n",
       "}\n",
       "\n",
       ".xr-dim-list:after {\n",
       "  content: ')';\n",
       "}\n",
       "\n",
       ".xr-dim-list li:not(:last-child):after {\n",
       "  content: ',';\n",
       "  padding-right: 5px;\n",
       "}\n",
       "\n",
       ".xr-has-index {\n",
       "  font-weight: bold;\n",
       "}\n",
       "\n",
       ".xr-var-list,\n",
       ".xr-var-item {\n",
       "  display: contents;\n",
       "}\n",
       "\n",
       ".xr-var-item > div,\n",
       ".xr-var-item label,\n",
       ".xr-var-item > .xr-var-name span {\n",
       "  background-color: var(--xr-background-color-row-even);\n",
       "  margin-bottom: 0;\n",
       "}\n",
       "\n",
       ".xr-var-item > .xr-var-name:hover span {\n",
       "  padding-right: 5px;\n",
       "}\n",
       "\n",
       ".xr-var-list > li:nth-child(odd) > div,\n",
       ".xr-var-list > li:nth-child(odd) > label,\n",
       ".xr-var-list > li:nth-child(odd) > .xr-var-name span {\n",
       "  background-color: var(--xr-background-color-row-odd);\n",
       "}\n",
       "\n",
       ".xr-var-name {\n",
       "  grid-column: 1;\n",
       "}\n",
       "\n",
       ".xr-var-dims {\n",
       "  grid-column: 2;\n",
       "}\n",
       "\n",
       ".xr-var-dtype {\n",
       "  grid-column: 3;\n",
       "  text-align: right;\n",
       "  color: var(--xr-font-color2);\n",
       "}\n",
       "\n",
       ".xr-var-preview {\n",
       "  grid-column: 4;\n",
       "}\n",
       "\n",
       ".xr-index-preview {\n",
       "  grid-column: 2 / 5;\n",
       "  color: var(--xr-font-color2);\n",
       "}\n",
       "\n",
       ".xr-var-name,\n",
       ".xr-var-dims,\n",
       ".xr-var-dtype,\n",
       ".xr-preview,\n",
       ".xr-attrs dt {\n",
       "  white-space: nowrap;\n",
       "  overflow: hidden;\n",
       "  text-overflow: ellipsis;\n",
       "  padding-right: 10px;\n",
       "}\n",
       "\n",
       ".xr-var-name:hover,\n",
       ".xr-var-dims:hover,\n",
       ".xr-var-dtype:hover,\n",
       ".xr-attrs dt:hover {\n",
       "  overflow: visible;\n",
       "  width: auto;\n",
       "  z-index: 1;\n",
       "}\n",
       "\n",
       ".xr-var-attrs,\n",
       ".xr-var-data,\n",
       ".xr-index-data {\n",
       "  display: none;\n",
       "  background-color: var(--xr-background-color) !important;\n",
       "  padding-bottom: 5px !important;\n",
       "}\n",
       "\n",
       ".xr-var-attrs-in:checked ~ .xr-var-attrs,\n",
       ".xr-var-data-in:checked ~ .xr-var-data,\n",
       ".xr-index-data-in:checked ~ .xr-index-data {\n",
       "  display: block;\n",
       "}\n",
       "\n",
       ".xr-var-data > table {\n",
       "  float: right;\n",
       "}\n",
       "\n",
       ".xr-var-name span,\n",
       ".xr-var-data,\n",
       ".xr-index-name div,\n",
       ".xr-index-data,\n",
       ".xr-attrs {\n",
       "  padding-left: 25px !important;\n",
       "}\n",
       "\n",
       ".xr-attrs,\n",
       ".xr-var-attrs,\n",
       ".xr-var-data,\n",
       ".xr-index-data {\n",
       "  grid-column: 1 / -1;\n",
       "}\n",
       "\n",
       "dl.xr-attrs {\n",
       "  padding: 0;\n",
       "  margin: 0;\n",
       "  display: grid;\n",
       "  grid-template-columns: 125px auto;\n",
       "}\n",
       "\n",
       ".xr-attrs dt,\n",
       ".xr-attrs dd {\n",
       "  padding: 0;\n",
       "  margin: 0;\n",
       "  float: left;\n",
       "  padding-right: 10px;\n",
       "  width: auto;\n",
       "}\n",
       "\n",
       ".xr-attrs dt {\n",
       "  font-weight: normal;\n",
       "  grid-column: 1;\n",
       "}\n",
       "\n",
       ".xr-attrs dt:hover span {\n",
       "  display: inline-block;\n",
       "  background: var(--xr-background-color);\n",
       "  padding-right: 10px;\n",
       "}\n",
       "\n",
       ".xr-attrs dd {\n",
       "  grid-column: 2;\n",
       "  white-space: pre-wrap;\n",
       "  word-break: break-all;\n",
       "}\n",
       "\n",
       ".xr-icon-database,\n",
       ".xr-icon-file-text2,\n",
       ".xr-no-icon {\n",
       "  display: inline-block;\n",
       "  vertical-align: middle;\n",
       "  width: 1em;\n",
       "  height: 1.5em !important;\n",
       "  stroke-width: 0;\n",
       "  stroke: currentColor;\n",
       "  fill: currentColor;\n",
       "}\n",
       "</style><pre class='xr-text-repr-fallback'>&lt;xarray.Dataset&gt; Size: 188TB\n",
       "Dimensions:            (time: 175320, latitude: 4096, longitude: 8193)\n",
       "Coordinates:\n",
       "  * latitude           (latitude) float64 33kB -90.0 -89.96 ... 89.96 90.0\n",
       "  * longitude          (longitude) float64 66kB -180.0 -180.0 ... 180.0 180.0\n",
       "    step               timedelta64[ns] 8B ...\n",
       "    surface            float64 8B ...\n",
       "  * time               (time) datetime64[ns] 1MB 2020-01-01 ... 2039-12-31T23...\n",
       "Data variables:\n",
       "    d2m                (time, latitude, longitude) float32 24TB dask.array&lt;chunksize=(48, 512, 512), meta=np.ndarray&gt;\n",
       "    heightAboveGround  float64 8B ...\n",
       "    sd                 (time, latitude, longitude) float32 24TB dask.array&lt;chunksize=(48, 512, 512), meta=np.ndarray&gt;\n",
       "    ssr                (time, latitude, longitude) float32 24TB dask.array&lt;chunksize=(48, 512, 512), meta=np.ndarray&gt;\n",
       "    str                (time, latitude, longitude) float32 24TB dask.array&lt;chunksize=(48, 512, 512), meta=np.ndarray&gt;\n",
       "    t2m                (time, latitude, longitude) float32 24TB dask.array&lt;chunksize=(48, 512, 512), meta=np.ndarray&gt;\n",
       "    tprate             (time, latitude, longitude) float32 24TB dask.array&lt;chunksize=(48, 512, 512), meta=np.ndarray&gt;\n",
       "    u10                (time, latitude, longitude) float32 24TB dask.array&lt;chunksize=(48, 512, 512), meta=np.ndarray&gt;\n",
       "    v10                (time, latitude, longitude) float32 24TB dask.array&lt;chunksize=(48, 512, 512), meta=np.ndarray&gt;\n",
       "Attributes:\n",
       "    Conventions:             CF-1.7\n",
       "    GRIB_centre:             ecmf\n",
       "    GRIB_centreDescription:  European Centre for Medium-Range Weather Forecasts\n",
       "    GRIB_edition:            2\n",
       "    GRIB_subCentre:          1003\n",
       "    history:                 2024-06-06T16:50 GRIB to CDM+CF via cfgrib-0.9.1...\n",
       "    institution:             European Centre for Medium-Range Weather Forecasts</pre><div class='xr-wrap' style='display:none'><div class='xr-header'><div class='xr-obj-type'>xarray.Dataset</div></div><ul class='xr-sections'><li class='xr-section-item'><input id='section-adc4cd52-4c59-4449-8059-202316ae4077' class='xr-section-summary-in' type='checkbox' disabled ><label for='section-adc4cd52-4c59-4449-8059-202316ae4077' class='xr-section-summary'  title='Expand/collapse section'>Dimensions:</label><div class='xr-section-inline-details'><ul class='xr-dim-list'><li><span class='xr-has-index'>time</span>: 175320</li><li><span class='xr-has-index'>latitude</span>: 4096</li><li><span class='xr-has-index'>longitude</span>: 8193</li></ul></div><div class='xr-section-details'></div></li><li class='xr-section-item'><input id='section-a9e5fb45-3976-4461-8653-85404a4ae730' class='xr-section-summary-in' type='checkbox'  checked><label for='section-a9e5fb45-3976-4461-8653-85404a4ae730' class='xr-section-summary' >Coordinates: <span>(5)</span></label><div class='xr-section-inline-details'></div><div class='xr-section-details'><ul class='xr-var-list'><li class='xr-var-item'><div class='xr-var-name'><span class='xr-has-index'>latitude</span></div><div class='xr-var-dims'>(latitude)</div><div class='xr-var-dtype'>float64</div><div class='xr-var-preview xr-preview'>-90.0 -89.96 -89.91 ... 89.96 90.0</div><input id='attrs-a2be81e5-6966-42c9-b708-b5d3cefa9e7c' class='xr-var-attrs-in' type='checkbox' ><label for='attrs-a2be81e5-6966-42c9-b708-b5d3cefa9e7c' title='Show/Hide attributes'><svg class='icon xr-icon-file-text2'><use xlink:href='#icon-file-text2'></use></svg></label><input id='data-d9836822-71ea-470b-b9e0-ccfedb66d0a9' class='xr-var-data-in' type='checkbox'><label for='data-d9836822-71ea-470b-b9e0-ccfedb66d0a9' title='Show/Hide data repr'><svg class='icon xr-icon-database'><use xlink:href='#icon-database'></use></svg></label><div class='xr-var-attrs'><dl class='xr-attrs'><dt><span>long_name :</span></dt><dd>latitude</dd><dt><span>standard_name :</span></dt><dd>latitude</dd><dt><span>units :</span></dt><dd>degrees_north</dd></dl></div><div class='xr-var-data'><pre>array([-90.      , -89.956044, -89.912088, ...,  89.912088,  89.956044,\n",
       "        90.      ])</pre></div></li><li class='xr-var-item'><div class='xr-var-name'><span class='xr-has-index'>longitude</span></div><div class='xr-var-dims'>(longitude)</div><div class='xr-var-dtype'>float64</div><div class='xr-var-preview xr-preview'>-180.0 -180.0 ... 180.0 180.0</div><input id='attrs-3fde761f-25da-49a1-9057-34e20474edeb' class='xr-var-attrs-in' type='checkbox' ><label for='attrs-3fde761f-25da-49a1-9057-34e20474edeb' title='Show/Hide attributes'><svg class='icon xr-icon-file-text2'><use xlink:href='#icon-file-text2'></use></svg></label><input id='data-d97dbb5c-ad45-415d-b498-026c05232a94' class='xr-var-data-in' type='checkbox'><label for='data-d97dbb5c-ad45-415d-b498-026c05232a94' title='Show/Hide data repr'><svg class='icon xr-icon-database'><use xlink:href='#icon-database'></use></svg></label><div class='xr-var-attrs'><dl class='xr-attrs'><dt><span>long_name :</span></dt><dd>longitude</dd><dt><span>standard_name :</span></dt><dd>longitude</dd><dt><span>units :</span></dt><dd>degrees_east</dd></dl></div><div class='xr-var-data'><pre>array([-180.      , -179.956055, -179.912109, ...,  179.912109,  179.956055,\n",
       "        180.      ])</pre></div></li><li class='xr-var-item'><div class='xr-var-name'><span>step</span></div><div class='xr-var-dims'>()</div><div class='xr-var-dtype'>timedelta64[ns]</div><div class='xr-var-preview xr-preview'>...</div><input id='attrs-c1910bab-37c0-4d73-a11c-8f51ee5a9a4f' class='xr-var-attrs-in' type='checkbox' ><label for='attrs-c1910bab-37c0-4d73-a11c-8f51ee5a9a4f' title='Show/Hide attributes'><svg class='icon xr-icon-file-text2'><use xlink:href='#icon-file-text2'></use></svg></label><input id='data-2dfa9ec8-9797-473c-977d-005a7e17e069' class='xr-var-data-in' type='checkbox'><label for='data-2dfa9ec8-9797-473c-977d-005a7e17e069' title='Show/Hide data repr'><svg class='icon xr-icon-database'><use xlink:href='#icon-database'></use></svg></label><div class='xr-var-attrs'><dl class='xr-attrs'><dt><span>long_name :</span></dt><dd>time since forecast_reference_time</dd><dt><span>standard_name :</span></dt><dd>forecast_period</dd></dl></div><div class='xr-var-data'><pre>[1 values with dtype=timedelta64[ns]]</pre></div></li><li class='xr-var-item'><div class='xr-var-name'><span>surface</span></div><div class='xr-var-dims'>()</div><div class='xr-var-dtype'>float64</div><div class='xr-var-preview xr-preview'>...</div><input id='attrs-e5e2f98d-ed41-4cd4-9172-6e88c664406d' class='xr-var-attrs-in' type='checkbox' ><label for='attrs-e5e2f98d-ed41-4cd4-9172-6e88c664406d' title='Show/Hide attributes'><svg class='icon xr-icon-file-text2'><use xlink:href='#icon-file-text2'></use></svg></label><input id='data-99a72176-d42c-46aa-bcc2-3fa0d2a9dde1' class='xr-var-data-in' type='checkbox'><label for='data-99a72176-d42c-46aa-bcc2-3fa0d2a9dde1' title='Show/Hide data repr'><svg class='icon xr-icon-database'><use xlink:href='#icon-database'></use></svg></label><div class='xr-var-attrs'><dl class='xr-attrs'><dt><span>long_name :</span></dt><dd>original GRIB coordinate for key: level(surface)</dd><dt><span>units :</span></dt><dd>1</dd></dl></div><div class='xr-var-data'><pre>[1 values with dtype=float64]</pre></div></li><li class='xr-var-item'><div class='xr-var-name'><span class='xr-has-index'>time</span></div><div class='xr-var-dims'>(time)</div><div class='xr-var-dtype'>datetime64[ns]</div><div class='xr-var-preview xr-preview'>2020-01-01 ... 2039-12-31T23:00:00</div><input id='attrs-4c9d5ff7-8c4e-45a1-906e-7a3b30d47b06' class='xr-var-attrs-in' type='checkbox' disabled><label for='attrs-4c9d5ff7-8c4e-45a1-906e-7a3b30d47b06' title='Show/Hide attributes'><svg class='icon xr-icon-file-text2'><use xlink:href='#icon-file-text2'></use></svg></label><input id='data-fd6a04d8-3d58-4e66-afa0-2575097cbdf2' class='xr-var-data-in' type='checkbox'><label for='data-fd6a04d8-3d58-4e66-afa0-2575097cbdf2' title='Show/Hide data repr'><svg class='icon xr-icon-database'><use xlink:href='#icon-database'></use></svg></label><div class='xr-var-attrs'><dl class='xr-attrs'></dl></div><div class='xr-var-data'><pre>array([&#x27;2020-01-01T00:00:00.000000000&#x27;, &#x27;2020-01-01T01:00:00.000000000&#x27;,\n",
       "       &#x27;2020-01-01T02:00:00.000000000&#x27;, ..., &#x27;2039-12-31T21:00:00.000000000&#x27;,\n",
       "       &#x27;2039-12-31T22:00:00.000000000&#x27;, &#x27;2039-12-31T23:00:00.000000000&#x27;],\n",
       "      dtype=&#x27;datetime64[ns]&#x27;)</pre></div></li></ul></div></li><li class='xr-section-item'><input id='section-3102a698-349f-4ca2-a43f-78801d2c90e7' class='xr-section-summary-in' type='checkbox'  checked><label for='section-3102a698-349f-4ca2-a43f-78801d2c90e7' class='xr-section-summary' >Data variables: <span>(9)</span></label><div class='xr-section-inline-details'></div><div class='xr-section-details'><ul class='xr-var-list'><li class='xr-var-item'><div class='xr-var-name'><span>d2m</span></div><div class='xr-var-dims'>(time, latitude, longitude)</div><div class='xr-var-dtype'>float32</div><div class='xr-var-preview xr-preview'>dask.array&lt;chunksize=(48, 512, 512), meta=np.ndarray&gt;</div><input id='attrs-69b3474e-4898-485c-8689-76a6bbc1a96f' class='xr-var-attrs-in' type='checkbox' ><label for='attrs-69b3474e-4898-485c-8689-76a6bbc1a96f' title='Show/Hide attributes'><svg class='icon xr-icon-file-text2'><use xlink:href='#icon-file-text2'></use></svg></label><input id='data-b9f73f54-b9d7-4e22-be6c-5899b5f387e7' class='xr-var-data-in' type='checkbox'><label for='data-b9f73f54-b9d7-4e22-be6c-5899b5f387e7' title='Show/Hide data repr'><svg class='icon xr-icon-database'><use xlink:href='#icon-database'></use></svg></label><div class='xr-var-attrs'><dl class='xr-attrs'><dt><span>GRIB_NV :</span></dt><dd>0</dd><dt><span>GRIB_cfName :</span></dt><dd>unknown</dd><dt><span>GRIB_cfVarName :</span></dt><dd>d2m</dd><dt><span>GRIB_dataType :</span></dt><dd>fc</dd><dt><span>GRIB_gridDefinitionDescription :</span></dt><dd>150</dd><dt><span>GRIB_gridType :</span></dt><dd>healpix</dd><dt><span>GRIB_missingValue :</span></dt><dd>3.4028234663852886e+38</dd><dt><span>GRIB_name :</span></dt><dd>2 metre dewpoint temperature</dd><dt><span>GRIB_numberOfPoints :</span></dt><dd>12582912</dd><dt><span>GRIB_paramId :</span></dt><dd>168</dd><dt><span>GRIB_shortName :</span></dt><dd>2d</dd><dt><span>GRIB_stepType :</span></dt><dd>instant</dd><dt><span>GRIB_stepUnits :</span></dt><dd>1</dd><dt><span>GRIB_typeOfLevel :</span></dt><dd>heightAboveGround</dd><dt><span>GRIB_units :</span></dt><dd>K</dd><dt><span>last_restart_dim_updated :</span></dt><dd>175320</dd><dt><span>long_name :</span></dt><dd>2 metre dewpoint temperature</dd><dt><span>standard_name :</span></dt><dd>unknown</dd><dt><span>units :</span></dt><dd>K</dd></dl></div><div class='xr-var-data'><table>\n",
       "    <tr>\n",
       "        <td>\n",
       "            <table style=\"border-collapse: collapse;\">\n",
       "                <thead>\n",
       "                    <tr>\n",
       "                        <td> </td>\n",
       "                        <th> Array </th>\n",
       "                        <th> Chunk </th>\n",
       "                    </tr>\n",
       "                </thead>\n",
       "                <tbody>\n",
       "                    \n",
       "                    <tr>\n",
       "                        <th> Bytes </th>\n",
       "                        <td> 21.40 TiB </td>\n",
       "                        <td> 48.00 MiB </td>\n",
       "                    </tr>\n",
       "                    \n",
       "                    <tr>\n",
       "                        <th> Shape </th>\n",
       "                        <td> (175320, 4096, 8193) </td>\n",
       "                        <td> (48, 512, 512) </td>\n",
       "                    </tr>\n",
       "                    <tr>\n",
       "                        <th> Dask graph </th>\n",
       "                        <td colspan=\"2\"> 496808 chunks in 2 graph layers </td>\n",
       "                    </tr>\n",
       "                    <tr>\n",
       "                        <th> Data type </th>\n",
       "                        <td colspan=\"2\"> float32 numpy.ndarray </td>\n",
       "                    </tr>\n",
       "                </tbody>\n",
       "            </table>\n",
       "        </td>\n",
       "        <td>\n",
       "        <svg width=\"164\" height=\"150\" style=\"stroke:rgb(0,0,0);stroke-width:1\" >\n",
       "\n",
       "  <!-- Horizontal lines -->\n",
       "  <line x1=\"10\" y1=\"0\" x2=\"80\" y2=\"70\" style=\"stroke-width:2\" />\n",
       "  <line x1=\"10\" y1=\"3\" x2=\"80\" y2=\"74\" />\n",
       "  <line x1=\"10\" y1=\"7\" x2=\"80\" y2=\"78\" />\n",
       "  <line x1=\"10\" y1=\"11\" x2=\"80\" y2=\"81\" />\n",
       "  <line x1=\"10\" y1=\"14\" x2=\"80\" y2=\"85\" />\n",
       "  <line x1=\"10\" y1=\"18\" x2=\"80\" y2=\"89\" />\n",
       "  <line x1=\"10\" y1=\"22\" x2=\"80\" y2=\"93\" />\n",
       "  <line x1=\"10\" y1=\"26\" x2=\"80\" y2=\"96\" />\n",
       "  <line x1=\"10\" y1=\"29\" x2=\"80\" y2=\"100\" style=\"stroke-width:2\" />\n",
       "\n",
       "  <!-- Vertical lines -->\n",
       "  <line x1=\"10\" y1=\"0\" x2=\"10\" y2=\"29\" style=\"stroke-width:2\" />\n",
       "  <line x1=\"13\" y1=\"3\" x2=\"13\" y2=\"33\" />\n",
       "  <line x1=\"17\" y1=\"7\" x2=\"17\" y2=\"37\" />\n",
       "  <line x1=\"21\" y1=\"11\" x2=\"21\" y2=\"41\" />\n",
       "  <line x1=\"24\" y1=\"14\" x2=\"24\" y2=\"44\" />\n",
       "  <line x1=\"28\" y1=\"18\" x2=\"28\" y2=\"48\" />\n",
       "  <line x1=\"32\" y1=\"22\" x2=\"32\" y2=\"52\" />\n",
       "  <line x1=\"35\" y1=\"25\" x2=\"35\" y2=\"55\" />\n",
       "  <line x1=\"39\" y1=\"29\" x2=\"39\" y2=\"59\" />\n",
       "  <line x1=\"43\" y1=\"33\" x2=\"43\" y2=\"63\" />\n",
       "  <line x1=\"47\" y1=\"37\" x2=\"47\" y2=\"67\" />\n",
       "  <line x1=\"50\" y1=\"40\" x2=\"50\" y2=\"70\" />\n",
       "  <line x1=\"54\" y1=\"44\" x2=\"54\" y2=\"74\" />\n",
       "  <line x1=\"58\" y1=\"48\" x2=\"58\" y2=\"78\" />\n",
       "  <line x1=\"62\" y1=\"52\" x2=\"62\" y2=\"81\" />\n",
       "  <line x1=\"65\" y1=\"55\" x2=\"65\" y2=\"85\" />\n",
       "  <line x1=\"69\" y1=\"59\" x2=\"69\" y2=\"89\" />\n",
       "  <line x1=\"73\" y1=\"63\" x2=\"73\" y2=\"93\" />\n",
       "  <line x1=\"76\" y1=\"66\" x2=\"76\" y2=\"96\" />\n",
       "  <line x1=\"80\" y1=\"70\" x2=\"80\" y2=\"100\" style=\"stroke-width:2\" />\n",
       "\n",
       "  <!-- Colored Rectangle -->\n",
       "  <polygon points=\"10.0,0.0 80.58823529411765,70.58823529411765 80.58823529411765,100.50586840145468 10.0,29.91763310733703\" style=\"fill:#8B4903A0;stroke-width:0\"/>\n",
       "\n",
       "  <!-- Horizontal lines -->\n",
       "  <line x1=\"10\" y1=\"0\" x2=\"44\" y2=\"0\" style=\"stroke-width:2\" />\n",
       "  <line x1=\"13\" y1=\"3\" x2=\"47\" y2=\"3\" />\n",
       "  <line x1=\"17\" y1=\"7\" x2=\"51\" y2=\"7\" />\n",
       "  <line x1=\"21\" y1=\"11\" x2=\"55\" y2=\"11\" />\n",
       "  <line x1=\"24\" y1=\"14\" x2=\"58\" y2=\"14\" />\n",
       "  <line x1=\"28\" y1=\"18\" x2=\"62\" y2=\"18\" />\n",
       "  <line x1=\"32\" y1=\"22\" x2=\"66\" y2=\"22\" />\n",
       "  <line x1=\"35\" y1=\"25\" x2=\"70\" y2=\"25\" />\n",
       "  <line x1=\"39\" y1=\"29\" x2=\"73\" y2=\"29\" />\n",
       "  <line x1=\"43\" y1=\"33\" x2=\"77\" y2=\"33\" />\n",
       "  <line x1=\"47\" y1=\"37\" x2=\"81\" y2=\"37\" />\n",
       "  <line x1=\"50\" y1=\"40\" x2=\"84\" y2=\"40\" />\n",
       "  <line x1=\"54\" y1=\"44\" x2=\"88\" y2=\"44\" />\n",
       "  <line x1=\"58\" y1=\"48\" x2=\"92\" y2=\"48\" />\n",
       "  <line x1=\"62\" y1=\"52\" x2=\"96\" y2=\"52\" />\n",
       "  <line x1=\"65\" y1=\"55\" x2=\"99\" y2=\"55\" />\n",
       "  <line x1=\"69\" y1=\"59\" x2=\"103\" y2=\"59\" />\n",
       "  <line x1=\"73\" y1=\"63\" x2=\"107\" y2=\"63\" />\n",
       "  <line x1=\"76\" y1=\"66\" x2=\"110\" y2=\"66\" />\n",
       "  <line x1=\"80\" y1=\"70\" x2=\"114\" y2=\"70\" style=\"stroke-width:2\" />\n",
       "\n",
       "  <!-- Vertical lines -->\n",
       "  <line x1=\"10\" y1=\"0\" x2=\"80\" y2=\"70\" style=\"stroke-width:2\" />\n",
       "  <line x1=\"12\" y1=\"0\" x2=\"82\" y2=\"70\" />\n",
       "  <line x1=\"14\" y1=\"0\" x2=\"84\" y2=\"70\" />\n",
       "  <line x1=\"16\" y1=\"0\" x2=\"86\" y2=\"70\" />\n",
       "  <line x1=\"18\" y1=\"0\" x2=\"89\" y2=\"70\" />\n",
       "  <line x1=\"20\" y1=\"0\" x2=\"91\" y2=\"70\" />\n",
       "  <line x1=\"22\" y1=\"0\" x2=\"93\" y2=\"70\" />\n",
       "  <line x1=\"24\" y1=\"0\" x2=\"95\" y2=\"70\" />\n",
       "  <line x1=\"27\" y1=\"0\" x2=\"97\" y2=\"70\" />\n",
       "  <line x1=\"29\" y1=\"0\" x2=\"99\" y2=\"70\" />\n",
       "  <line x1=\"31\" y1=\"0\" x2=\"101\" y2=\"70\" />\n",
       "  <line x1=\"33\" y1=\"0\" x2=\"104\" y2=\"70\" />\n",
       "  <line x1=\"35\" y1=\"0\" x2=\"106\" y2=\"70\" />\n",
       "  <line x1=\"37\" y1=\"0\" x2=\"108\" y2=\"70\" />\n",
       "  <line x1=\"39\" y1=\"0\" x2=\"110\" y2=\"70\" />\n",
       "  <line x1=\"41\" y1=\"0\" x2=\"112\" y2=\"70\" />\n",
       "  <line x1=\"44\" y1=\"0\" x2=\"114\" y2=\"70\" />\n",
       "  <line x1=\"44\" y1=\"0\" x2=\"114\" y2=\"70\" style=\"stroke-width:2\" />\n",
       "\n",
       "  <!-- Colored Rectangle -->\n",
       "  <polygon points=\"10.0,0.0 44.08680348533133,0.0 114.67503877944898,70.58823529411765 80.58823529411765,70.58823529411765\" style=\"fill:#8B4903A0;stroke-width:0\"/>\n",
       "\n",
       "  <!-- Horizontal lines -->\n",
       "  <line x1=\"80\" y1=\"70\" x2=\"114\" y2=\"70\" style=\"stroke-width:2\" />\n",
       "  <line x1=\"80\" y1=\"74\" x2=\"114\" y2=\"74\" />\n",
       "  <line x1=\"80\" y1=\"78\" x2=\"114\" y2=\"78\" />\n",
       "  <line x1=\"80\" y1=\"81\" x2=\"114\" y2=\"81\" />\n",
       "  <line x1=\"80\" y1=\"85\" x2=\"114\" y2=\"85\" />\n",
       "  <line x1=\"80\" y1=\"89\" x2=\"114\" y2=\"89\" />\n",
       "  <line x1=\"80\" y1=\"93\" x2=\"114\" y2=\"93\" />\n",
       "  <line x1=\"80\" y1=\"96\" x2=\"114\" y2=\"96\" />\n",
       "  <line x1=\"80\" y1=\"100\" x2=\"114\" y2=\"100\" style=\"stroke-width:2\" />\n",
       "\n",
       "  <!-- Vertical lines -->\n",
       "  <line x1=\"80\" y1=\"70\" x2=\"80\" y2=\"100\" style=\"stroke-width:2\" />\n",
       "  <line x1=\"82\" y1=\"70\" x2=\"82\" y2=\"100\" />\n",
       "  <line x1=\"84\" y1=\"70\" x2=\"84\" y2=\"100\" />\n",
       "  <line x1=\"86\" y1=\"70\" x2=\"86\" y2=\"100\" />\n",
       "  <line x1=\"89\" y1=\"70\" x2=\"89\" y2=\"100\" />\n",
       "  <line x1=\"91\" y1=\"70\" x2=\"91\" y2=\"100\" />\n",
       "  <line x1=\"93\" y1=\"70\" x2=\"93\" y2=\"100\" />\n",
       "  <line x1=\"95\" y1=\"70\" x2=\"95\" y2=\"100\" />\n",
       "  <line x1=\"97\" y1=\"70\" x2=\"97\" y2=\"100\" />\n",
       "  <line x1=\"99\" y1=\"70\" x2=\"99\" y2=\"100\" />\n",
       "  <line x1=\"101\" y1=\"70\" x2=\"101\" y2=\"100\" />\n",
       "  <line x1=\"104\" y1=\"70\" x2=\"104\" y2=\"100\" />\n",
       "  <line x1=\"106\" y1=\"70\" x2=\"106\" y2=\"100\" />\n",
       "  <line x1=\"108\" y1=\"70\" x2=\"108\" y2=\"100\" />\n",
       "  <line x1=\"110\" y1=\"70\" x2=\"110\" y2=\"100\" />\n",
       "  <line x1=\"112\" y1=\"70\" x2=\"112\" y2=\"100\" />\n",
       "  <line x1=\"114\" y1=\"70\" x2=\"114\" y2=\"100\" />\n",
       "  <line x1=\"114\" y1=\"70\" x2=\"114\" y2=\"100\" style=\"stroke-width:2\" />\n",
       "\n",
       "  <!-- Colored Rectangle -->\n",
       "  <polygon points=\"80.58823529411765,70.58823529411765 114.67503877944898,70.58823529411765 114.67503877944898,100.50586840145468 80.58823529411765,100.50586840145468\" style=\"fill:#ECB172A0;stroke-width:0\"/>\n",
       "\n",
       "  <!-- Text -->\n",
       "  <text x=\"97.631637\" y=\"120.505868\" font-size=\"1.0rem\" font-weight=\"100\" text-anchor=\"middle\" >8193</text>\n",
       "  <text x=\"134.675039\" y=\"85.547052\" font-size=\"1.0rem\" font-weight=\"100\" text-anchor=\"middle\" transform=\"rotate(-90,134.675039,85.547052)\">4096</text>\n",
       "  <text x=\"35.294118\" y=\"85.211751\" font-size=\"1.0rem\" font-weight=\"100\" text-anchor=\"middle\" transform=\"rotate(45,35.294118,85.211751)\">175320</text>\n",
       "</svg>\n",
       "        </td>\n",
       "    </tr>\n",
       "</table></div></li><li class='xr-var-item'><div class='xr-var-name'><span>heightAboveGround</span></div><div class='xr-var-dims'>()</div><div class='xr-var-dtype'>float64</div><div class='xr-var-preview xr-preview'>...</div><input id='attrs-9bab198b-c4f4-4f4b-8a3c-9e8c053dc7b5' class='xr-var-attrs-in' type='checkbox' ><label for='attrs-9bab198b-c4f4-4f4b-8a3c-9e8c053dc7b5' title='Show/Hide attributes'><svg class='icon xr-icon-file-text2'><use xlink:href='#icon-file-text2'></use></svg></label><input id='data-a8f5db2f-699f-4ac0-90f6-fa8f80cb4203' class='xr-var-data-in' type='checkbox'><label for='data-a8f5db2f-699f-4ac0-90f6-fa8f80cb4203' title='Show/Hide data repr'><svg class='icon xr-icon-database'><use xlink:href='#icon-database'></use></svg></label><div class='xr-var-attrs'><dl class='xr-attrs'><dt><span>long_name :</span></dt><dd>height above the surface</dd><dt><span>positive :</span></dt><dd>up</dd><dt><span>standard_name :</span></dt><dd>height</dd><dt><span>units :</span></dt><dd>m</dd></dl></div><div class='xr-var-data'><pre>[1 values with dtype=float64]</pre></div></li><li class='xr-var-item'><div class='xr-var-name'><span>sd</span></div><div class='xr-var-dims'>(time, latitude, longitude)</div><div class='xr-var-dtype'>float32</div><div class='xr-var-preview xr-preview'>dask.array&lt;chunksize=(48, 512, 512), meta=np.ndarray&gt;</div><input id='attrs-049c35d9-4c81-4c67-a01d-f7de2a3252b9' class='xr-var-attrs-in' type='checkbox' ><label for='attrs-049c35d9-4c81-4c67-a01d-f7de2a3252b9' title='Show/Hide attributes'><svg class='icon xr-icon-file-text2'><use xlink:href='#icon-file-text2'></use></svg></label><input id='data-0158bbea-dc8a-4ca2-974e-423b65b9c016' class='xr-var-data-in' type='checkbox'><label for='data-0158bbea-dc8a-4ca2-974e-423b65b9c016' title='Show/Hide data repr'><svg class='icon xr-icon-database'><use xlink:href='#icon-database'></use></svg></label><div class='xr-var-attrs'><dl class='xr-attrs'><dt><span>GRIB_NV :</span></dt><dd>0</dd><dt><span>GRIB_cfName :</span></dt><dd>lwe_thickness_of_surface_snow_amount</dd><dt><span>GRIB_cfVarName :</span></dt><dd>sd</dd><dt><span>GRIB_dataType :</span></dt><dd>fc</dd><dt><span>GRIB_gridDefinitionDescription :</span></dt><dd>150</dd><dt><span>GRIB_gridType :</span></dt><dd>healpix</dd><dt><span>GRIB_missingValue :</span></dt><dd>3.4028234663852886e+38</dd><dt><span>GRIB_name :</span></dt><dd>Snow depth</dd><dt><span>GRIB_numberOfPoints :</span></dt><dd>12582912</dd><dt><span>GRIB_paramId :</span></dt><dd>141</dd><dt><span>GRIB_shortName :</span></dt><dd>sd</dd><dt><span>GRIB_stepType :</span></dt><dd>instant</dd><dt><span>GRIB_stepUnits :</span></dt><dd>1</dd><dt><span>GRIB_typeOfLevel :</span></dt><dd>surface</dd><dt><span>GRIB_units :</span></dt><dd>m of water equivalent</dd><dt><span>last_restart_dim_updated :</span></dt><dd>175320</dd><dt><span>long_name :</span></dt><dd>Snow depth</dd><dt><span>standard_name :</span></dt><dd>lwe_thickness_of_surface_snow_amount</dd><dt><span>units :</span></dt><dd>m of water equivalent</dd></dl></div><div class='xr-var-data'><table>\n",
       "    <tr>\n",
       "        <td>\n",
       "            <table style=\"border-collapse: collapse;\">\n",
       "                <thead>\n",
       "                    <tr>\n",
       "                        <td> </td>\n",
       "                        <th> Array </th>\n",
       "                        <th> Chunk </th>\n",
       "                    </tr>\n",
       "                </thead>\n",
       "                <tbody>\n",
       "                    \n",
       "                    <tr>\n",
       "                        <th> Bytes </th>\n",
       "                        <td> 21.40 TiB </td>\n",
       "                        <td> 48.00 MiB </td>\n",
       "                    </tr>\n",
       "                    \n",
       "                    <tr>\n",
       "                        <th> Shape </th>\n",
       "                        <td> (175320, 4096, 8193) </td>\n",
       "                        <td> (48, 512, 512) </td>\n",
       "                    </tr>\n",
       "                    <tr>\n",
       "                        <th> Dask graph </th>\n",
       "                        <td colspan=\"2\"> 496808 chunks in 2 graph layers </td>\n",
       "                    </tr>\n",
       "                    <tr>\n",
       "                        <th> Data type </th>\n",
       "                        <td colspan=\"2\"> float32 numpy.ndarray </td>\n",
       "                    </tr>\n",
       "                </tbody>\n",
       "            </table>\n",
       "        </td>\n",
       "        <td>\n",
       "        <svg width=\"164\" height=\"150\" style=\"stroke:rgb(0,0,0);stroke-width:1\" >\n",
       "\n",
       "  <!-- Horizontal lines -->\n",
       "  <line x1=\"10\" y1=\"0\" x2=\"80\" y2=\"70\" style=\"stroke-width:2\" />\n",
       "  <line x1=\"10\" y1=\"3\" x2=\"80\" y2=\"74\" />\n",
       "  <line x1=\"10\" y1=\"7\" x2=\"80\" y2=\"78\" />\n",
       "  <line x1=\"10\" y1=\"11\" x2=\"80\" y2=\"81\" />\n",
       "  <line x1=\"10\" y1=\"14\" x2=\"80\" y2=\"85\" />\n",
       "  <line x1=\"10\" y1=\"18\" x2=\"80\" y2=\"89\" />\n",
       "  <line x1=\"10\" y1=\"22\" x2=\"80\" y2=\"93\" />\n",
       "  <line x1=\"10\" y1=\"26\" x2=\"80\" y2=\"96\" />\n",
       "  <line x1=\"10\" y1=\"29\" x2=\"80\" y2=\"100\" style=\"stroke-width:2\" />\n",
       "\n",
       "  <!-- Vertical lines -->\n",
       "  <line x1=\"10\" y1=\"0\" x2=\"10\" y2=\"29\" style=\"stroke-width:2\" />\n",
       "  <line x1=\"13\" y1=\"3\" x2=\"13\" y2=\"33\" />\n",
       "  <line x1=\"17\" y1=\"7\" x2=\"17\" y2=\"37\" />\n",
       "  <line x1=\"21\" y1=\"11\" x2=\"21\" y2=\"41\" />\n",
       "  <line x1=\"24\" y1=\"14\" x2=\"24\" y2=\"44\" />\n",
       "  <line x1=\"28\" y1=\"18\" x2=\"28\" y2=\"48\" />\n",
       "  <line x1=\"32\" y1=\"22\" x2=\"32\" y2=\"52\" />\n",
       "  <line x1=\"35\" y1=\"25\" x2=\"35\" y2=\"55\" />\n",
       "  <line x1=\"39\" y1=\"29\" x2=\"39\" y2=\"59\" />\n",
       "  <line x1=\"43\" y1=\"33\" x2=\"43\" y2=\"63\" />\n",
       "  <line x1=\"47\" y1=\"37\" x2=\"47\" y2=\"67\" />\n",
       "  <line x1=\"50\" y1=\"40\" x2=\"50\" y2=\"70\" />\n",
       "  <line x1=\"54\" y1=\"44\" x2=\"54\" y2=\"74\" />\n",
       "  <line x1=\"58\" y1=\"48\" x2=\"58\" y2=\"78\" />\n",
       "  <line x1=\"62\" y1=\"52\" x2=\"62\" y2=\"81\" />\n",
       "  <line x1=\"65\" y1=\"55\" x2=\"65\" y2=\"85\" />\n",
       "  <line x1=\"69\" y1=\"59\" x2=\"69\" y2=\"89\" />\n",
       "  <line x1=\"73\" y1=\"63\" x2=\"73\" y2=\"93\" />\n",
       "  <line x1=\"76\" y1=\"66\" x2=\"76\" y2=\"96\" />\n",
       "  <line x1=\"80\" y1=\"70\" x2=\"80\" y2=\"100\" style=\"stroke-width:2\" />\n",
       "\n",
       "  <!-- Colored Rectangle -->\n",
       "  <polygon points=\"10.0,0.0 80.58823529411765,70.58823529411765 80.58823529411765,100.50586840145468 10.0,29.91763310733703\" style=\"fill:#8B4903A0;stroke-width:0\"/>\n",
       "\n",
       "  <!-- Horizontal lines -->\n",
       "  <line x1=\"10\" y1=\"0\" x2=\"44\" y2=\"0\" style=\"stroke-width:2\" />\n",
       "  <line x1=\"13\" y1=\"3\" x2=\"47\" y2=\"3\" />\n",
       "  <line x1=\"17\" y1=\"7\" x2=\"51\" y2=\"7\" />\n",
       "  <line x1=\"21\" y1=\"11\" x2=\"55\" y2=\"11\" />\n",
       "  <line x1=\"24\" y1=\"14\" x2=\"58\" y2=\"14\" />\n",
       "  <line x1=\"28\" y1=\"18\" x2=\"62\" y2=\"18\" />\n",
       "  <line x1=\"32\" y1=\"22\" x2=\"66\" y2=\"22\" />\n",
       "  <line x1=\"35\" y1=\"25\" x2=\"70\" y2=\"25\" />\n",
       "  <line x1=\"39\" y1=\"29\" x2=\"73\" y2=\"29\" />\n",
       "  <line x1=\"43\" y1=\"33\" x2=\"77\" y2=\"33\" />\n",
       "  <line x1=\"47\" y1=\"37\" x2=\"81\" y2=\"37\" />\n",
       "  <line x1=\"50\" y1=\"40\" x2=\"84\" y2=\"40\" />\n",
       "  <line x1=\"54\" y1=\"44\" x2=\"88\" y2=\"44\" />\n",
       "  <line x1=\"58\" y1=\"48\" x2=\"92\" y2=\"48\" />\n",
       "  <line x1=\"62\" y1=\"52\" x2=\"96\" y2=\"52\" />\n",
       "  <line x1=\"65\" y1=\"55\" x2=\"99\" y2=\"55\" />\n",
       "  <line x1=\"69\" y1=\"59\" x2=\"103\" y2=\"59\" />\n",
       "  <line x1=\"73\" y1=\"63\" x2=\"107\" y2=\"63\" />\n",
       "  <line x1=\"76\" y1=\"66\" x2=\"110\" y2=\"66\" />\n",
       "  <line x1=\"80\" y1=\"70\" x2=\"114\" y2=\"70\" style=\"stroke-width:2\" />\n",
       "\n",
       "  <!-- Vertical lines -->\n",
       "  <line x1=\"10\" y1=\"0\" x2=\"80\" y2=\"70\" style=\"stroke-width:2\" />\n",
       "  <line x1=\"12\" y1=\"0\" x2=\"82\" y2=\"70\" />\n",
       "  <line x1=\"14\" y1=\"0\" x2=\"84\" y2=\"70\" />\n",
       "  <line x1=\"16\" y1=\"0\" x2=\"86\" y2=\"70\" />\n",
       "  <line x1=\"18\" y1=\"0\" x2=\"89\" y2=\"70\" />\n",
       "  <line x1=\"20\" y1=\"0\" x2=\"91\" y2=\"70\" />\n",
       "  <line x1=\"22\" y1=\"0\" x2=\"93\" y2=\"70\" />\n",
       "  <line x1=\"24\" y1=\"0\" x2=\"95\" y2=\"70\" />\n",
       "  <line x1=\"27\" y1=\"0\" x2=\"97\" y2=\"70\" />\n",
       "  <line x1=\"29\" y1=\"0\" x2=\"99\" y2=\"70\" />\n",
       "  <line x1=\"31\" y1=\"0\" x2=\"101\" y2=\"70\" />\n",
       "  <line x1=\"33\" y1=\"0\" x2=\"104\" y2=\"70\" />\n",
       "  <line x1=\"35\" y1=\"0\" x2=\"106\" y2=\"70\" />\n",
       "  <line x1=\"37\" y1=\"0\" x2=\"108\" y2=\"70\" />\n",
       "  <line x1=\"39\" y1=\"0\" x2=\"110\" y2=\"70\" />\n",
       "  <line x1=\"41\" y1=\"0\" x2=\"112\" y2=\"70\" />\n",
       "  <line x1=\"44\" y1=\"0\" x2=\"114\" y2=\"70\" />\n",
       "  <line x1=\"44\" y1=\"0\" x2=\"114\" y2=\"70\" style=\"stroke-width:2\" />\n",
       "\n",
       "  <!-- Colored Rectangle -->\n",
       "  <polygon points=\"10.0,0.0 44.08680348533133,0.0 114.67503877944898,70.58823529411765 80.58823529411765,70.58823529411765\" style=\"fill:#8B4903A0;stroke-width:0\"/>\n",
       "\n",
       "  <!-- Horizontal lines -->\n",
       "  <line x1=\"80\" y1=\"70\" x2=\"114\" y2=\"70\" style=\"stroke-width:2\" />\n",
       "  <line x1=\"80\" y1=\"74\" x2=\"114\" y2=\"74\" />\n",
       "  <line x1=\"80\" y1=\"78\" x2=\"114\" y2=\"78\" />\n",
       "  <line x1=\"80\" y1=\"81\" x2=\"114\" y2=\"81\" />\n",
       "  <line x1=\"80\" y1=\"85\" x2=\"114\" y2=\"85\" />\n",
       "  <line x1=\"80\" y1=\"89\" x2=\"114\" y2=\"89\" />\n",
       "  <line x1=\"80\" y1=\"93\" x2=\"114\" y2=\"93\" />\n",
       "  <line x1=\"80\" y1=\"96\" x2=\"114\" y2=\"96\" />\n",
       "  <line x1=\"80\" y1=\"100\" x2=\"114\" y2=\"100\" style=\"stroke-width:2\" />\n",
       "\n",
       "  <!-- Vertical lines -->\n",
       "  <line x1=\"80\" y1=\"70\" x2=\"80\" y2=\"100\" style=\"stroke-width:2\" />\n",
       "  <line x1=\"82\" y1=\"70\" x2=\"82\" y2=\"100\" />\n",
       "  <line x1=\"84\" y1=\"70\" x2=\"84\" y2=\"100\" />\n",
       "  <line x1=\"86\" y1=\"70\" x2=\"86\" y2=\"100\" />\n",
       "  <line x1=\"89\" y1=\"70\" x2=\"89\" y2=\"100\" />\n",
       "  <line x1=\"91\" y1=\"70\" x2=\"91\" y2=\"100\" />\n",
       "  <line x1=\"93\" y1=\"70\" x2=\"93\" y2=\"100\" />\n",
       "  <line x1=\"95\" y1=\"70\" x2=\"95\" y2=\"100\" />\n",
       "  <line x1=\"97\" y1=\"70\" x2=\"97\" y2=\"100\" />\n",
       "  <line x1=\"99\" y1=\"70\" x2=\"99\" y2=\"100\" />\n",
       "  <line x1=\"101\" y1=\"70\" x2=\"101\" y2=\"100\" />\n",
       "  <line x1=\"104\" y1=\"70\" x2=\"104\" y2=\"100\" />\n",
       "  <line x1=\"106\" y1=\"70\" x2=\"106\" y2=\"100\" />\n",
       "  <line x1=\"108\" y1=\"70\" x2=\"108\" y2=\"100\" />\n",
       "  <line x1=\"110\" y1=\"70\" x2=\"110\" y2=\"100\" />\n",
       "  <line x1=\"112\" y1=\"70\" x2=\"112\" y2=\"100\" />\n",
       "  <line x1=\"114\" y1=\"70\" x2=\"114\" y2=\"100\" />\n",
       "  <line x1=\"114\" y1=\"70\" x2=\"114\" y2=\"100\" style=\"stroke-width:2\" />\n",
       "\n",
       "  <!-- Colored Rectangle -->\n",
       "  <polygon points=\"80.58823529411765,70.58823529411765 114.67503877944898,70.58823529411765 114.67503877944898,100.50586840145468 80.58823529411765,100.50586840145468\" style=\"fill:#ECB172A0;stroke-width:0\"/>\n",
       "\n",
       "  <!-- Text -->\n",
       "  <text x=\"97.631637\" y=\"120.505868\" font-size=\"1.0rem\" font-weight=\"100\" text-anchor=\"middle\" >8193</text>\n",
       "  <text x=\"134.675039\" y=\"85.547052\" font-size=\"1.0rem\" font-weight=\"100\" text-anchor=\"middle\" transform=\"rotate(-90,134.675039,85.547052)\">4096</text>\n",
       "  <text x=\"35.294118\" y=\"85.211751\" font-size=\"1.0rem\" font-weight=\"100\" text-anchor=\"middle\" transform=\"rotate(45,35.294118,85.211751)\">175320</text>\n",
       "</svg>\n",
       "        </td>\n",
       "    </tr>\n",
       "</table></div></li><li class='xr-var-item'><div class='xr-var-name'><span>ssr</span></div><div class='xr-var-dims'>(time, latitude, longitude)</div><div class='xr-var-dtype'>float32</div><div class='xr-var-preview xr-preview'>dask.array&lt;chunksize=(48, 512, 512), meta=np.ndarray&gt;</div><input id='attrs-19440887-c4d2-428e-85c3-8dee329bb5d6' class='xr-var-attrs-in' type='checkbox' ><label for='attrs-19440887-c4d2-428e-85c3-8dee329bb5d6' title='Show/Hide attributes'><svg class='icon xr-icon-file-text2'><use xlink:href='#icon-file-text2'></use></svg></label><input id='data-e8df8792-79b0-4358-a9fc-ca6323960a70' class='xr-var-data-in' type='checkbox'><label for='data-e8df8792-79b0-4358-a9fc-ca6323960a70' title='Show/Hide data repr'><svg class='icon xr-icon-database'><use xlink:href='#icon-database'></use></svg></label><div class='xr-var-attrs'><dl class='xr-attrs'><dt><span>GRIB_NV :</span></dt><dd>0</dd><dt><span>GRIB_cfName :</span></dt><dd>surface_net_downward_shortwave_flux</dd><dt><span>GRIB_cfVarName :</span></dt><dd>ssr</dd><dt><span>GRIB_dataType :</span></dt><dd>fc</dd><dt><span>GRIB_gridDefinitionDescription :</span></dt><dd>150</dd><dt><span>GRIB_gridType :</span></dt><dd>healpix</dd><dt><span>GRIB_missingValue :</span></dt><dd>3.4028234663852886e+38</dd><dt><span>GRIB_name :</span></dt><dd>Surface net short-wave (solar) radiation</dd><dt><span>GRIB_numberOfPoints :</span></dt><dd>12582912</dd><dt><span>GRIB_paramId :</span></dt><dd>176</dd><dt><span>GRIB_shortName :</span></dt><dd>ssr</dd><dt><span>GRIB_stepType :</span></dt><dd>accum</dd><dt><span>GRIB_stepUnits :</span></dt><dd>1</dd><dt><span>GRIB_typeOfLevel :</span></dt><dd>surface</dd><dt><span>GRIB_units :</span></dt><dd>J m**-2</dd><dt><span>last_restart_dim_updated :</span></dt><dd>175320</dd><dt><span>long_name :</span></dt><dd>Surface net short-wave (solar) radiation</dd><dt><span>standard_name :</span></dt><dd>surface_net_downward_shortwave_flux</dd><dt><span>units :</span></dt><dd>J m**-2</dd></dl></div><div class='xr-var-data'><table>\n",
       "    <tr>\n",
       "        <td>\n",
       "            <table style=\"border-collapse: collapse;\">\n",
       "                <thead>\n",
       "                    <tr>\n",
       "                        <td> </td>\n",
       "                        <th> Array </th>\n",
       "                        <th> Chunk </th>\n",
       "                    </tr>\n",
       "                </thead>\n",
       "                <tbody>\n",
       "                    \n",
       "                    <tr>\n",
       "                        <th> Bytes </th>\n",
       "                        <td> 21.40 TiB </td>\n",
       "                        <td> 48.00 MiB </td>\n",
       "                    </tr>\n",
       "                    \n",
       "                    <tr>\n",
       "                        <th> Shape </th>\n",
       "                        <td> (175320, 4096, 8193) </td>\n",
       "                        <td> (48, 512, 512) </td>\n",
       "                    </tr>\n",
       "                    <tr>\n",
       "                        <th> Dask graph </th>\n",
       "                        <td colspan=\"2\"> 496808 chunks in 2 graph layers </td>\n",
       "                    </tr>\n",
       "                    <tr>\n",
       "                        <th> Data type </th>\n",
       "                        <td colspan=\"2\"> float32 numpy.ndarray </td>\n",
       "                    </tr>\n",
       "                </tbody>\n",
       "            </table>\n",
       "        </td>\n",
       "        <td>\n",
       "        <svg width=\"164\" height=\"150\" style=\"stroke:rgb(0,0,0);stroke-width:1\" >\n",
       "\n",
       "  <!-- Horizontal lines -->\n",
       "  <line x1=\"10\" y1=\"0\" x2=\"80\" y2=\"70\" style=\"stroke-width:2\" />\n",
       "  <line x1=\"10\" y1=\"3\" x2=\"80\" y2=\"74\" />\n",
       "  <line x1=\"10\" y1=\"7\" x2=\"80\" y2=\"78\" />\n",
       "  <line x1=\"10\" y1=\"11\" x2=\"80\" y2=\"81\" />\n",
       "  <line x1=\"10\" y1=\"14\" x2=\"80\" y2=\"85\" />\n",
       "  <line x1=\"10\" y1=\"18\" x2=\"80\" y2=\"89\" />\n",
       "  <line x1=\"10\" y1=\"22\" x2=\"80\" y2=\"93\" />\n",
       "  <line x1=\"10\" y1=\"26\" x2=\"80\" y2=\"96\" />\n",
       "  <line x1=\"10\" y1=\"29\" x2=\"80\" y2=\"100\" style=\"stroke-width:2\" />\n",
       "\n",
       "  <!-- Vertical lines -->\n",
       "  <line x1=\"10\" y1=\"0\" x2=\"10\" y2=\"29\" style=\"stroke-width:2\" />\n",
       "  <line x1=\"13\" y1=\"3\" x2=\"13\" y2=\"33\" />\n",
       "  <line x1=\"17\" y1=\"7\" x2=\"17\" y2=\"37\" />\n",
       "  <line x1=\"21\" y1=\"11\" x2=\"21\" y2=\"41\" />\n",
       "  <line x1=\"24\" y1=\"14\" x2=\"24\" y2=\"44\" />\n",
       "  <line x1=\"28\" y1=\"18\" x2=\"28\" y2=\"48\" />\n",
       "  <line x1=\"32\" y1=\"22\" x2=\"32\" y2=\"52\" />\n",
       "  <line x1=\"35\" y1=\"25\" x2=\"35\" y2=\"55\" />\n",
       "  <line x1=\"39\" y1=\"29\" x2=\"39\" y2=\"59\" />\n",
       "  <line x1=\"43\" y1=\"33\" x2=\"43\" y2=\"63\" />\n",
       "  <line x1=\"47\" y1=\"37\" x2=\"47\" y2=\"67\" />\n",
       "  <line x1=\"50\" y1=\"40\" x2=\"50\" y2=\"70\" />\n",
       "  <line x1=\"54\" y1=\"44\" x2=\"54\" y2=\"74\" />\n",
       "  <line x1=\"58\" y1=\"48\" x2=\"58\" y2=\"78\" />\n",
       "  <line x1=\"62\" y1=\"52\" x2=\"62\" y2=\"81\" />\n",
       "  <line x1=\"65\" y1=\"55\" x2=\"65\" y2=\"85\" />\n",
       "  <line x1=\"69\" y1=\"59\" x2=\"69\" y2=\"89\" />\n",
       "  <line x1=\"73\" y1=\"63\" x2=\"73\" y2=\"93\" />\n",
       "  <line x1=\"76\" y1=\"66\" x2=\"76\" y2=\"96\" />\n",
       "  <line x1=\"80\" y1=\"70\" x2=\"80\" y2=\"100\" style=\"stroke-width:2\" />\n",
       "\n",
       "  <!-- Colored Rectangle -->\n",
       "  <polygon points=\"10.0,0.0 80.58823529411765,70.58823529411765 80.58823529411765,100.50586840145468 10.0,29.91763310733703\" style=\"fill:#8B4903A0;stroke-width:0\"/>\n",
       "\n",
       "  <!-- Horizontal lines -->\n",
       "  <line x1=\"10\" y1=\"0\" x2=\"44\" y2=\"0\" style=\"stroke-width:2\" />\n",
       "  <line x1=\"13\" y1=\"3\" x2=\"47\" y2=\"3\" />\n",
       "  <line x1=\"17\" y1=\"7\" x2=\"51\" y2=\"7\" />\n",
       "  <line x1=\"21\" y1=\"11\" x2=\"55\" y2=\"11\" />\n",
       "  <line x1=\"24\" y1=\"14\" x2=\"58\" y2=\"14\" />\n",
       "  <line x1=\"28\" y1=\"18\" x2=\"62\" y2=\"18\" />\n",
       "  <line x1=\"32\" y1=\"22\" x2=\"66\" y2=\"22\" />\n",
       "  <line x1=\"35\" y1=\"25\" x2=\"70\" y2=\"25\" />\n",
       "  <line x1=\"39\" y1=\"29\" x2=\"73\" y2=\"29\" />\n",
       "  <line x1=\"43\" y1=\"33\" x2=\"77\" y2=\"33\" />\n",
       "  <line x1=\"47\" y1=\"37\" x2=\"81\" y2=\"37\" />\n",
       "  <line x1=\"50\" y1=\"40\" x2=\"84\" y2=\"40\" />\n",
       "  <line x1=\"54\" y1=\"44\" x2=\"88\" y2=\"44\" />\n",
       "  <line x1=\"58\" y1=\"48\" x2=\"92\" y2=\"48\" />\n",
       "  <line x1=\"62\" y1=\"52\" x2=\"96\" y2=\"52\" />\n",
       "  <line x1=\"65\" y1=\"55\" x2=\"99\" y2=\"55\" />\n",
       "  <line x1=\"69\" y1=\"59\" x2=\"103\" y2=\"59\" />\n",
       "  <line x1=\"73\" y1=\"63\" x2=\"107\" y2=\"63\" />\n",
       "  <line x1=\"76\" y1=\"66\" x2=\"110\" y2=\"66\" />\n",
       "  <line x1=\"80\" y1=\"70\" x2=\"114\" y2=\"70\" style=\"stroke-width:2\" />\n",
       "\n",
       "  <!-- Vertical lines -->\n",
       "  <line x1=\"10\" y1=\"0\" x2=\"80\" y2=\"70\" style=\"stroke-width:2\" />\n",
       "  <line x1=\"12\" y1=\"0\" x2=\"82\" y2=\"70\" />\n",
       "  <line x1=\"14\" y1=\"0\" x2=\"84\" y2=\"70\" />\n",
       "  <line x1=\"16\" y1=\"0\" x2=\"86\" y2=\"70\" />\n",
       "  <line x1=\"18\" y1=\"0\" x2=\"89\" y2=\"70\" />\n",
       "  <line x1=\"20\" y1=\"0\" x2=\"91\" y2=\"70\" />\n",
       "  <line x1=\"22\" y1=\"0\" x2=\"93\" y2=\"70\" />\n",
       "  <line x1=\"24\" y1=\"0\" x2=\"95\" y2=\"70\" />\n",
       "  <line x1=\"27\" y1=\"0\" x2=\"97\" y2=\"70\" />\n",
       "  <line x1=\"29\" y1=\"0\" x2=\"99\" y2=\"70\" />\n",
       "  <line x1=\"31\" y1=\"0\" x2=\"101\" y2=\"70\" />\n",
       "  <line x1=\"33\" y1=\"0\" x2=\"104\" y2=\"70\" />\n",
       "  <line x1=\"35\" y1=\"0\" x2=\"106\" y2=\"70\" />\n",
       "  <line x1=\"37\" y1=\"0\" x2=\"108\" y2=\"70\" />\n",
       "  <line x1=\"39\" y1=\"0\" x2=\"110\" y2=\"70\" />\n",
       "  <line x1=\"41\" y1=\"0\" x2=\"112\" y2=\"70\" />\n",
       "  <line x1=\"44\" y1=\"0\" x2=\"114\" y2=\"70\" />\n",
       "  <line x1=\"44\" y1=\"0\" x2=\"114\" y2=\"70\" style=\"stroke-width:2\" />\n",
       "\n",
       "  <!-- Colored Rectangle -->\n",
       "  <polygon points=\"10.0,0.0 44.08680348533133,0.0 114.67503877944898,70.58823529411765 80.58823529411765,70.58823529411765\" style=\"fill:#8B4903A0;stroke-width:0\"/>\n",
       "\n",
       "  <!-- Horizontal lines -->\n",
       "  <line x1=\"80\" y1=\"70\" x2=\"114\" y2=\"70\" style=\"stroke-width:2\" />\n",
       "  <line x1=\"80\" y1=\"74\" x2=\"114\" y2=\"74\" />\n",
       "  <line x1=\"80\" y1=\"78\" x2=\"114\" y2=\"78\" />\n",
       "  <line x1=\"80\" y1=\"81\" x2=\"114\" y2=\"81\" />\n",
       "  <line x1=\"80\" y1=\"85\" x2=\"114\" y2=\"85\" />\n",
       "  <line x1=\"80\" y1=\"89\" x2=\"114\" y2=\"89\" />\n",
       "  <line x1=\"80\" y1=\"93\" x2=\"114\" y2=\"93\" />\n",
       "  <line x1=\"80\" y1=\"96\" x2=\"114\" y2=\"96\" />\n",
       "  <line x1=\"80\" y1=\"100\" x2=\"114\" y2=\"100\" style=\"stroke-width:2\" />\n",
       "\n",
       "  <!-- Vertical lines -->\n",
       "  <line x1=\"80\" y1=\"70\" x2=\"80\" y2=\"100\" style=\"stroke-width:2\" />\n",
       "  <line x1=\"82\" y1=\"70\" x2=\"82\" y2=\"100\" />\n",
       "  <line x1=\"84\" y1=\"70\" x2=\"84\" y2=\"100\" />\n",
       "  <line x1=\"86\" y1=\"70\" x2=\"86\" y2=\"100\" />\n",
       "  <line x1=\"89\" y1=\"70\" x2=\"89\" y2=\"100\" />\n",
       "  <line x1=\"91\" y1=\"70\" x2=\"91\" y2=\"100\" />\n",
       "  <line x1=\"93\" y1=\"70\" x2=\"93\" y2=\"100\" />\n",
       "  <line x1=\"95\" y1=\"70\" x2=\"95\" y2=\"100\" />\n",
       "  <line x1=\"97\" y1=\"70\" x2=\"97\" y2=\"100\" />\n",
       "  <line x1=\"99\" y1=\"70\" x2=\"99\" y2=\"100\" />\n",
       "  <line x1=\"101\" y1=\"70\" x2=\"101\" y2=\"100\" />\n",
       "  <line x1=\"104\" y1=\"70\" x2=\"104\" y2=\"100\" />\n",
       "  <line x1=\"106\" y1=\"70\" x2=\"106\" y2=\"100\" />\n",
       "  <line x1=\"108\" y1=\"70\" x2=\"108\" y2=\"100\" />\n",
       "  <line x1=\"110\" y1=\"70\" x2=\"110\" y2=\"100\" />\n",
       "  <line x1=\"112\" y1=\"70\" x2=\"112\" y2=\"100\" />\n",
       "  <line x1=\"114\" y1=\"70\" x2=\"114\" y2=\"100\" />\n",
       "  <line x1=\"114\" y1=\"70\" x2=\"114\" y2=\"100\" style=\"stroke-width:2\" />\n",
       "\n",
       "  <!-- Colored Rectangle -->\n",
       "  <polygon points=\"80.58823529411765,70.58823529411765 114.67503877944898,70.58823529411765 114.67503877944898,100.50586840145468 80.58823529411765,100.50586840145468\" style=\"fill:#ECB172A0;stroke-width:0\"/>\n",
       "\n",
       "  <!-- Text -->\n",
       "  <text x=\"97.631637\" y=\"120.505868\" font-size=\"1.0rem\" font-weight=\"100\" text-anchor=\"middle\" >8193</text>\n",
       "  <text x=\"134.675039\" y=\"85.547052\" font-size=\"1.0rem\" font-weight=\"100\" text-anchor=\"middle\" transform=\"rotate(-90,134.675039,85.547052)\">4096</text>\n",
       "  <text x=\"35.294118\" y=\"85.211751\" font-size=\"1.0rem\" font-weight=\"100\" text-anchor=\"middle\" transform=\"rotate(45,35.294118,85.211751)\">175320</text>\n",
       "</svg>\n",
       "        </td>\n",
       "    </tr>\n",
       "</table></div></li><li class='xr-var-item'><div class='xr-var-name'><span>str</span></div><div class='xr-var-dims'>(time, latitude, longitude)</div><div class='xr-var-dtype'>float32</div><div class='xr-var-preview xr-preview'>dask.array&lt;chunksize=(48, 512, 512), meta=np.ndarray&gt;</div><input id='attrs-7580cf9c-f2da-43da-acaf-e18aa765ec56' class='xr-var-attrs-in' type='checkbox' ><label for='attrs-7580cf9c-f2da-43da-acaf-e18aa765ec56' title='Show/Hide attributes'><svg class='icon xr-icon-file-text2'><use xlink:href='#icon-file-text2'></use></svg></label><input id='data-2836e6bf-d6f0-4b2b-bab9-e7ba2ffb2535' class='xr-var-data-in' type='checkbox'><label for='data-2836e6bf-d6f0-4b2b-bab9-e7ba2ffb2535' title='Show/Hide data repr'><svg class='icon xr-icon-database'><use xlink:href='#icon-database'></use></svg></label><div class='xr-var-attrs'><dl class='xr-attrs'><dt><span>GRIB_NV :</span></dt><dd>0</dd><dt><span>GRIB_cfName :</span></dt><dd>surface_net_upward_longwave_flux</dd><dt><span>GRIB_cfVarName :</span></dt><dd>str</dd><dt><span>GRIB_dataType :</span></dt><dd>fc</dd><dt><span>GRIB_gridDefinitionDescription :</span></dt><dd>150</dd><dt><span>GRIB_gridType :</span></dt><dd>healpix</dd><dt><span>GRIB_missingValue :</span></dt><dd>3.4028234663852886e+38</dd><dt><span>GRIB_name :</span></dt><dd>Surface net long-wave (thermal) radiation</dd><dt><span>GRIB_numberOfPoints :</span></dt><dd>12582912</dd><dt><span>GRIB_paramId :</span></dt><dd>177</dd><dt><span>GRIB_shortName :</span></dt><dd>str</dd><dt><span>GRIB_stepType :</span></dt><dd>accum</dd><dt><span>GRIB_stepUnits :</span></dt><dd>1</dd><dt><span>GRIB_typeOfLevel :</span></dt><dd>surface</dd><dt><span>GRIB_units :</span></dt><dd>J m**-2</dd><dt><span>last_restart_dim_updated :</span></dt><dd>175320</dd><dt><span>long_name :</span></dt><dd>Surface net long-wave (thermal) radiation</dd><dt><span>standard_name :</span></dt><dd>surface_net_upward_longwave_flux</dd><dt><span>units :</span></dt><dd>J m**-2</dd></dl></div><div class='xr-var-data'><table>\n",
       "    <tr>\n",
       "        <td>\n",
       "            <table style=\"border-collapse: collapse;\">\n",
       "                <thead>\n",
       "                    <tr>\n",
       "                        <td> </td>\n",
       "                        <th> Array </th>\n",
       "                        <th> Chunk </th>\n",
       "                    </tr>\n",
       "                </thead>\n",
       "                <tbody>\n",
       "                    \n",
       "                    <tr>\n",
       "                        <th> Bytes </th>\n",
       "                        <td> 21.40 TiB </td>\n",
       "                        <td> 48.00 MiB </td>\n",
       "                    </tr>\n",
       "                    \n",
       "                    <tr>\n",
       "                        <th> Shape </th>\n",
       "                        <td> (175320, 4096, 8193) </td>\n",
       "                        <td> (48, 512, 512) </td>\n",
       "                    </tr>\n",
       "                    <tr>\n",
       "                        <th> Dask graph </th>\n",
       "                        <td colspan=\"2\"> 496808 chunks in 2 graph layers </td>\n",
       "                    </tr>\n",
       "                    <tr>\n",
       "                        <th> Data type </th>\n",
       "                        <td colspan=\"2\"> float32 numpy.ndarray </td>\n",
       "                    </tr>\n",
       "                </tbody>\n",
       "            </table>\n",
       "        </td>\n",
       "        <td>\n",
       "        <svg width=\"164\" height=\"150\" style=\"stroke:rgb(0,0,0);stroke-width:1\" >\n",
       "\n",
       "  <!-- Horizontal lines -->\n",
       "  <line x1=\"10\" y1=\"0\" x2=\"80\" y2=\"70\" style=\"stroke-width:2\" />\n",
       "  <line x1=\"10\" y1=\"3\" x2=\"80\" y2=\"74\" />\n",
       "  <line x1=\"10\" y1=\"7\" x2=\"80\" y2=\"78\" />\n",
       "  <line x1=\"10\" y1=\"11\" x2=\"80\" y2=\"81\" />\n",
       "  <line x1=\"10\" y1=\"14\" x2=\"80\" y2=\"85\" />\n",
       "  <line x1=\"10\" y1=\"18\" x2=\"80\" y2=\"89\" />\n",
       "  <line x1=\"10\" y1=\"22\" x2=\"80\" y2=\"93\" />\n",
       "  <line x1=\"10\" y1=\"26\" x2=\"80\" y2=\"96\" />\n",
       "  <line x1=\"10\" y1=\"29\" x2=\"80\" y2=\"100\" style=\"stroke-width:2\" />\n",
       "\n",
       "  <!-- Vertical lines -->\n",
       "  <line x1=\"10\" y1=\"0\" x2=\"10\" y2=\"29\" style=\"stroke-width:2\" />\n",
       "  <line x1=\"13\" y1=\"3\" x2=\"13\" y2=\"33\" />\n",
       "  <line x1=\"17\" y1=\"7\" x2=\"17\" y2=\"37\" />\n",
       "  <line x1=\"21\" y1=\"11\" x2=\"21\" y2=\"41\" />\n",
       "  <line x1=\"24\" y1=\"14\" x2=\"24\" y2=\"44\" />\n",
       "  <line x1=\"28\" y1=\"18\" x2=\"28\" y2=\"48\" />\n",
       "  <line x1=\"32\" y1=\"22\" x2=\"32\" y2=\"52\" />\n",
       "  <line x1=\"35\" y1=\"25\" x2=\"35\" y2=\"55\" />\n",
       "  <line x1=\"39\" y1=\"29\" x2=\"39\" y2=\"59\" />\n",
       "  <line x1=\"43\" y1=\"33\" x2=\"43\" y2=\"63\" />\n",
       "  <line x1=\"47\" y1=\"37\" x2=\"47\" y2=\"67\" />\n",
       "  <line x1=\"50\" y1=\"40\" x2=\"50\" y2=\"70\" />\n",
       "  <line x1=\"54\" y1=\"44\" x2=\"54\" y2=\"74\" />\n",
       "  <line x1=\"58\" y1=\"48\" x2=\"58\" y2=\"78\" />\n",
       "  <line x1=\"62\" y1=\"52\" x2=\"62\" y2=\"81\" />\n",
       "  <line x1=\"65\" y1=\"55\" x2=\"65\" y2=\"85\" />\n",
       "  <line x1=\"69\" y1=\"59\" x2=\"69\" y2=\"89\" />\n",
       "  <line x1=\"73\" y1=\"63\" x2=\"73\" y2=\"93\" />\n",
       "  <line x1=\"76\" y1=\"66\" x2=\"76\" y2=\"96\" />\n",
       "  <line x1=\"80\" y1=\"70\" x2=\"80\" y2=\"100\" style=\"stroke-width:2\" />\n",
       "\n",
       "  <!-- Colored Rectangle -->\n",
       "  <polygon points=\"10.0,0.0 80.58823529411765,70.58823529411765 80.58823529411765,100.50586840145468 10.0,29.91763310733703\" style=\"fill:#8B4903A0;stroke-width:0\"/>\n",
       "\n",
       "  <!-- Horizontal lines -->\n",
       "  <line x1=\"10\" y1=\"0\" x2=\"44\" y2=\"0\" style=\"stroke-width:2\" />\n",
       "  <line x1=\"13\" y1=\"3\" x2=\"47\" y2=\"3\" />\n",
       "  <line x1=\"17\" y1=\"7\" x2=\"51\" y2=\"7\" />\n",
       "  <line x1=\"21\" y1=\"11\" x2=\"55\" y2=\"11\" />\n",
       "  <line x1=\"24\" y1=\"14\" x2=\"58\" y2=\"14\" />\n",
       "  <line x1=\"28\" y1=\"18\" x2=\"62\" y2=\"18\" />\n",
       "  <line x1=\"32\" y1=\"22\" x2=\"66\" y2=\"22\" />\n",
       "  <line x1=\"35\" y1=\"25\" x2=\"70\" y2=\"25\" />\n",
       "  <line x1=\"39\" y1=\"29\" x2=\"73\" y2=\"29\" />\n",
       "  <line x1=\"43\" y1=\"33\" x2=\"77\" y2=\"33\" />\n",
       "  <line x1=\"47\" y1=\"37\" x2=\"81\" y2=\"37\" />\n",
       "  <line x1=\"50\" y1=\"40\" x2=\"84\" y2=\"40\" />\n",
       "  <line x1=\"54\" y1=\"44\" x2=\"88\" y2=\"44\" />\n",
       "  <line x1=\"58\" y1=\"48\" x2=\"92\" y2=\"48\" />\n",
       "  <line x1=\"62\" y1=\"52\" x2=\"96\" y2=\"52\" />\n",
       "  <line x1=\"65\" y1=\"55\" x2=\"99\" y2=\"55\" />\n",
       "  <line x1=\"69\" y1=\"59\" x2=\"103\" y2=\"59\" />\n",
       "  <line x1=\"73\" y1=\"63\" x2=\"107\" y2=\"63\" />\n",
       "  <line x1=\"76\" y1=\"66\" x2=\"110\" y2=\"66\" />\n",
       "  <line x1=\"80\" y1=\"70\" x2=\"114\" y2=\"70\" style=\"stroke-width:2\" />\n",
       "\n",
       "  <!-- Vertical lines -->\n",
       "  <line x1=\"10\" y1=\"0\" x2=\"80\" y2=\"70\" style=\"stroke-width:2\" />\n",
       "  <line x1=\"12\" y1=\"0\" x2=\"82\" y2=\"70\" />\n",
       "  <line x1=\"14\" y1=\"0\" x2=\"84\" y2=\"70\" />\n",
       "  <line x1=\"16\" y1=\"0\" x2=\"86\" y2=\"70\" />\n",
       "  <line x1=\"18\" y1=\"0\" x2=\"89\" y2=\"70\" />\n",
       "  <line x1=\"20\" y1=\"0\" x2=\"91\" y2=\"70\" />\n",
       "  <line x1=\"22\" y1=\"0\" x2=\"93\" y2=\"70\" />\n",
       "  <line x1=\"24\" y1=\"0\" x2=\"95\" y2=\"70\" />\n",
       "  <line x1=\"27\" y1=\"0\" x2=\"97\" y2=\"70\" />\n",
       "  <line x1=\"29\" y1=\"0\" x2=\"99\" y2=\"70\" />\n",
       "  <line x1=\"31\" y1=\"0\" x2=\"101\" y2=\"70\" />\n",
       "  <line x1=\"33\" y1=\"0\" x2=\"104\" y2=\"70\" />\n",
       "  <line x1=\"35\" y1=\"0\" x2=\"106\" y2=\"70\" />\n",
       "  <line x1=\"37\" y1=\"0\" x2=\"108\" y2=\"70\" />\n",
       "  <line x1=\"39\" y1=\"0\" x2=\"110\" y2=\"70\" />\n",
       "  <line x1=\"41\" y1=\"0\" x2=\"112\" y2=\"70\" />\n",
       "  <line x1=\"44\" y1=\"0\" x2=\"114\" y2=\"70\" />\n",
       "  <line x1=\"44\" y1=\"0\" x2=\"114\" y2=\"70\" style=\"stroke-width:2\" />\n",
       "\n",
       "  <!-- Colored Rectangle -->\n",
       "  <polygon points=\"10.0,0.0 44.08680348533133,0.0 114.67503877944898,70.58823529411765 80.58823529411765,70.58823529411765\" style=\"fill:#8B4903A0;stroke-width:0\"/>\n",
       "\n",
       "  <!-- Horizontal lines -->\n",
       "  <line x1=\"80\" y1=\"70\" x2=\"114\" y2=\"70\" style=\"stroke-width:2\" />\n",
       "  <line x1=\"80\" y1=\"74\" x2=\"114\" y2=\"74\" />\n",
       "  <line x1=\"80\" y1=\"78\" x2=\"114\" y2=\"78\" />\n",
       "  <line x1=\"80\" y1=\"81\" x2=\"114\" y2=\"81\" />\n",
       "  <line x1=\"80\" y1=\"85\" x2=\"114\" y2=\"85\" />\n",
       "  <line x1=\"80\" y1=\"89\" x2=\"114\" y2=\"89\" />\n",
       "  <line x1=\"80\" y1=\"93\" x2=\"114\" y2=\"93\" />\n",
       "  <line x1=\"80\" y1=\"96\" x2=\"114\" y2=\"96\" />\n",
       "  <line x1=\"80\" y1=\"100\" x2=\"114\" y2=\"100\" style=\"stroke-width:2\" />\n",
       "\n",
       "  <!-- Vertical lines -->\n",
       "  <line x1=\"80\" y1=\"70\" x2=\"80\" y2=\"100\" style=\"stroke-width:2\" />\n",
       "  <line x1=\"82\" y1=\"70\" x2=\"82\" y2=\"100\" />\n",
       "  <line x1=\"84\" y1=\"70\" x2=\"84\" y2=\"100\" />\n",
       "  <line x1=\"86\" y1=\"70\" x2=\"86\" y2=\"100\" />\n",
       "  <line x1=\"89\" y1=\"70\" x2=\"89\" y2=\"100\" />\n",
       "  <line x1=\"91\" y1=\"70\" x2=\"91\" y2=\"100\" />\n",
       "  <line x1=\"93\" y1=\"70\" x2=\"93\" y2=\"100\" />\n",
       "  <line x1=\"95\" y1=\"70\" x2=\"95\" y2=\"100\" />\n",
       "  <line x1=\"97\" y1=\"70\" x2=\"97\" y2=\"100\" />\n",
       "  <line x1=\"99\" y1=\"70\" x2=\"99\" y2=\"100\" />\n",
       "  <line x1=\"101\" y1=\"70\" x2=\"101\" y2=\"100\" />\n",
       "  <line x1=\"104\" y1=\"70\" x2=\"104\" y2=\"100\" />\n",
       "  <line x1=\"106\" y1=\"70\" x2=\"106\" y2=\"100\" />\n",
       "  <line x1=\"108\" y1=\"70\" x2=\"108\" y2=\"100\" />\n",
       "  <line x1=\"110\" y1=\"70\" x2=\"110\" y2=\"100\" />\n",
       "  <line x1=\"112\" y1=\"70\" x2=\"112\" y2=\"100\" />\n",
       "  <line x1=\"114\" y1=\"70\" x2=\"114\" y2=\"100\" />\n",
       "  <line x1=\"114\" y1=\"70\" x2=\"114\" y2=\"100\" style=\"stroke-width:2\" />\n",
       "\n",
       "  <!-- Colored Rectangle -->\n",
       "  <polygon points=\"80.58823529411765,70.58823529411765 114.67503877944898,70.58823529411765 114.67503877944898,100.50586840145468 80.58823529411765,100.50586840145468\" style=\"fill:#ECB172A0;stroke-width:0\"/>\n",
       "\n",
       "  <!-- Text -->\n",
       "  <text x=\"97.631637\" y=\"120.505868\" font-size=\"1.0rem\" font-weight=\"100\" text-anchor=\"middle\" >8193</text>\n",
       "  <text x=\"134.675039\" y=\"85.547052\" font-size=\"1.0rem\" font-weight=\"100\" text-anchor=\"middle\" transform=\"rotate(-90,134.675039,85.547052)\">4096</text>\n",
       "  <text x=\"35.294118\" y=\"85.211751\" font-size=\"1.0rem\" font-weight=\"100\" text-anchor=\"middle\" transform=\"rotate(45,35.294118,85.211751)\">175320</text>\n",
       "</svg>\n",
       "        </td>\n",
       "    </tr>\n",
       "</table></div></li><li class='xr-var-item'><div class='xr-var-name'><span>t2m</span></div><div class='xr-var-dims'>(time, latitude, longitude)</div><div class='xr-var-dtype'>float32</div><div class='xr-var-preview xr-preview'>dask.array&lt;chunksize=(48, 512, 512), meta=np.ndarray&gt;</div><input id='attrs-08089c09-2c82-45e2-a0a6-2fe341ae996f' class='xr-var-attrs-in' type='checkbox' ><label for='attrs-08089c09-2c82-45e2-a0a6-2fe341ae996f' title='Show/Hide attributes'><svg class='icon xr-icon-file-text2'><use xlink:href='#icon-file-text2'></use></svg></label><input id='data-3a9547a0-715a-4f50-8c70-168ae0979428' class='xr-var-data-in' type='checkbox'><label for='data-3a9547a0-715a-4f50-8c70-168ae0979428' title='Show/Hide data repr'><svg class='icon xr-icon-database'><use xlink:href='#icon-database'></use></svg></label><div class='xr-var-attrs'><dl class='xr-attrs'><dt><span>GRIB_NV :</span></dt><dd>0</dd><dt><span>GRIB_cfName :</span></dt><dd>air_temperature</dd><dt><span>GRIB_cfVarName :</span></dt><dd>t2m</dd><dt><span>GRIB_dataType :</span></dt><dd>fc</dd><dt><span>GRIB_gridDefinitionDescription :</span></dt><dd>150</dd><dt><span>GRIB_gridType :</span></dt><dd>healpix</dd><dt><span>GRIB_missingValue :</span></dt><dd>3.4028234663852886e+38</dd><dt><span>GRIB_name :</span></dt><dd>2 metre temperature</dd><dt><span>GRIB_numberOfPoints :</span></dt><dd>12582912</dd><dt><span>GRIB_paramId :</span></dt><dd>167</dd><dt><span>GRIB_shortName :</span></dt><dd>2t</dd><dt><span>GRIB_stepType :</span></dt><dd>instant</dd><dt><span>GRIB_stepUnits :</span></dt><dd>1</dd><dt><span>GRIB_typeOfLevel :</span></dt><dd>heightAboveGround</dd><dt><span>GRIB_units :</span></dt><dd>K</dd><dt><span>last_restart_dim_updated :</span></dt><dd>175320</dd><dt><span>long_name :</span></dt><dd>2 metre temperature</dd><dt><span>standard_name :</span></dt><dd>air_temperature</dd><dt><span>units :</span></dt><dd>K</dd></dl></div><div class='xr-var-data'><table>\n",
       "    <tr>\n",
       "        <td>\n",
       "            <table style=\"border-collapse: collapse;\">\n",
       "                <thead>\n",
       "                    <tr>\n",
       "                        <td> </td>\n",
       "                        <th> Array </th>\n",
       "                        <th> Chunk </th>\n",
       "                    </tr>\n",
       "                </thead>\n",
       "                <tbody>\n",
       "                    \n",
       "                    <tr>\n",
       "                        <th> Bytes </th>\n",
       "                        <td> 21.40 TiB </td>\n",
       "                        <td> 48.00 MiB </td>\n",
       "                    </tr>\n",
       "                    \n",
       "                    <tr>\n",
       "                        <th> Shape </th>\n",
       "                        <td> (175320, 4096, 8193) </td>\n",
       "                        <td> (48, 512, 512) </td>\n",
       "                    </tr>\n",
       "                    <tr>\n",
       "                        <th> Dask graph </th>\n",
       "                        <td colspan=\"2\"> 496808 chunks in 2 graph layers </td>\n",
       "                    </tr>\n",
       "                    <tr>\n",
       "                        <th> Data type </th>\n",
       "                        <td colspan=\"2\"> float32 numpy.ndarray </td>\n",
       "                    </tr>\n",
       "                </tbody>\n",
       "            </table>\n",
       "        </td>\n",
       "        <td>\n",
       "        <svg width=\"164\" height=\"150\" style=\"stroke:rgb(0,0,0);stroke-width:1\" >\n",
       "\n",
       "  <!-- Horizontal lines -->\n",
       "  <line x1=\"10\" y1=\"0\" x2=\"80\" y2=\"70\" style=\"stroke-width:2\" />\n",
       "  <line x1=\"10\" y1=\"3\" x2=\"80\" y2=\"74\" />\n",
       "  <line x1=\"10\" y1=\"7\" x2=\"80\" y2=\"78\" />\n",
       "  <line x1=\"10\" y1=\"11\" x2=\"80\" y2=\"81\" />\n",
       "  <line x1=\"10\" y1=\"14\" x2=\"80\" y2=\"85\" />\n",
       "  <line x1=\"10\" y1=\"18\" x2=\"80\" y2=\"89\" />\n",
       "  <line x1=\"10\" y1=\"22\" x2=\"80\" y2=\"93\" />\n",
       "  <line x1=\"10\" y1=\"26\" x2=\"80\" y2=\"96\" />\n",
       "  <line x1=\"10\" y1=\"29\" x2=\"80\" y2=\"100\" style=\"stroke-width:2\" />\n",
       "\n",
       "  <!-- Vertical lines -->\n",
       "  <line x1=\"10\" y1=\"0\" x2=\"10\" y2=\"29\" style=\"stroke-width:2\" />\n",
       "  <line x1=\"13\" y1=\"3\" x2=\"13\" y2=\"33\" />\n",
       "  <line x1=\"17\" y1=\"7\" x2=\"17\" y2=\"37\" />\n",
       "  <line x1=\"21\" y1=\"11\" x2=\"21\" y2=\"41\" />\n",
       "  <line x1=\"24\" y1=\"14\" x2=\"24\" y2=\"44\" />\n",
       "  <line x1=\"28\" y1=\"18\" x2=\"28\" y2=\"48\" />\n",
       "  <line x1=\"32\" y1=\"22\" x2=\"32\" y2=\"52\" />\n",
       "  <line x1=\"35\" y1=\"25\" x2=\"35\" y2=\"55\" />\n",
       "  <line x1=\"39\" y1=\"29\" x2=\"39\" y2=\"59\" />\n",
       "  <line x1=\"43\" y1=\"33\" x2=\"43\" y2=\"63\" />\n",
       "  <line x1=\"47\" y1=\"37\" x2=\"47\" y2=\"67\" />\n",
       "  <line x1=\"50\" y1=\"40\" x2=\"50\" y2=\"70\" />\n",
       "  <line x1=\"54\" y1=\"44\" x2=\"54\" y2=\"74\" />\n",
       "  <line x1=\"58\" y1=\"48\" x2=\"58\" y2=\"78\" />\n",
       "  <line x1=\"62\" y1=\"52\" x2=\"62\" y2=\"81\" />\n",
       "  <line x1=\"65\" y1=\"55\" x2=\"65\" y2=\"85\" />\n",
       "  <line x1=\"69\" y1=\"59\" x2=\"69\" y2=\"89\" />\n",
       "  <line x1=\"73\" y1=\"63\" x2=\"73\" y2=\"93\" />\n",
       "  <line x1=\"76\" y1=\"66\" x2=\"76\" y2=\"96\" />\n",
       "  <line x1=\"80\" y1=\"70\" x2=\"80\" y2=\"100\" style=\"stroke-width:2\" />\n",
       "\n",
       "  <!-- Colored Rectangle -->\n",
       "  <polygon points=\"10.0,0.0 80.58823529411765,70.58823529411765 80.58823529411765,100.50586840145468 10.0,29.91763310733703\" style=\"fill:#8B4903A0;stroke-width:0\"/>\n",
       "\n",
       "  <!-- Horizontal lines -->\n",
       "  <line x1=\"10\" y1=\"0\" x2=\"44\" y2=\"0\" style=\"stroke-width:2\" />\n",
       "  <line x1=\"13\" y1=\"3\" x2=\"47\" y2=\"3\" />\n",
       "  <line x1=\"17\" y1=\"7\" x2=\"51\" y2=\"7\" />\n",
       "  <line x1=\"21\" y1=\"11\" x2=\"55\" y2=\"11\" />\n",
       "  <line x1=\"24\" y1=\"14\" x2=\"58\" y2=\"14\" />\n",
       "  <line x1=\"28\" y1=\"18\" x2=\"62\" y2=\"18\" />\n",
       "  <line x1=\"32\" y1=\"22\" x2=\"66\" y2=\"22\" />\n",
       "  <line x1=\"35\" y1=\"25\" x2=\"70\" y2=\"25\" />\n",
       "  <line x1=\"39\" y1=\"29\" x2=\"73\" y2=\"29\" />\n",
       "  <line x1=\"43\" y1=\"33\" x2=\"77\" y2=\"33\" />\n",
       "  <line x1=\"47\" y1=\"37\" x2=\"81\" y2=\"37\" />\n",
       "  <line x1=\"50\" y1=\"40\" x2=\"84\" y2=\"40\" />\n",
       "  <line x1=\"54\" y1=\"44\" x2=\"88\" y2=\"44\" />\n",
       "  <line x1=\"58\" y1=\"48\" x2=\"92\" y2=\"48\" />\n",
       "  <line x1=\"62\" y1=\"52\" x2=\"96\" y2=\"52\" />\n",
       "  <line x1=\"65\" y1=\"55\" x2=\"99\" y2=\"55\" />\n",
       "  <line x1=\"69\" y1=\"59\" x2=\"103\" y2=\"59\" />\n",
       "  <line x1=\"73\" y1=\"63\" x2=\"107\" y2=\"63\" />\n",
       "  <line x1=\"76\" y1=\"66\" x2=\"110\" y2=\"66\" />\n",
       "  <line x1=\"80\" y1=\"70\" x2=\"114\" y2=\"70\" style=\"stroke-width:2\" />\n",
       "\n",
       "  <!-- Vertical lines -->\n",
       "  <line x1=\"10\" y1=\"0\" x2=\"80\" y2=\"70\" style=\"stroke-width:2\" />\n",
       "  <line x1=\"12\" y1=\"0\" x2=\"82\" y2=\"70\" />\n",
       "  <line x1=\"14\" y1=\"0\" x2=\"84\" y2=\"70\" />\n",
       "  <line x1=\"16\" y1=\"0\" x2=\"86\" y2=\"70\" />\n",
       "  <line x1=\"18\" y1=\"0\" x2=\"89\" y2=\"70\" />\n",
       "  <line x1=\"20\" y1=\"0\" x2=\"91\" y2=\"70\" />\n",
       "  <line x1=\"22\" y1=\"0\" x2=\"93\" y2=\"70\" />\n",
       "  <line x1=\"24\" y1=\"0\" x2=\"95\" y2=\"70\" />\n",
       "  <line x1=\"27\" y1=\"0\" x2=\"97\" y2=\"70\" />\n",
       "  <line x1=\"29\" y1=\"0\" x2=\"99\" y2=\"70\" />\n",
       "  <line x1=\"31\" y1=\"0\" x2=\"101\" y2=\"70\" />\n",
       "  <line x1=\"33\" y1=\"0\" x2=\"104\" y2=\"70\" />\n",
       "  <line x1=\"35\" y1=\"0\" x2=\"106\" y2=\"70\" />\n",
       "  <line x1=\"37\" y1=\"0\" x2=\"108\" y2=\"70\" />\n",
       "  <line x1=\"39\" y1=\"0\" x2=\"110\" y2=\"70\" />\n",
       "  <line x1=\"41\" y1=\"0\" x2=\"112\" y2=\"70\" />\n",
       "  <line x1=\"44\" y1=\"0\" x2=\"114\" y2=\"70\" />\n",
       "  <line x1=\"44\" y1=\"0\" x2=\"114\" y2=\"70\" style=\"stroke-width:2\" />\n",
       "\n",
       "  <!-- Colored Rectangle -->\n",
       "  <polygon points=\"10.0,0.0 44.08680348533133,0.0 114.67503877944898,70.58823529411765 80.58823529411765,70.58823529411765\" style=\"fill:#8B4903A0;stroke-width:0\"/>\n",
       "\n",
       "  <!-- Horizontal lines -->\n",
       "  <line x1=\"80\" y1=\"70\" x2=\"114\" y2=\"70\" style=\"stroke-width:2\" />\n",
       "  <line x1=\"80\" y1=\"74\" x2=\"114\" y2=\"74\" />\n",
       "  <line x1=\"80\" y1=\"78\" x2=\"114\" y2=\"78\" />\n",
       "  <line x1=\"80\" y1=\"81\" x2=\"114\" y2=\"81\" />\n",
       "  <line x1=\"80\" y1=\"85\" x2=\"114\" y2=\"85\" />\n",
       "  <line x1=\"80\" y1=\"89\" x2=\"114\" y2=\"89\" />\n",
       "  <line x1=\"80\" y1=\"93\" x2=\"114\" y2=\"93\" />\n",
       "  <line x1=\"80\" y1=\"96\" x2=\"114\" y2=\"96\" />\n",
       "  <line x1=\"80\" y1=\"100\" x2=\"114\" y2=\"100\" style=\"stroke-width:2\" />\n",
       "\n",
       "  <!-- Vertical lines -->\n",
       "  <line x1=\"80\" y1=\"70\" x2=\"80\" y2=\"100\" style=\"stroke-width:2\" />\n",
       "  <line x1=\"82\" y1=\"70\" x2=\"82\" y2=\"100\" />\n",
       "  <line x1=\"84\" y1=\"70\" x2=\"84\" y2=\"100\" />\n",
       "  <line x1=\"86\" y1=\"70\" x2=\"86\" y2=\"100\" />\n",
       "  <line x1=\"89\" y1=\"70\" x2=\"89\" y2=\"100\" />\n",
       "  <line x1=\"91\" y1=\"70\" x2=\"91\" y2=\"100\" />\n",
       "  <line x1=\"93\" y1=\"70\" x2=\"93\" y2=\"100\" />\n",
       "  <line x1=\"95\" y1=\"70\" x2=\"95\" y2=\"100\" />\n",
       "  <line x1=\"97\" y1=\"70\" x2=\"97\" y2=\"100\" />\n",
       "  <line x1=\"99\" y1=\"70\" x2=\"99\" y2=\"100\" />\n",
       "  <line x1=\"101\" y1=\"70\" x2=\"101\" y2=\"100\" />\n",
       "  <line x1=\"104\" y1=\"70\" x2=\"104\" y2=\"100\" />\n",
       "  <line x1=\"106\" y1=\"70\" x2=\"106\" y2=\"100\" />\n",
       "  <line x1=\"108\" y1=\"70\" x2=\"108\" y2=\"100\" />\n",
       "  <line x1=\"110\" y1=\"70\" x2=\"110\" y2=\"100\" />\n",
       "  <line x1=\"112\" y1=\"70\" x2=\"112\" y2=\"100\" />\n",
       "  <line x1=\"114\" y1=\"70\" x2=\"114\" y2=\"100\" />\n",
       "  <line x1=\"114\" y1=\"70\" x2=\"114\" y2=\"100\" style=\"stroke-width:2\" />\n",
       "\n",
       "  <!-- Colored Rectangle -->\n",
       "  <polygon points=\"80.58823529411765,70.58823529411765 114.67503877944898,70.58823529411765 114.67503877944898,100.50586840145468 80.58823529411765,100.50586840145468\" style=\"fill:#ECB172A0;stroke-width:0\"/>\n",
       "\n",
       "  <!-- Text -->\n",
       "  <text x=\"97.631637\" y=\"120.505868\" font-size=\"1.0rem\" font-weight=\"100\" text-anchor=\"middle\" >8193</text>\n",
       "  <text x=\"134.675039\" y=\"85.547052\" font-size=\"1.0rem\" font-weight=\"100\" text-anchor=\"middle\" transform=\"rotate(-90,134.675039,85.547052)\">4096</text>\n",
       "  <text x=\"35.294118\" y=\"85.211751\" font-size=\"1.0rem\" font-weight=\"100\" text-anchor=\"middle\" transform=\"rotate(45,35.294118,85.211751)\">175320</text>\n",
       "</svg>\n",
       "        </td>\n",
       "    </tr>\n",
       "</table></div></li><li class='xr-var-item'><div class='xr-var-name'><span>tprate</span></div><div class='xr-var-dims'>(time, latitude, longitude)</div><div class='xr-var-dtype'>float32</div><div class='xr-var-preview xr-preview'>dask.array&lt;chunksize=(48, 512, 512), meta=np.ndarray&gt;</div><input id='attrs-9b5e5585-c783-4b70-b79a-9db7ddf7f056' class='xr-var-attrs-in' type='checkbox' ><label for='attrs-9b5e5585-c783-4b70-b79a-9db7ddf7f056' title='Show/Hide attributes'><svg class='icon xr-icon-file-text2'><use xlink:href='#icon-file-text2'></use></svg></label><input id='data-54939dd9-d3ea-4ede-bada-c31ffed77af0' class='xr-var-data-in' type='checkbox'><label for='data-54939dd9-d3ea-4ede-bada-c31ffed77af0' title='Show/Hide data repr'><svg class='icon xr-icon-database'><use xlink:href='#icon-database'></use></svg></label><div class='xr-var-attrs'><dl class='xr-attrs'><dt><span>GRIB_NV :</span></dt><dd>0</dd><dt><span>GRIB_cfName :</span></dt><dd>unknown</dd><dt><span>GRIB_cfVarName :</span></dt><dd>tprate</dd><dt><span>GRIB_dataType :</span></dt><dd>fc</dd><dt><span>GRIB_gridDefinitionDescription :</span></dt><dd>150</dd><dt><span>GRIB_gridType :</span></dt><dd>healpix</dd><dt><span>GRIB_missingValue :</span></dt><dd>3.4028234663852886e+38</dd><dt><span>GRIB_name :</span></dt><dd>Total precipitation rate</dd><dt><span>GRIB_numberOfPoints :</span></dt><dd>12582912</dd><dt><span>GRIB_paramId :</span></dt><dd>260048</dd><dt><span>GRIB_shortName :</span></dt><dd>tprate</dd><dt><span>GRIB_stepType :</span></dt><dd>instant</dd><dt><span>GRIB_stepUnits :</span></dt><dd>1</dd><dt><span>GRIB_typeOfLevel :</span></dt><dd>surface</dd><dt><span>GRIB_units :</span></dt><dd>kg m**-2 s**-1</dd><dt><span>last_restart_dim_updated :</span></dt><dd>175320</dd><dt><span>long_name :</span></dt><dd>Total precipitation rate</dd><dt><span>standard_name :</span></dt><dd>unknown</dd><dt><span>units :</span></dt><dd>kg m**-2 s**-1</dd></dl></div><div class='xr-var-data'><table>\n",
       "    <tr>\n",
       "        <td>\n",
       "            <table style=\"border-collapse: collapse;\">\n",
       "                <thead>\n",
       "                    <tr>\n",
       "                        <td> </td>\n",
       "                        <th> Array </th>\n",
       "                        <th> Chunk </th>\n",
       "                    </tr>\n",
       "                </thead>\n",
       "                <tbody>\n",
       "                    \n",
       "                    <tr>\n",
       "                        <th> Bytes </th>\n",
       "                        <td> 21.40 TiB </td>\n",
       "                        <td> 48.00 MiB </td>\n",
       "                    </tr>\n",
       "                    \n",
       "                    <tr>\n",
       "                        <th> Shape </th>\n",
       "                        <td> (175320, 4096, 8193) </td>\n",
       "                        <td> (48, 512, 512) </td>\n",
       "                    </tr>\n",
       "                    <tr>\n",
       "                        <th> Dask graph </th>\n",
       "                        <td colspan=\"2\"> 496808 chunks in 2 graph layers </td>\n",
       "                    </tr>\n",
       "                    <tr>\n",
       "                        <th> Data type </th>\n",
       "                        <td colspan=\"2\"> float32 numpy.ndarray </td>\n",
       "                    </tr>\n",
       "                </tbody>\n",
       "            </table>\n",
       "        </td>\n",
       "        <td>\n",
       "        <svg width=\"164\" height=\"150\" style=\"stroke:rgb(0,0,0);stroke-width:1\" >\n",
       "\n",
       "  <!-- Horizontal lines -->\n",
       "  <line x1=\"10\" y1=\"0\" x2=\"80\" y2=\"70\" style=\"stroke-width:2\" />\n",
       "  <line x1=\"10\" y1=\"3\" x2=\"80\" y2=\"74\" />\n",
       "  <line x1=\"10\" y1=\"7\" x2=\"80\" y2=\"78\" />\n",
       "  <line x1=\"10\" y1=\"11\" x2=\"80\" y2=\"81\" />\n",
       "  <line x1=\"10\" y1=\"14\" x2=\"80\" y2=\"85\" />\n",
       "  <line x1=\"10\" y1=\"18\" x2=\"80\" y2=\"89\" />\n",
       "  <line x1=\"10\" y1=\"22\" x2=\"80\" y2=\"93\" />\n",
       "  <line x1=\"10\" y1=\"26\" x2=\"80\" y2=\"96\" />\n",
       "  <line x1=\"10\" y1=\"29\" x2=\"80\" y2=\"100\" style=\"stroke-width:2\" />\n",
       "\n",
       "  <!-- Vertical lines -->\n",
       "  <line x1=\"10\" y1=\"0\" x2=\"10\" y2=\"29\" style=\"stroke-width:2\" />\n",
       "  <line x1=\"13\" y1=\"3\" x2=\"13\" y2=\"33\" />\n",
       "  <line x1=\"17\" y1=\"7\" x2=\"17\" y2=\"37\" />\n",
       "  <line x1=\"21\" y1=\"11\" x2=\"21\" y2=\"41\" />\n",
       "  <line x1=\"24\" y1=\"14\" x2=\"24\" y2=\"44\" />\n",
       "  <line x1=\"28\" y1=\"18\" x2=\"28\" y2=\"48\" />\n",
       "  <line x1=\"32\" y1=\"22\" x2=\"32\" y2=\"52\" />\n",
       "  <line x1=\"35\" y1=\"25\" x2=\"35\" y2=\"55\" />\n",
       "  <line x1=\"39\" y1=\"29\" x2=\"39\" y2=\"59\" />\n",
       "  <line x1=\"43\" y1=\"33\" x2=\"43\" y2=\"63\" />\n",
       "  <line x1=\"47\" y1=\"37\" x2=\"47\" y2=\"67\" />\n",
       "  <line x1=\"50\" y1=\"40\" x2=\"50\" y2=\"70\" />\n",
       "  <line x1=\"54\" y1=\"44\" x2=\"54\" y2=\"74\" />\n",
       "  <line x1=\"58\" y1=\"48\" x2=\"58\" y2=\"78\" />\n",
       "  <line x1=\"62\" y1=\"52\" x2=\"62\" y2=\"81\" />\n",
       "  <line x1=\"65\" y1=\"55\" x2=\"65\" y2=\"85\" />\n",
       "  <line x1=\"69\" y1=\"59\" x2=\"69\" y2=\"89\" />\n",
       "  <line x1=\"73\" y1=\"63\" x2=\"73\" y2=\"93\" />\n",
       "  <line x1=\"76\" y1=\"66\" x2=\"76\" y2=\"96\" />\n",
       "  <line x1=\"80\" y1=\"70\" x2=\"80\" y2=\"100\" style=\"stroke-width:2\" />\n",
       "\n",
       "  <!-- Colored Rectangle -->\n",
       "  <polygon points=\"10.0,0.0 80.58823529411765,70.58823529411765 80.58823529411765,100.50586840145468 10.0,29.91763310733703\" style=\"fill:#8B4903A0;stroke-width:0\"/>\n",
       "\n",
       "  <!-- Horizontal lines -->\n",
       "  <line x1=\"10\" y1=\"0\" x2=\"44\" y2=\"0\" style=\"stroke-width:2\" />\n",
       "  <line x1=\"13\" y1=\"3\" x2=\"47\" y2=\"3\" />\n",
       "  <line x1=\"17\" y1=\"7\" x2=\"51\" y2=\"7\" />\n",
       "  <line x1=\"21\" y1=\"11\" x2=\"55\" y2=\"11\" />\n",
       "  <line x1=\"24\" y1=\"14\" x2=\"58\" y2=\"14\" />\n",
       "  <line x1=\"28\" y1=\"18\" x2=\"62\" y2=\"18\" />\n",
       "  <line x1=\"32\" y1=\"22\" x2=\"66\" y2=\"22\" />\n",
       "  <line x1=\"35\" y1=\"25\" x2=\"70\" y2=\"25\" />\n",
       "  <line x1=\"39\" y1=\"29\" x2=\"73\" y2=\"29\" />\n",
       "  <line x1=\"43\" y1=\"33\" x2=\"77\" y2=\"33\" />\n",
       "  <line x1=\"47\" y1=\"37\" x2=\"81\" y2=\"37\" />\n",
       "  <line x1=\"50\" y1=\"40\" x2=\"84\" y2=\"40\" />\n",
       "  <line x1=\"54\" y1=\"44\" x2=\"88\" y2=\"44\" />\n",
       "  <line x1=\"58\" y1=\"48\" x2=\"92\" y2=\"48\" />\n",
       "  <line x1=\"62\" y1=\"52\" x2=\"96\" y2=\"52\" />\n",
       "  <line x1=\"65\" y1=\"55\" x2=\"99\" y2=\"55\" />\n",
       "  <line x1=\"69\" y1=\"59\" x2=\"103\" y2=\"59\" />\n",
       "  <line x1=\"73\" y1=\"63\" x2=\"107\" y2=\"63\" />\n",
       "  <line x1=\"76\" y1=\"66\" x2=\"110\" y2=\"66\" />\n",
       "  <line x1=\"80\" y1=\"70\" x2=\"114\" y2=\"70\" style=\"stroke-width:2\" />\n",
       "\n",
       "  <!-- Vertical lines -->\n",
       "  <line x1=\"10\" y1=\"0\" x2=\"80\" y2=\"70\" style=\"stroke-width:2\" />\n",
       "  <line x1=\"12\" y1=\"0\" x2=\"82\" y2=\"70\" />\n",
       "  <line x1=\"14\" y1=\"0\" x2=\"84\" y2=\"70\" />\n",
       "  <line x1=\"16\" y1=\"0\" x2=\"86\" y2=\"70\" />\n",
       "  <line x1=\"18\" y1=\"0\" x2=\"89\" y2=\"70\" />\n",
       "  <line x1=\"20\" y1=\"0\" x2=\"91\" y2=\"70\" />\n",
       "  <line x1=\"22\" y1=\"0\" x2=\"93\" y2=\"70\" />\n",
       "  <line x1=\"24\" y1=\"0\" x2=\"95\" y2=\"70\" />\n",
       "  <line x1=\"27\" y1=\"0\" x2=\"97\" y2=\"70\" />\n",
       "  <line x1=\"29\" y1=\"0\" x2=\"99\" y2=\"70\" />\n",
       "  <line x1=\"31\" y1=\"0\" x2=\"101\" y2=\"70\" />\n",
       "  <line x1=\"33\" y1=\"0\" x2=\"104\" y2=\"70\" />\n",
       "  <line x1=\"35\" y1=\"0\" x2=\"106\" y2=\"70\" />\n",
       "  <line x1=\"37\" y1=\"0\" x2=\"108\" y2=\"70\" />\n",
       "  <line x1=\"39\" y1=\"0\" x2=\"110\" y2=\"70\" />\n",
       "  <line x1=\"41\" y1=\"0\" x2=\"112\" y2=\"70\" />\n",
       "  <line x1=\"44\" y1=\"0\" x2=\"114\" y2=\"70\" />\n",
       "  <line x1=\"44\" y1=\"0\" x2=\"114\" y2=\"70\" style=\"stroke-width:2\" />\n",
       "\n",
       "  <!-- Colored Rectangle -->\n",
       "  <polygon points=\"10.0,0.0 44.08680348533133,0.0 114.67503877944898,70.58823529411765 80.58823529411765,70.58823529411765\" style=\"fill:#8B4903A0;stroke-width:0\"/>\n",
       "\n",
       "  <!-- Horizontal lines -->\n",
       "  <line x1=\"80\" y1=\"70\" x2=\"114\" y2=\"70\" style=\"stroke-width:2\" />\n",
       "  <line x1=\"80\" y1=\"74\" x2=\"114\" y2=\"74\" />\n",
       "  <line x1=\"80\" y1=\"78\" x2=\"114\" y2=\"78\" />\n",
       "  <line x1=\"80\" y1=\"81\" x2=\"114\" y2=\"81\" />\n",
       "  <line x1=\"80\" y1=\"85\" x2=\"114\" y2=\"85\" />\n",
       "  <line x1=\"80\" y1=\"89\" x2=\"114\" y2=\"89\" />\n",
       "  <line x1=\"80\" y1=\"93\" x2=\"114\" y2=\"93\" />\n",
       "  <line x1=\"80\" y1=\"96\" x2=\"114\" y2=\"96\" />\n",
       "  <line x1=\"80\" y1=\"100\" x2=\"114\" y2=\"100\" style=\"stroke-width:2\" />\n",
       "\n",
       "  <!-- Vertical lines -->\n",
       "  <line x1=\"80\" y1=\"70\" x2=\"80\" y2=\"100\" style=\"stroke-width:2\" />\n",
       "  <line x1=\"82\" y1=\"70\" x2=\"82\" y2=\"100\" />\n",
       "  <line x1=\"84\" y1=\"70\" x2=\"84\" y2=\"100\" />\n",
       "  <line x1=\"86\" y1=\"70\" x2=\"86\" y2=\"100\" />\n",
       "  <line x1=\"89\" y1=\"70\" x2=\"89\" y2=\"100\" />\n",
       "  <line x1=\"91\" y1=\"70\" x2=\"91\" y2=\"100\" />\n",
       "  <line x1=\"93\" y1=\"70\" x2=\"93\" y2=\"100\" />\n",
       "  <line x1=\"95\" y1=\"70\" x2=\"95\" y2=\"100\" />\n",
       "  <line x1=\"97\" y1=\"70\" x2=\"97\" y2=\"100\" />\n",
       "  <line x1=\"99\" y1=\"70\" x2=\"99\" y2=\"100\" />\n",
       "  <line x1=\"101\" y1=\"70\" x2=\"101\" y2=\"100\" />\n",
       "  <line x1=\"104\" y1=\"70\" x2=\"104\" y2=\"100\" />\n",
       "  <line x1=\"106\" y1=\"70\" x2=\"106\" y2=\"100\" />\n",
       "  <line x1=\"108\" y1=\"70\" x2=\"108\" y2=\"100\" />\n",
       "  <line x1=\"110\" y1=\"70\" x2=\"110\" y2=\"100\" />\n",
       "  <line x1=\"112\" y1=\"70\" x2=\"112\" y2=\"100\" />\n",
       "  <line x1=\"114\" y1=\"70\" x2=\"114\" y2=\"100\" />\n",
       "  <line x1=\"114\" y1=\"70\" x2=\"114\" y2=\"100\" style=\"stroke-width:2\" />\n",
       "\n",
       "  <!-- Colored Rectangle -->\n",
       "  <polygon points=\"80.58823529411765,70.58823529411765 114.67503877944898,70.58823529411765 114.67503877944898,100.50586840145468 80.58823529411765,100.50586840145468\" style=\"fill:#ECB172A0;stroke-width:0\"/>\n",
       "\n",
       "  <!-- Text -->\n",
       "  <text x=\"97.631637\" y=\"120.505868\" font-size=\"1.0rem\" font-weight=\"100\" text-anchor=\"middle\" >8193</text>\n",
       "  <text x=\"134.675039\" y=\"85.547052\" font-size=\"1.0rem\" font-weight=\"100\" text-anchor=\"middle\" transform=\"rotate(-90,134.675039,85.547052)\">4096</text>\n",
       "  <text x=\"35.294118\" y=\"85.211751\" font-size=\"1.0rem\" font-weight=\"100\" text-anchor=\"middle\" transform=\"rotate(45,35.294118,85.211751)\">175320</text>\n",
       "</svg>\n",
       "        </td>\n",
       "    </tr>\n",
       "</table></div></li><li class='xr-var-item'><div class='xr-var-name'><span>u10</span></div><div class='xr-var-dims'>(time, latitude, longitude)</div><div class='xr-var-dtype'>float32</div><div class='xr-var-preview xr-preview'>dask.array&lt;chunksize=(48, 512, 512), meta=np.ndarray&gt;</div><input id='attrs-012b99c3-bff8-41da-9fee-7b43cfbb0b36' class='xr-var-attrs-in' type='checkbox' ><label for='attrs-012b99c3-bff8-41da-9fee-7b43cfbb0b36' title='Show/Hide attributes'><svg class='icon xr-icon-file-text2'><use xlink:href='#icon-file-text2'></use></svg></label><input id='data-cc27f543-ba66-4f2c-b1ca-55af71025a20' class='xr-var-data-in' type='checkbox'><label for='data-cc27f543-ba66-4f2c-b1ca-55af71025a20' title='Show/Hide data repr'><svg class='icon xr-icon-database'><use xlink:href='#icon-database'></use></svg></label><div class='xr-var-attrs'><dl class='xr-attrs'><dt><span>GRIB_NV :</span></dt><dd>0</dd><dt><span>GRIB_cfName :</span></dt><dd>eastward_wind</dd><dt><span>GRIB_cfVarName :</span></dt><dd>u10</dd><dt><span>GRIB_dataType :</span></dt><dd>fc</dd><dt><span>GRIB_gridDefinitionDescription :</span></dt><dd>150</dd><dt><span>GRIB_gridType :</span></dt><dd>healpix</dd><dt><span>GRIB_missingValue :</span></dt><dd>3.4028234663852886e+38</dd><dt><span>GRIB_name :</span></dt><dd>10 metre U wind component</dd><dt><span>GRIB_numberOfPoints :</span></dt><dd>12582912</dd><dt><span>GRIB_paramId :</span></dt><dd>165</dd><dt><span>GRIB_shortName :</span></dt><dd>10u</dd><dt><span>GRIB_stepType :</span></dt><dd>instant</dd><dt><span>GRIB_stepUnits :</span></dt><dd>1</dd><dt><span>GRIB_typeOfLevel :</span></dt><dd>heightAboveGround</dd><dt><span>GRIB_units :</span></dt><dd>m s**-1</dd><dt><span>last_restart_dim_updated :</span></dt><dd>175320</dd><dt><span>long_name :</span></dt><dd>10 metre U wind component</dd><dt><span>standard_name :</span></dt><dd>eastward_wind</dd><dt><span>units :</span></dt><dd>m s**-1</dd></dl></div><div class='xr-var-data'><table>\n",
       "    <tr>\n",
       "        <td>\n",
       "            <table style=\"border-collapse: collapse;\">\n",
       "                <thead>\n",
       "                    <tr>\n",
       "                        <td> </td>\n",
       "                        <th> Array </th>\n",
       "                        <th> Chunk </th>\n",
       "                    </tr>\n",
       "                </thead>\n",
       "                <tbody>\n",
       "                    \n",
       "                    <tr>\n",
       "                        <th> Bytes </th>\n",
       "                        <td> 21.40 TiB </td>\n",
       "                        <td> 48.00 MiB </td>\n",
       "                    </tr>\n",
       "                    \n",
       "                    <tr>\n",
       "                        <th> Shape </th>\n",
       "                        <td> (175320, 4096, 8193) </td>\n",
       "                        <td> (48, 512, 512) </td>\n",
       "                    </tr>\n",
       "                    <tr>\n",
       "                        <th> Dask graph </th>\n",
       "                        <td colspan=\"2\"> 496808 chunks in 2 graph layers </td>\n",
       "                    </tr>\n",
       "                    <tr>\n",
       "                        <th> Data type </th>\n",
       "                        <td colspan=\"2\"> float32 numpy.ndarray </td>\n",
       "                    </tr>\n",
       "                </tbody>\n",
       "            </table>\n",
       "        </td>\n",
       "        <td>\n",
       "        <svg width=\"164\" height=\"150\" style=\"stroke:rgb(0,0,0);stroke-width:1\" >\n",
       "\n",
       "  <!-- Horizontal lines -->\n",
       "  <line x1=\"10\" y1=\"0\" x2=\"80\" y2=\"70\" style=\"stroke-width:2\" />\n",
       "  <line x1=\"10\" y1=\"3\" x2=\"80\" y2=\"74\" />\n",
       "  <line x1=\"10\" y1=\"7\" x2=\"80\" y2=\"78\" />\n",
       "  <line x1=\"10\" y1=\"11\" x2=\"80\" y2=\"81\" />\n",
       "  <line x1=\"10\" y1=\"14\" x2=\"80\" y2=\"85\" />\n",
       "  <line x1=\"10\" y1=\"18\" x2=\"80\" y2=\"89\" />\n",
       "  <line x1=\"10\" y1=\"22\" x2=\"80\" y2=\"93\" />\n",
       "  <line x1=\"10\" y1=\"26\" x2=\"80\" y2=\"96\" />\n",
       "  <line x1=\"10\" y1=\"29\" x2=\"80\" y2=\"100\" style=\"stroke-width:2\" />\n",
       "\n",
       "  <!-- Vertical lines -->\n",
       "  <line x1=\"10\" y1=\"0\" x2=\"10\" y2=\"29\" style=\"stroke-width:2\" />\n",
       "  <line x1=\"13\" y1=\"3\" x2=\"13\" y2=\"33\" />\n",
       "  <line x1=\"17\" y1=\"7\" x2=\"17\" y2=\"37\" />\n",
       "  <line x1=\"21\" y1=\"11\" x2=\"21\" y2=\"41\" />\n",
       "  <line x1=\"24\" y1=\"14\" x2=\"24\" y2=\"44\" />\n",
       "  <line x1=\"28\" y1=\"18\" x2=\"28\" y2=\"48\" />\n",
       "  <line x1=\"32\" y1=\"22\" x2=\"32\" y2=\"52\" />\n",
       "  <line x1=\"35\" y1=\"25\" x2=\"35\" y2=\"55\" />\n",
       "  <line x1=\"39\" y1=\"29\" x2=\"39\" y2=\"59\" />\n",
       "  <line x1=\"43\" y1=\"33\" x2=\"43\" y2=\"63\" />\n",
       "  <line x1=\"47\" y1=\"37\" x2=\"47\" y2=\"67\" />\n",
       "  <line x1=\"50\" y1=\"40\" x2=\"50\" y2=\"70\" />\n",
       "  <line x1=\"54\" y1=\"44\" x2=\"54\" y2=\"74\" />\n",
       "  <line x1=\"58\" y1=\"48\" x2=\"58\" y2=\"78\" />\n",
       "  <line x1=\"62\" y1=\"52\" x2=\"62\" y2=\"81\" />\n",
       "  <line x1=\"65\" y1=\"55\" x2=\"65\" y2=\"85\" />\n",
       "  <line x1=\"69\" y1=\"59\" x2=\"69\" y2=\"89\" />\n",
       "  <line x1=\"73\" y1=\"63\" x2=\"73\" y2=\"93\" />\n",
       "  <line x1=\"76\" y1=\"66\" x2=\"76\" y2=\"96\" />\n",
       "  <line x1=\"80\" y1=\"70\" x2=\"80\" y2=\"100\" style=\"stroke-width:2\" />\n",
       "\n",
       "  <!-- Colored Rectangle -->\n",
       "  <polygon points=\"10.0,0.0 80.58823529411765,70.58823529411765 80.58823529411765,100.50586840145468 10.0,29.91763310733703\" style=\"fill:#8B4903A0;stroke-width:0\"/>\n",
       "\n",
       "  <!-- Horizontal lines -->\n",
       "  <line x1=\"10\" y1=\"0\" x2=\"44\" y2=\"0\" style=\"stroke-width:2\" />\n",
       "  <line x1=\"13\" y1=\"3\" x2=\"47\" y2=\"3\" />\n",
       "  <line x1=\"17\" y1=\"7\" x2=\"51\" y2=\"7\" />\n",
       "  <line x1=\"21\" y1=\"11\" x2=\"55\" y2=\"11\" />\n",
       "  <line x1=\"24\" y1=\"14\" x2=\"58\" y2=\"14\" />\n",
       "  <line x1=\"28\" y1=\"18\" x2=\"62\" y2=\"18\" />\n",
       "  <line x1=\"32\" y1=\"22\" x2=\"66\" y2=\"22\" />\n",
       "  <line x1=\"35\" y1=\"25\" x2=\"70\" y2=\"25\" />\n",
       "  <line x1=\"39\" y1=\"29\" x2=\"73\" y2=\"29\" />\n",
       "  <line x1=\"43\" y1=\"33\" x2=\"77\" y2=\"33\" />\n",
       "  <line x1=\"47\" y1=\"37\" x2=\"81\" y2=\"37\" />\n",
       "  <line x1=\"50\" y1=\"40\" x2=\"84\" y2=\"40\" />\n",
       "  <line x1=\"54\" y1=\"44\" x2=\"88\" y2=\"44\" />\n",
       "  <line x1=\"58\" y1=\"48\" x2=\"92\" y2=\"48\" />\n",
       "  <line x1=\"62\" y1=\"52\" x2=\"96\" y2=\"52\" />\n",
       "  <line x1=\"65\" y1=\"55\" x2=\"99\" y2=\"55\" />\n",
       "  <line x1=\"69\" y1=\"59\" x2=\"103\" y2=\"59\" />\n",
       "  <line x1=\"73\" y1=\"63\" x2=\"107\" y2=\"63\" />\n",
       "  <line x1=\"76\" y1=\"66\" x2=\"110\" y2=\"66\" />\n",
       "  <line x1=\"80\" y1=\"70\" x2=\"114\" y2=\"70\" style=\"stroke-width:2\" />\n",
       "\n",
       "  <!-- Vertical lines -->\n",
       "  <line x1=\"10\" y1=\"0\" x2=\"80\" y2=\"70\" style=\"stroke-width:2\" />\n",
       "  <line x1=\"12\" y1=\"0\" x2=\"82\" y2=\"70\" />\n",
       "  <line x1=\"14\" y1=\"0\" x2=\"84\" y2=\"70\" />\n",
       "  <line x1=\"16\" y1=\"0\" x2=\"86\" y2=\"70\" />\n",
       "  <line x1=\"18\" y1=\"0\" x2=\"89\" y2=\"70\" />\n",
       "  <line x1=\"20\" y1=\"0\" x2=\"91\" y2=\"70\" />\n",
       "  <line x1=\"22\" y1=\"0\" x2=\"93\" y2=\"70\" />\n",
       "  <line x1=\"24\" y1=\"0\" x2=\"95\" y2=\"70\" />\n",
       "  <line x1=\"27\" y1=\"0\" x2=\"97\" y2=\"70\" />\n",
       "  <line x1=\"29\" y1=\"0\" x2=\"99\" y2=\"70\" />\n",
       "  <line x1=\"31\" y1=\"0\" x2=\"101\" y2=\"70\" />\n",
       "  <line x1=\"33\" y1=\"0\" x2=\"104\" y2=\"70\" />\n",
       "  <line x1=\"35\" y1=\"0\" x2=\"106\" y2=\"70\" />\n",
       "  <line x1=\"37\" y1=\"0\" x2=\"108\" y2=\"70\" />\n",
       "  <line x1=\"39\" y1=\"0\" x2=\"110\" y2=\"70\" />\n",
       "  <line x1=\"41\" y1=\"0\" x2=\"112\" y2=\"70\" />\n",
       "  <line x1=\"44\" y1=\"0\" x2=\"114\" y2=\"70\" />\n",
       "  <line x1=\"44\" y1=\"0\" x2=\"114\" y2=\"70\" style=\"stroke-width:2\" />\n",
       "\n",
       "  <!-- Colored Rectangle -->\n",
       "  <polygon points=\"10.0,0.0 44.08680348533133,0.0 114.67503877944898,70.58823529411765 80.58823529411765,70.58823529411765\" style=\"fill:#8B4903A0;stroke-width:0\"/>\n",
       "\n",
       "  <!-- Horizontal lines -->\n",
       "  <line x1=\"80\" y1=\"70\" x2=\"114\" y2=\"70\" style=\"stroke-width:2\" />\n",
       "  <line x1=\"80\" y1=\"74\" x2=\"114\" y2=\"74\" />\n",
       "  <line x1=\"80\" y1=\"78\" x2=\"114\" y2=\"78\" />\n",
       "  <line x1=\"80\" y1=\"81\" x2=\"114\" y2=\"81\" />\n",
       "  <line x1=\"80\" y1=\"85\" x2=\"114\" y2=\"85\" />\n",
       "  <line x1=\"80\" y1=\"89\" x2=\"114\" y2=\"89\" />\n",
       "  <line x1=\"80\" y1=\"93\" x2=\"114\" y2=\"93\" />\n",
       "  <line x1=\"80\" y1=\"96\" x2=\"114\" y2=\"96\" />\n",
       "  <line x1=\"80\" y1=\"100\" x2=\"114\" y2=\"100\" style=\"stroke-width:2\" />\n",
       "\n",
       "  <!-- Vertical lines -->\n",
       "  <line x1=\"80\" y1=\"70\" x2=\"80\" y2=\"100\" style=\"stroke-width:2\" />\n",
       "  <line x1=\"82\" y1=\"70\" x2=\"82\" y2=\"100\" />\n",
       "  <line x1=\"84\" y1=\"70\" x2=\"84\" y2=\"100\" />\n",
       "  <line x1=\"86\" y1=\"70\" x2=\"86\" y2=\"100\" />\n",
       "  <line x1=\"89\" y1=\"70\" x2=\"89\" y2=\"100\" />\n",
       "  <line x1=\"91\" y1=\"70\" x2=\"91\" y2=\"100\" />\n",
       "  <line x1=\"93\" y1=\"70\" x2=\"93\" y2=\"100\" />\n",
       "  <line x1=\"95\" y1=\"70\" x2=\"95\" y2=\"100\" />\n",
       "  <line x1=\"97\" y1=\"70\" x2=\"97\" y2=\"100\" />\n",
       "  <line x1=\"99\" y1=\"70\" x2=\"99\" y2=\"100\" />\n",
       "  <line x1=\"101\" y1=\"70\" x2=\"101\" y2=\"100\" />\n",
       "  <line x1=\"104\" y1=\"70\" x2=\"104\" y2=\"100\" />\n",
       "  <line x1=\"106\" y1=\"70\" x2=\"106\" y2=\"100\" />\n",
       "  <line x1=\"108\" y1=\"70\" x2=\"108\" y2=\"100\" />\n",
       "  <line x1=\"110\" y1=\"70\" x2=\"110\" y2=\"100\" />\n",
       "  <line x1=\"112\" y1=\"70\" x2=\"112\" y2=\"100\" />\n",
       "  <line x1=\"114\" y1=\"70\" x2=\"114\" y2=\"100\" />\n",
       "  <line x1=\"114\" y1=\"70\" x2=\"114\" y2=\"100\" style=\"stroke-width:2\" />\n",
       "\n",
       "  <!-- Colored Rectangle -->\n",
       "  <polygon points=\"80.58823529411765,70.58823529411765 114.67503877944898,70.58823529411765 114.67503877944898,100.50586840145468 80.58823529411765,100.50586840145468\" style=\"fill:#ECB172A0;stroke-width:0\"/>\n",
       "\n",
       "  <!-- Text -->\n",
       "  <text x=\"97.631637\" y=\"120.505868\" font-size=\"1.0rem\" font-weight=\"100\" text-anchor=\"middle\" >8193</text>\n",
       "  <text x=\"134.675039\" y=\"85.547052\" font-size=\"1.0rem\" font-weight=\"100\" text-anchor=\"middle\" transform=\"rotate(-90,134.675039,85.547052)\">4096</text>\n",
       "  <text x=\"35.294118\" y=\"85.211751\" font-size=\"1.0rem\" font-weight=\"100\" text-anchor=\"middle\" transform=\"rotate(45,35.294118,85.211751)\">175320</text>\n",
       "</svg>\n",
       "        </td>\n",
       "    </tr>\n",
       "</table></div></li><li class='xr-var-item'><div class='xr-var-name'><span>v10</span></div><div class='xr-var-dims'>(time, latitude, longitude)</div><div class='xr-var-dtype'>float32</div><div class='xr-var-preview xr-preview'>dask.array&lt;chunksize=(48, 512, 512), meta=np.ndarray&gt;</div><input id='attrs-0a185e75-ac62-4f1e-a886-e2f1dcef70ec' class='xr-var-attrs-in' type='checkbox' ><label for='attrs-0a185e75-ac62-4f1e-a886-e2f1dcef70ec' title='Show/Hide attributes'><svg class='icon xr-icon-file-text2'><use xlink:href='#icon-file-text2'></use></svg></label><input id='data-634d9777-2ed4-4d17-86a6-47fe130024e5' class='xr-var-data-in' type='checkbox'><label for='data-634d9777-2ed4-4d17-86a6-47fe130024e5' title='Show/Hide data repr'><svg class='icon xr-icon-database'><use xlink:href='#icon-database'></use></svg></label><div class='xr-var-attrs'><dl class='xr-attrs'><dt><span>GRIB_NV :</span></dt><dd>0</dd><dt><span>GRIB_cfName :</span></dt><dd>northward_wind</dd><dt><span>GRIB_cfVarName :</span></dt><dd>v10</dd><dt><span>GRIB_dataType :</span></dt><dd>fc</dd><dt><span>GRIB_gridDefinitionDescription :</span></dt><dd>150</dd><dt><span>GRIB_gridType :</span></dt><dd>healpix</dd><dt><span>GRIB_missingValue :</span></dt><dd>3.4028234663852886e+38</dd><dt><span>GRIB_name :</span></dt><dd>10 metre V wind component</dd><dt><span>GRIB_numberOfPoints :</span></dt><dd>12582912</dd><dt><span>GRIB_paramId :</span></dt><dd>166</dd><dt><span>GRIB_shortName :</span></dt><dd>10v</dd><dt><span>GRIB_stepType :</span></dt><dd>instant</dd><dt><span>GRIB_stepUnits :</span></dt><dd>1</dd><dt><span>GRIB_typeOfLevel :</span></dt><dd>heightAboveGround</dd><dt><span>GRIB_units :</span></dt><dd>m s**-1</dd><dt><span>last_restart_dim_updated :</span></dt><dd>175320</dd><dt><span>long_name :</span></dt><dd>10 metre V wind component</dd><dt><span>standard_name :</span></dt><dd>northward_wind</dd><dt><span>units :</span></dt><dd>m s**-1</dd></dl></div><div class='xr-var-data'><table>\n",
       "    <tr>\n",
       "        <td>\n",
       "            <table style=\"border-collapse: collapse;\">\n",
       "                <thead>\n",
       "                    <tr>\n",
       "                        <td> </td>\n",
       "                        <th> Array </th>\n",
       "                        <th> Chunk </th>\n",
       "                    </tr>\n",
       "                </thead>\n",
       "                <tbody>\n",
       "                    \n",
       "                    <tr>\n",
       "                        <th> Bytes </th>\n",
       "                        <td> 21.40 TiB </td>\n",
       "                        <td> 48.00 MiB </td>\n",
       "                    </tr>\n",
       "                    \n",
       "                    <tr>\n",
       "                        <th> Shape </th>\n",
       "                        <td> (175320, 4096, 8193) </td>\n",
       "                        <td> (48, 512, 512) </td>\n",
       "                    </tr>\n",
       "                    <tr>\n",
       "                        <th> Dask graph </th>\n",
       "                        <td colspan=\"2\"> 496808 chunks in 2 graph layers </td>\n",
       "                    </tr>\n",
       "                    <tr>\n",
       "                        <th> Data type </th>\n",
       "                        <td colspan=\"2\"> float32 numpy.ndarray </td>\n",
       "                    </tr>\n",
       "                </tbody>\n",
       "            </table>\n",
       "        </td>\n",
       "        <td>\n",
       "        <svg width=\"164\" height=\"150\" style=\"stroke:rgb(0,0,0);stroke-width:1\" >\n",
       "\n",
       "  <!-- Horizontal lines -->\n",
       "  <line x1=\"10\" y1=\"0\" x2=\"80\" y2=\"70\" style=\"stroke-width:2\" />\n",
       "  <line x1=\"10\" y1=\"3\" x2=\"80\" y2=\"74\" />\n",
       "  <line x1=\"10\" y1=\"7\" x2=\"80\" y2=\"78\" />\n",
       "  <line x1=\"10\" y1=\"11\" x2=\"80\" y2=\"81\" />\n",
       "  <line x1=\"10\" y1=\"14\" x2=\"80\" y2=\"85\" />\n",
       "  <line x1=\"10\" y1=\"18\" x2=\"80\" y2=\"89\" />\n",
       "  <line x1=\"10\" y1=\"22\" x2=\"80\" y2=\"93\" />\n",
       "  <line x1=\"10\" y1=\"26\" x2=\"80\" y2=\"96\" />\n",
       "  <line x1=\"10\" y1=\"29\" x2=\"80\" y2=\"100\" style=\"stroke-width:2\" />\n",
       "\n",
       "  <!-- Vertical lines -->\n",
       "  <line x1=\"10\" y1=\"0\" x2=\"10\" y2=\"29\" style=\"stroke-width:2\" />\n",
       "  <line x1=\"13\" y1=\"3\" x2=\"13\" y2=\"33\" />\n",
       "  <line x1=\"17\" y1=\"7\" x2=\"17\" y2=\"37\" />\n",
       "  <line x1=\"21\" y1=\"11\" x2=\"21\" y2=\"41\" />\n",
       "  <line x1=\"24\" y1=\"14\" x2=\"24\" y2=\"44\" />\n",
       "  <line x1=\"28\" y1=\"18\" x2=\"28\" y2=\"48\" />\n",
       "  <line x1=\"32\" y1=\"22\" x2=\"32\" y2=\"52\" />\n",
       "  <line x1=\"35\" y1=\"25\" x2=\"35\" y2=\"55\" />\n",
       "  <line x1=\"39\" y1=\"29\" x2=\"39\" y2=\"59\" />\n",
       "  <line x1=\"43\" y1=\"33\" x2=\"43\" y2=\"63\" />\n",
       "  <line x1=\"47\" y1=\"37\" x2=\"47\" y2=\"67\" />\n",
       "  <line x1=\"50\" y1=\"40\" x2=\"50\" y2=\"70\" />\n",
       "  <line x1=\"54\" y1=\"44\" x2=\"54\" y2=\"74\" />\n",
       "  <line x1=\"58\" y1=\"48\" x2=\"58\" y2=\"78\" />\n",
       "  <line x1=\"62\" y1=\"52\" x2=\"62\" y2=\"81\" />\n",
       "  <line x1=\"65\" y1=\"55\" x2=\"65\" y2=\"85\" />\n",
       "  <line x1=\"69\" y1=\"59\" x2=\"69\" y2=\"89\" />\n",
       "  <line x1=\"73\" y1=\"63\" x2=\"73\" y2=\"93\" />\n",
       "  <line x1=\"76\" y1=\"66\" x2=\"76\" y2=\"96\" />\n",
       "  <line x1=\"80\" y1=\"70\" x2=\"80\" y2=\"100\" style=\"stroke-width:2\" />\n",
       "\n",
       "  <!-- Colored Rectangle -->\n",
       "  <polygon points=\"10.0,0.0 80.58823529411765,70.58823529411765 80.58823529411765,100.50586840145468 10.0,29.91763310733703\" style=\"fill:#8B4903A0;stroke-width:0\"/>\n",
       "\n",
       "  <!-- Horizontal lines -->\n",
       "  <line x1=\"10\" y1=\"0\" x2=\"44\" y2=\"0\" style=\"stroke-width:2\" />\n",
       "  <line x1=\"13\" y1=\"3\" x2=\"47\" y2=\"3\" />\n",
       "  <line x1=\"17\" y1=\"7\" x2=\"51\" y2=\"7\" />\n",
       "  <line x1=\"21\" y1=\"11\" x2=\"55\" y2=\"11\" />\n",
       "  <line x1=\"24\" y1=\"14\" x2=\"58\" y2=\"14\" />\n",
       "  <line x1=\"28\" y1=\"18\" x2=\"62\" y2=\"18\" />\n",
       "  <line x1=\"32\" y1=\"22\" x2=\"66\" y2=\"22\" />\n",
       "  <line x1=\"35\" y1=\"25\" x2=\"70\" y2=\"25\" />\n",
       "  <line x1=\"39\" y1=\"29\" x2=\"73\" y2=\"29\" />\n",
       "  <line x1=\"43\" y1=\"33\" x2=\"77\" y2=\"33\" />\n",
       "  <line x1=\"47\" y1=\"37\" x2=\"81\" y2=\"37\" />\n",
       "  <line x1=\"50\" y1=\"40\" x2=\"84\" y2=\"40\" />\n",
       "  <line x1=\"54\" y1=\"44\" x2=\"88\" y2=\"44\" />\n",
       "  <line x1=\"58\" y1=\"48\" x2=\"92\" y2=\"48\" />\n",
       "  <line x1=\"62\" y1=\"52\" x2=\"96\" y2=\"52\" />\n",
       "  <line x1=\"65\" y1=\"55\" x2=\"99\" y2=\"55\" />\n",
       "  <line x1=\"69\" y1=\"59\" x2=\"103\" y2=\"59\" />\n",
       "  <line x1=\"73\" y1=\"63\" x2=\"107\" y2=\"63\" />\n",
       "  <line x1=\"76\" y1=\"66\" x2=\"110\" y2=\"66\" />\n",
       "  <line x1=\"80\" y1=\"70\" x2=\"114\" y2=\"70\" style=\"stroke-width:2\" />\n",
       "\n",
       "  <!-- Vertical lines -->\n",
       "  <line x1=\"10\" y1=\"0\" x2=\"80\" y2=\"70\" style=\"stroke-width:2\" />\n",
       "  <line x1=\"12\" y1=\"0\" x2=\"82\" y2=\"70\" />\n",
       "  <line x1=\"14\" y1=\"0\" x2=\"84\" y2=\"70\" />\n",
       "  <line x1=\"16\" y1=\"0\" x2=\"86\" y2=\"70\" />\n",
       "  <line x1=\"18\" y1=\"0\" x2=\"89\" y2=\"70\" />\n",
       "  <line x1=\"20\" y1=\"0\" x2=\"91\" y2=\"70\" />\n",
       "  <line x1=\"22\" y1=\"0\" x2=\"93\" y2=\"70\" />\n",
       "  <line x1=\"24\" y1=\"0\" x2=\"95\" y2=\"70\" />\n",
       "  <line x1=\"27\" y1=\"0\" x2=\"97\" y2=\"70\" />\n",
       "  <line x1=\"29\" y1=\"0\" x2=\"99\" y2=\"70\" />\n",
       "  <line x1=\"31\" y1=\"0\" x2=\"101\" y2=\"70\" />\n",
       "  <line x1=\"33\" y1=\"0\" x2=\"104\" y2=\"70\" />\n",
       "  <line x1=\"35\" y1=\"0\" x2=\"106\" y2=\"70\" />\n",
       "  <line x1=\"37\" y1=\"0\" x2=\"108\" y2=\"70\" />\n",
       "  <line x1=\"39\" y1=\"0\" x2=\"110\" y2=\"70\" />\n",
       "  <line x1=\"41\" y1=\"0\" x2=\"112\" y2=\"70\" />\n",
       "  <line x1=\"44\" y1=\"0\" x2=\"114\" y2=\"70\" />\n",
       "  <line x1=\"44\" y1=\"0\" x2=\"114\" y2=\"70\" style=\"stroke-width:2\" />\n",
       "\n",
       "  <!-- Colored Rectangle -->\n",
       "  <polygon points=\"10.0,0.0 44.08680348533133,0.0 114.67503877944898,70.58823529411765 80.58823529411765,70.58823529411765\" style=\"fill:#8B4903A0;stroke-width:0\"/>\n",
       "\n",
       "  <!-- Horizontal lines -->\n",
       "  <line x1=\"80\" y1=\"70\" x2=\"114\" y2=\"70\" style=\"stroke-width:2\" />\n",
       "  <line x1=\"80\" y1=\"74\" x2=\"114\" y2=\"74\" />\n",
       "  <line x1=\"80\" y1=\"78\" x2=\"114\" y2=\"78\" />\n",
       "  <line x1=\"80\" y1=\"81\" x2=\"114\" y2=\"81\" />\n",
       "  <line x1=\"80\" y1=\"85\" x2=\"114\" y2=\"85\" />\n",
       "  <line x1=\"80\" y1=\"89\" x2=\"114\" y2=\"89\" />\n",
       "  <line x1=\"80\" y1=\"93\" x2=\"114\" y2=\"93\" />\n",
       "  <line x1=\"80\" y1=\"96\" x2=\"114\" y2=\"96\" />\n",
       "  <line x1=\"80\" y1=\"100\" x2=\"114\" y2=\"100\" style=\"stroke-width:2\" />\n",
       "\n",
       "  <!-- Vertical lines -->\n",
       "  <line x1=\"80\" y1=\"70\" x2=\"80\" y2=\"100\" style=\"stroke-width:2\" />\n",
       "  <line x1=\"82\" y1=\"70\" x2=\"82\" y2=\"100\" />\n",
       "  <line x1=\"84\" y1=\"70\" x2=\"84\" y2=\"100\" />\n",
       "  <line x1=\"86\" y1=\"70\" x2=\"86\" y2=\"100\" />\n",
       "  <line x1=\"89\" y1=\"70\" x2=\"89\" y2=\"100\" />\n",
       "  <line x1=\"91\" y1=\"70\" x2=\"91\" y2=\"100\" />\n",
       "  <line x1=\"93\" y1=\"70\" x2=\"93\" y2=\"100\" />\n",
       "  <line x1=\"95\" y1=\"70\" x2=\"95\" y2=\"100\" />\n",
       "  <line x1=\"97\" y1=\"70\" x2=\"97\" y2=\"100\" />\n",
       "  <line x1=\"99\" y1=\"70\" x2=\"99\" y2=\"100\" />\n",
       "  <line x1=\"101\" y1=\"70\" x2=\"101\" y2=\"100\" />\n",
       "  <line x1=\"104\" y1=\"70\" x2=\"104\" y2=\"100\" />\n",
       "  <line x1=\"106\" y1=\"70\" x2=\"106\" y2=\"100\" />\n",
       "  <line x1=\"108\" y1=\"70\" x2=\"108\" y2=\"100\" />\n",
       "  <line x1=\"110\" y1=\"70\" x2=\"110\" y2=\"100\" />\n",
       "  <line x1=\"112\" y1=\"70\" x2=\"112\" y2=\"100\" />\n",
       "  <line x1=\"114\" y1=\"70\" x2=\"114\" y2=\"100\" />\n",
       "  <line x1=\"114\" y1=\"70\" x2=\"114\" y2=\"100\" style=\"stroke-width:2\" />\n",
       "\n",
       "  <!-- Colored Rectangle -->\n",
       "  <polygon points=\"80.58823529411765,70.58823529411765 114.67503877944898,70.58823529411765 114.67503877944898,100.50586840145468 80.58823529411765,100.50586840145468\" style=\"fill:#ECB172A0;stroke-width:0\"/>\n",
       "\n",
       "  <!-- Text -->\n",
       "  <text x=\"97.631637\" y=\"120.505868\" font-size=\"1.0rem\" font-weight=\"100\" text-anchor=\"middle\" >8193</text>\n",
       "  <text x=\"134.675039\" y=\"85.547052\" font-size=\"1.0rem\" font-weight=\"100\" text-anchor=\"middle\" transform=\"rotate(-90,134.675039,85.547052)\">4096</text>\n",
       "  <text x=\"35.294118\" y=\"85.211751\" font-size=\"1.0rem\" font-weight=\"100\" text-anchor=\"middle\" transform=\"rotate(45,35.294118,85.211751)\">175320</text>\n",
       "</svg>\n",
       "        </td>\n",
       "    </tr>\n",
       "</table></div></li></ul></div></li><li class='xr-section-item'><input id='section-cb6c9f7e-db58-4851-8af9-ed4889cfb5fc' class='xr-section-summary-in' type='checkbox'  ><label for='section-cb6c9f7e-db58-4851-8af9-ed4889cfb5fc' class='xr-section-summary' >Indexes: <span>(3)</span></label><div class='xr-section-inline-details'></div><div class='xr-section-details'><ul class='xr-var-list'><li class='xr-var-item'><div class='xr-index-name'><div>latitude</div></div><div class='xr-index-preview'>PandasIndex</div><div></div><input id='index-e3caeed3-1b64-4377-8095-293cfdb43aab' class='xr-index-data-in' type='checkbox'/><label for='index-e3caeed3-1b64-4377-8095-293cfdb43aab' title='Show/Hide index repr'><svg class='icon xr-icon-database'><use xlink:href='#icon-database'></use></svg></label><div class='xr-index-data'><pre>PandasIndex(Index([             -90.0, -89.95604395604396, -89.91208791208791,\n",
       "       -89.86813186813187, -89.82417582417582, -89.78021978021978,\n",
       "       -89.73626373626374,  -89.6923076923077, -89.64835164835165,\n",
       "        -89.6043956043956,\n",
       "       ...\n",
       "        89.60439560439562,  89.64835164835165,  89.69230769230771,\n",
       "        89.73626373626374,   89.7802197802198,  89.82417582417582,\n",
       "        89.86813186813188,  89.91208791208791,  89.95604395604397,\n",
       "                     90.0],\n",
       "      dtype=&#x27;float64&#x27;, name=&#x27;latitude&#x27;, length=4096))</pre></div></li><li class='xr-var-item'><div class='xr-index-name'><div>longitude</div></div><div class='xr-index-preview'>PandasIndex</div><div></div><input id='index-effc0361-244e-40c9-b7b0-147429c1649d' class='xr-index-data-in' type='checkbox'/><label for='index-effc0361-244e-40c9-b7b0-147429c1649d' title='Show/Hide index repr'><svg class='icon xr-icon-database'><use xlink:href='#icon-database'></use></svg></label><div class='xr-index-data'><pre>PandasIndex(Index([             -180.0,     -179.9560546875, -179.91210937500003,\n",
       "           -179.8681640625,       -179.82421875,     -179.7802734375,\n",
       "            -179.736328125,     -179.6923828125,        -179.6484375,\n",
       "           -179.6044921875,\n",
       "       ...\n",
       "            179.6044921875,         179.6484375,      179.6923828125,\n",
       "             179.736328125,      179.7802734375,        179.82421875,\n",
       "            179.8681640625,  179.91210937500003,      179.9560546875,\n",
       "                     180.0],\n",
       "      dtype=&#x27;float64&#x27;, name=&#x27;longitude&#x27;, length=8193))</pre></div></li><li class='xr-var-item'><div class='xr-index-name'><div>time</div></div><div class='xr-index-preview'>PandasIndex</div><div></div><input id='index-b5fa00ae-5b95-4e31-9dce-ccd5e046abe8' class='xr-index-data-in' type='checkbox'/><label for='index-b5fa00ae-5b95-4e31-9dce-ccd5e046abe8' title='Show/Hide index repr'><svg class='icon xr-icon-database'><use xlink:href='#icon-database'></use></svg></label><div class='xr-index-data'><pre>PandasIndex(DatetimeIndex([&#x27;2020-01-01 00:00:00&#x27;, &#x27;2020-01-01 01:00:00&#x27;,\n",
       "               &#x27;2020-01-01 02:00:00&#x27;, &#x27;2020-01-01 03:00:00&#x27;,\n",
       "               &#x27;2020-01-01 04:00:00&#x27;, &#x27;2020-01-01 05:00:00&#x27;,\n",
       "               &#x27;2020-01-01 06:00:00&#x27;, &#x27;2020-01-01 07:00:00&#x27;,\n",
       "               &#x27;2020-01-01 08:00:00&#x27;, &#x27;2020-01-01 09:00:00&#x27;,\n",
       "               ...\n",
       "               &#x27;2039-12-31 14:00:00&#x27;, &#x27;2039-12-31 15:00:00&#x27;,\n",
       "               &#x27;2039-12-31 16:00:00&#x27;, &#x27;2039-12-31 17:00:00&#x27;,\n",
       "               &#x27;2039-12-31 18:00:00&#x27;, &#x27;2039-12-31 19:00:00&#x27;,\n",
       "               &#x27;2039-12-31 20:00:00&#x27;, &#x27;2039-12-31 21:00:00&#x27;,\n",
       "               &#x27;2039-12-31 22:00:00&#x27;, &#x27;2039-12-31 23:00:00&#x27;],\n",
       "              dtype=&#x27;datetime64[ns]&#x27;, name=&#x27;time&#x27;, length=175320, freq=None))</pre></div></li></ul></div></li><li class='xr-section-item'><input id='section-8cd5ba5c-cc89-4886-9538-b049cef3593e' class='xr-section-summary-in' type='checkbox'  checked><label for='section-8cd5ba5c-cc89-4886-9538-b049cef3593e' class='xr-section-summary' >Attributes: <span>(7)</span></label><div class='xr-section-inline-details'></div><div class='xr-section-details'><dl class='xr-attrs'><dt><span>Conventions :</span></dt><dd>CF-1.7</dd><dt><span>GRIB_centre :</span></dt><dd>ecmf</dd><dt><span>GRIB_centreDescription :</span></dt><dd>European Centre for Medium-Range Weather Forecasts</dd><dt><span>GRIB_edition :</span></dt><dd>2</dd><dt><span>GRIB_subCentre :</span></dt><dd>1003</dd><dt><span>history :</span></dt><dd>2024-06-06T16:50 GRIB to CDM+CF via cfgrib-0.9.12.0/ecCodes-2.35.0 with {&quot;source&quot;: &quot;.xarray-ecmwf-cache/10baaccbb0bb6b0157fbe574dc7d566e.grib&quot;, &quot;filter_by_keys&quot;: {}, &quot;encode_cf&quot;: [&quot;parameter&quot;, &quot;time&quot;, &quot;geography&quot;, &quot;vertical&quot;]}</dd><dt><span>institution :</span></dt><dd>European Centre for Medium-Range Weather Forecasts</dd></dl></div></li></ul></div></div>"
      ],
      "text/plain": [
       "<xarray.Dataset> Size: 188TB\n",
       "Dimensions:            (time: 175320, latitude: 4096, longitude: 8193)\n",
       "Coordinates:\n",
       "  * latitude           (latitude) float64 33kB -90.0 -89.96 ... 89.96 90.0\n",
       "  * longitude          (longitude) float64 66kB -180.0 -180.0 ... 180.0 180.0\n",
       "    step               timedelta64[ns] 8B ...\n",
       "    surface            float64 8B ...\n",
       "  * time               (time) datetime64[ns] 1MB 2020-01-01 ... 2039-12-31T23...\n",
       "Data variables:\n",
       "    d2m                (time, latitude, longitude) float32 24TB dask.array<chunksize=(48, 512, 512), meta=np.ndarray>\n",
       "    heightAboveGround  float64 8B ...\n",
       "    sd                 (time, latitude, longitude) float32 24TB dask.array<chunksize=(48, 512, 512), meta=np.ndarray>\n",
       "    ssr                (time, latitude, longitude) float32 24TB dask.array<chunksize=(48, 512, 512), meta=np.ndarray>\n",
       "    str                (time, latitude, longitude) float32 24TB dask.array<chunksize=(48, 512, 512), meta=np.ndarray>\n",
       "    t2m                (time, latitude, longitude) float32 24TB dask.array<chunksize=(48, 512, 512), meta=np.ndarray>\n",
       "    tprate             (time, latitude, longitude) float32 24TB dask.array<chunksize=(48, 512, 512), meta=np.ndarray>\n",
       "    u10                (time, latitude, longitude) float32 24TB dask.array<chunksize=(48, 512, 512), meta=np.ndarray>\n",
       "    v10                (time, latitude, longitude) float32 24TB dask.array<chunksize=(48, 512, 512), meta=np.ndarray>\n",
       "Attributes:\n",
       "    Conventions:             CF-1.7\n",
       "    GRIB_centre:             ecmf\n",
       "    GRIB_centreDescription:  European Centre for Medium-Range Weather Forecasts\n",
       "    GRIB_edition:            2\n",
       "    GRIB_subCentre:          1003\n",
       "    history:                 2024-06-06T16:50 GRIB to CDM+CF via cfgrib-0.9.1...\n",
       "    institution:             European Centre for Medium-Range Weather Forecasts"
      ]
     },
     "execution_count": 6,
     "metadata": {},
     "output_type": "execute_result"
    }
   ],
   "source": [
    "data"
   ]
  },
  {
   "cell_type": "code",
   "execution_count": 7,
   "id": "0996ce8e",
   "metadata": {},
   "outputs": [],
   "source": [
    "def compute_mean_std(data):\n",
    "    \"\"\"\n",
    "    Computes the mean and standard deviation of the entire xarray dataset.\n",
    "    Args:\n",
    "        data (xarray.DataArray): Dataset (either HR or LR) to compute stats for\n",
    "    Returns:\n",
    "        mean (float), std (float): The mean and standard deviation of the dataset\n",
    "    \"\"\"\n",
    "    mean = data.mean().values\n",
    "    std = data.std().values\n",
    "    return np.float64(mean), np.float64(std)"
   ]
  },
  {
   "cell_type": "code",
   "execution_count": 8,
   "id": "c7916515",
   "metadata": {},
   "outputs": [
    {
     "data": {
      "text/html": [
       "<div><svg style=\"position: absolute; width: 0; height: 0; overflow: hidden\">\n",
       "<defs>\n",
       "<symbol id=\"icon-database\" viewBox=\"0 0 32 32\">\n",
       "<path d=\"M16 0c-8.837 0-16 2.239-16 5v4c0 2.761 7.163 5 16 5s16-2.239 16-5v-4c0-2.761-7.163-5-16-5z\"></path>\n",
       "<path d=\"M16 17c-8.837 0-16-2.239-16-5v6c0 2.761 7.163 5 16 5s16-2.239 16-5v-6c0 2.761-7.163 5-16 5z\"></path>\n",
       "<path d=\"M16 26c-8.837 0-16-2.239-16-5v6c0 2.761 7.163 5 16 5s16-2.239 16-5v-6c0 2.761-7.163 5-16 5z\"></path>\n",
       "</symbol>\n",
       "<symbol id=\"icon-file-text2\" viewBox=\"0 0 32 32\">\n",
       "<path d=\"M28.681 7.159c-0.694-0.947-1.662-2.053-2.724-3.116s-2.169-2.030-3.116-2.724c-1.612-1.182-2.393-1.319-2.841-1.319h-15.5c-1.378 0-2.5 1.121-2.5 2.5v27c0 1.378 1.122 2.5 2.5 2.5h23c1.378 0 2.5-1.122 2.5-2.5v-19.5c0-0.448-0.137-1.23-1.319-2.841zM24.543 5.457c0.959 0.959 1.712 1.825 2.268 2.543h-4.811v-4.811c0.718 0.556 1.584 1.309 2.543 2.268zM28 29.5c0 0.271-0.229 0.5-0.5 0.5h-23c-0.271 0-0.5-0.229-0.5-0.5v-27c0-0.271 0.229-0.5 0.5-0.5 0 0 15.499-0 15.5 0v7c0 0.552 0.448 1 1 1h7v19.5z\"></path>\n",
       "<path d=\"M23 26h-14c-0.552 0-1-0.448-1-1s0.448-1 1-1h14c0.552 0 1 0.448 1 1s-0.448 1-1 1z\"></path>\n",
       "<path d=\"M23 22h-14c-0.552 0-1-0.448-1-1s0.448-1 1-1h14c0.552 0 1 0.448 1 1s-0.448 1-1 1z\"></path>\n",
       "<path d=\"M23 18h-14c-0.552 0-1-0.448-1-1s0.448-1 1-1h14c0.552 0 1 0.448 1 1s-0.448 1-1 1z\"></path>\n",
       "</symbol>\n",
       "</defs>\n",
       "</svg>\n",
       "<style>/* CSS stylesheet for displaying xarray objects in jupyterlab.\n",
       " *\n",
       " */\n",
       "\n",
       ":root {\n",
       "  --xr-font-color0: var(--jp-content-font-color0, rgba(0, 0, 0, 1));\n",
       "  --xr-font-color2: var(--jp-content-font-color2, rgba(0, 0, 0, 0.54));\n",
       "  --xr-font-color3: var(--jp-content-font-color3, rgba(0, 0, 0, 0.38));\n",
       "  --xr-border-color: var(--jp-border-color2, #e0e0e0);\n",
       "  --xr-disabled-color: var(--jp-layout-color3, #bdbdbd);\n",
       "  --xr-background-color: var(--jp-layout-color0, white);\n",
       "  --xr-background-color-row-even: var(--jp-layout-color1, white);\n",
       "  --xr-background-color-row-odd: var(--jp-layout-color2, #eeeeee);\n",
       "}\n",
       "\n",
       "html[theme=dark],\n",
       "html[data-theme=dark],\n",
       "body[data-theme=dark],\n",
       "body.vscode-dark {\n",
       "  --xr-font-color0: rgba(255, 255, 255, 1);\n",
       "  --xr-font-color2: rgba(255, 255, 255, 0.54);\n",
       "  --xr-font-color3: rgba(255, 255, 255, 0.38);\n",
       "  --xr-border-color: #1F1F1F;\n",
       "  --xr-disabled-color: #515151;\n",
       "  --xr-background-color: #111111;\n",
       "  --xr-background-color-row-even: #111111;\n",
       "  --xr-background-color-row-odd: #313131;\n",
       "}\n",
       "\n",
       ".xr-wrap {\n",
       "  display: block !important;\n",
       "  min-width: 300px;\n",
       "  max-width: 700px;\n",
       "}\n",
       "\n",
       ".xr-text-repr-fallback {\n",
       "  /* fallback to plain text repr when CSS is not injected (untrusted notebook) */\n",
       "  display: none;\n",
       "}\n",
       "\n",
       ".xr-header {\n",
       "  padding-top: 6px;\n",
       "  padding-bottom: 6px;\n",
       "  margin-bottom: 4px;\n",
       "  border-bottom: solid 1px var(--xr-border-color);\n",
       "}\n",
       "\n",
       ".xr-header > div,\n",
       ".xr-header > ul {\n",
       "  display: inline;\n",
       "  margin-top: 0;\n",
       "  margin-bottom: 0;\n",
       "}\n",
       "\n",
       ".xr-obj-type,\n",
       ".xr-array-name {\n",
       "  margin-left: 2px;\n",
       "  margin-right: 10px;\n",
       "}\n",
       "\n",
       ".xr-obj-type {\n",
       "  color: var(--xr-font-color2);\n",
       "}\n",
       "\n",
       ".xr-sections {\n",
       "  padding-left: 0 !important;\n",
       "  display: grid;\n",
       "  grid-template-columns: 150px auto auto 1fr 0 20px 0 20px;\n",
       "}\n",
       "\n",
       ".xr-section-item {\n",
       "  display: contents;\n",
       "}\n",
       "\n",
       ".xr-section-item input {\n",
       "  display: inline-block;\n",
       "  opacity: 0;\n",
       "}\n",
       "\n",
       ".xr-section-item input + label {\n",
       "  color: var(--xr-disabled-color);\n",
       "}\n",
       "\n",
       ".xr-section-item input:enabled + label {\n",
       "  cursor: pointer;\n",
       "  color: var(--xr-font-color2);\n",
       "}\n",
       "\n",
       ".xr-section-item input:focus + label {\n",
       "  border: 2px solid var(--xr-font-color0);\n",
       "}\n",
       "\n",
       ".xr-section-item input:enabled + label:hover {\n",
       "  color: var(--xr-font-color0);\n",
       "}\n",
       "\n",
       ".xr-section-summary {\n",
       "  grid-column: 1;\n",
       "  color: var(--xr-font-color2);\n",
       "  font-weight: 500;\n",
       "}\n",
       "\n",
       ".xr-section-summary > span {\n",
       "  display: inline-block;\n",
       "  padding-left: 0.5em;\n",
       "}\n",
       "\n",
       ".xr-section-summary-in:disabled + label {\n",
       "  color: var(--xr-font-color2);\n",
       "}\n",
       "\n",
       ".xr-section-summary-in + label:before {\n",
       "  display: inline-block;\n",
       "  content: '►';\n",
       "  font-size: 11px;\n",
       "  width: 15px;\n",
       "  text-align: center;\n",
       "}\n",
       "\n",
       ".xr-section-summary-in:disabled + label:before {\n",
       "  color: var(--xr-disabled-color);\n",
       "}\n",
       "\n",
       ".xr-section-summary-in:checked + label:before {\n",
       "  content: '▼';\n",
       "}\n",
       "\n",
       ".xr-section-summary-in:checked + label > span {\n",
       "  display: none;\n",
       "}\n",
       "\n",
       ".xr-section-summary,\n",
       ".xr-section-inline-details {\n",
       "  padding-top: 4px;\n",
       "  padding-bottom: 4px;\n",
       "}\n",
       "\n",
       ".xr-section-inline-details {\n",
       "  grid-column: 2 / -1;\n",
       "}\n",
       "\n",
       ".xr-section-details {\n",
       "  display: none;\n",
       "  grid-column: 1 / -1;\n",
       "  margin-bottom: 5px;\n",
       "}\n",
       "\n",
       ".xr-section-summary-in:checked ~ .xr-section-details {\n",
       "  display: contents;\n",
       "}\n",
       "\n",
       ".xr-array-wrap {\n",
       "  grid-column: 1 / -1;\n",
       "  display: grid;\n",
       "  grid-template-columns: 20px auto;\n",
       "}\n",
       "\n",
       ".xr-array-wrap > label {\n",
       "  grid-column: 1;\n",
       "  vertical-align: top;\n",
       "}\n",
       "\n",
       ".xr-preview {\n",
       "  color: var(--xr-font-color3);\n",
       "}\n",
       "\n",
       ".xr-array-preview,\n",
       ".xr-array-data {\n",
       "  padding: 0 5px !important;\n",
       "  grid-column: 2;\n",
       "}\n",
       "\n",
       ".xr-array-data,\n",
       ".xr-array-in:checked ~ .xr-array-preview {\n",
       "  display: none;\n",
       "}\n",
       "\n",
       ".xr-array-in:checked ~ .xr-array-data,\n",
       ".xr-array-preview {\n",
       "  display: inline-block;\n",
       "}\n",
       "\n",
       ".xr-dim-list {\n",
       "  display: inline-block !important;\n",
       "  list-style: none;\n",
       "  padding: 0 !important;\n",
       "  margin: 0;\n",
       "}\n",
       "\n",
       ".xr-dim-list li {\n",
       "  display: inline-block;\n",
       "  padding: 0;\n",
       "  margin: 0;\n",
       "}\n",
       "\n",
       ".xr-dim-list:before {\n",
       "  content: '(';\n",
       "}\n",
       "\n",
       ".xr-dim-list:after {\n",
       "  content: ')';\n",
       "}\n",
       "\n",
       ".xr-dim-list li:not(:last-child):after {\n",
       "  content: ',';\n",
       "  padding-right: 5px;\n",
       "}\n",
       "\n",
       ".xr-has-index {\n",
       "  font-weight: bold;\n",
       "}\n",
       "\n",
       ".xr-var-list,\n",
       ".xr-var-item {\n",
       "  display: contents;\n",
       "}\n",
       "\n",
       ".xr-var-item > div,\n",
       ".xr-var-item label,\n",
       ".xr-var-item > .xr-var-name span {\n",
       "  background-color: var(--xr-background-color-row-even);\n",
       "  margin-bottom: 0;\n",
       "}\n",
       "\n",
       ".xr-var-item > .xr-var-name:hover span {\n",
       "  padding-right: 5px;\n",
       "}\n",
       "\n",
       ".xr-var-list > li:nth-child(odd) > div,\n",
       ".xr-var-list > li:nth-child(odd) > label,\n",
       ".xr-var-list > li:nth-child(odd) > .xr-var-name span {\n",
       "  background-color: var(--xr-background-color-row-odd);\n",
       "}\n",
       "\n",
       ".xr-var-name {\n",
       "  grid-column: 1;\n",
       "}\n",
       "\n",
       ".xr-var-dims {\n",
       "  grid-column: 2;\n",
       "}\n",
       "\n",
       ".xr-var-dtype {\n",
       "  grid-column: 3;\n",
       "  text-align: right;\n",
       "  color: var(--xr-font-color2);\n",
       "}\n",
       "\n",
       ".xr-var-preview {\n",
       "  grid-column: 4;\n",
       "}\n",
       "\n",
       ".xr-index-preview {\n",
       "  grid-column: 2 / 5;\n",
       "  color: var(--xr-font-color2);\n",
       "}\n",
       "\n",
       ".xr-var-name,\n",
       ".xr-var-dims,\n",
       ".xr-var-dtype,\n",
       ".xr-preview,\n",
       ".xr-attrs dt {\n",
       "  white-space: nowrap;\n",
       "  overflow: hidden;\n",
       "  text-overflow: ellipsis;\n",
       "  padding-right: 10px;\n",
       "}\n",
       "\n",
       ".xr-var-name:hover,\n",
       ".xr-var-dims:hover,\n",
       ".xr-var-dtype:hover,\n",
       ".xr-attrs dt:hover {\n",
       "  overflow: visible;\n",
       "  width: auto;\n",
       "  z-index: 1;\n",
       "}\n",
       "\n",
       ".xr-var-attrs,\n",
       ".xr-var-data,\n",
       ".xr-index-data {\n",
       "  display: none;\n",
       "  background-color: var(--xr-background-color) !important;\n",
       "  padding-bottom: 5px !important;\n",
       "}\n",
       "\n",
       ".xr-var-attrs-in:checked ~ .xr-var-attrs,\n",
       ".xr-var-data-in:checked ~ .xr-var-data,\n",
       ".xr-index-data-in:checked ~ .xr-index-data {\n",
       "  display: block;\n",
       "}\n",
       "\n",
       ".xr-var-data > table {\n",
       "  float: right;\n",
       "}\n",
       "\n",
       ".xr-var-name span,\n",
       ".xr-var-data,\n",
       ".xr-index-name div,\n",
       ".xr-index-data,\n",
       ".xr-attrs {\n",
       "  padding-left: 25px !important;\n",
       "}\n",
       "\n",
       ".xr-attrs,\n",
       ".xr-var-attrs,\n",
       ".xr-var-data,\n",
       ".xr-index-data {\n",
       "  grid-column: 1 / -1;\n",
       "}\n",
       "\n",
       "dl.xr-attrs {\n",
       "  padding: 0;\n",
       "  margin: 0;\n",
       "  display: grid;\n",
       "  grid-template-columns: 125px auto;\n",
       "}\n",
       "\n",
       ".xr-attrs dt,\n",
       ".xr-attrs dd {\n",
       "  padding: 0;\n",
       "  margin: 0;\n",
       "  float: left;\n",
       "  padding-right: 10px;\n",
       "  width: auto;\n",
       "}\n",
       "\n",
       ".xr-attrs dt {\n",
       "  font-weight: normal;\n",
       "  grid-column: 1;\n",
       "}\n",
       "\n",
       ".xr-attrs dt:hover span {\n",
       "  display: inline-block;\n",
       "  background: var(--xr-background-color);\n",
       "  padding-right: 10px;\n",
       "}\n",
       "\n",
       ".xr-attrs dd {\n",
       "  grid-column: 2;\n",
       "  white-space: pre-wrap;\n",
       "  word-break: break-all;\n",
       "}\n",
       "\n",
       ".xr-icon-database,\n",
       ".xr-icon-file-text2,\n",
       ".xr-no-icon {\n",
       "  display: inline-block;\n",
       "  vertical-align: middle;\n",
       "  width: 1em;\n",
       "  height: 1.5em !important;\n",
       "  stroke-width: 0;\n",
       "  stroke: currentColor;\n",
       "  fill: currentColor;\n",
       "}\n",
       "</style><pre class='xr-text-repr-fallback'>&lt;xarray.DataArray &#x27;t2m&#x27; (time: 744, latitude: 32, longitude: 32)&gt; Size: 3MB\n",
       "dask.array&lt;getitem, shape=(744, 32, 32), dtype=float32, chunksize=(576, 32, 32), chunktype=numpy.ndarray&gt;\n",
       "Coordinates:\n",
       "  * latitude   (latitude) float64 256B 47.03 47.38 47.73 ... 57.24 57.59 57.95\n",
       "  * longitude  (longitude) float64 256B 5.273 5.625 5.977 ... 15.47 15.82 16.17\n",
       "    step       timedelta64[ns] 8B ...\n",
       "    surface    float64 8B ...\n",
       "  * time       (time) datetime64[ns] 6kB 2020-08-01 ... 2020-08-31T23:00:00\n",
       "Attributes:\n",
       "    units:    C</pre><div class='xr-wrap' style='display:none'><div class='xr-header'><div class='xr-obj-type'>xarray.DataArray</div><div class='xr-array-name'>'t2m'</div><ul class='xr-dim-list'><li><span class='xr-has-index'>time</span>: 744</li><li><span class='xr-has-index'>latitude</span>: 32</li><li><span class='xr-has-index'>longitude</span>: 32</li></ul></div><ul class='xr-sections'><li class='xr-section-item'><div class='xr-array-wrap'><input id='section-ff85febc-e4fc-4648-853e-ddc04ec1a3f0' class='xr-array-in' type='checkbox' checked><label for='section-ff85febc-e4fc-4648-853e-ddc04ec1a3f0' title='Show/hide data repr'><svg class='icon xr-icon-database'><use xlink:href='#icon-database'></use></svg></label><div class='xr-array-preview xr-preview'><span>dask.array&lt;chunksize=(72, 32, 32), meta=np.ndarray&gt;</span></div><div class='xr-array-data'><table>\n",
       "    <tr>\n",
       "        <td>\n",
       "            <table style=\"border-collapse: collapse;\">\n",
       "                <thead>\n",
       "                    <tr>\n",
       "                        <td> </td>\n",
       "                        <th> Array </th>\n",
       "                        <th> Chunk </th>\n",
       "                    </tr>\n",
       "                </thead>\n",
       "                <tbody>\n",
       "                    \n",
       "                    <tr>\n",
       "                        <th> Bytes </th>\n",
       "                        <td> 2.91 MiB </td>\n",
       "                        <td> 2.25 MiB </td>\n",
       "                    </tr>\n",
       "                    \n",
       "                    <tr>\n",
       "                        <th> Shape </th>\n",
       "                        <td> (744, 32, 32) </td>\n",
       "                        <td> (576, 32, 32) </td>\n",
       "                    </tr>\n",
       "                    <tr>\n",
       "                        <th> Dask graph </th>\n",
       "                        <td colspan=\"2\"> 3 chunks in 5 graph layers </td>\n",
       "                    </tr>\n",
       "                    <tr>\n",
       "                        <th> Data type </th>\n",
       "                        <td colspan=\"2\"> float32 numpy.ndarray </td>\n",
       "                    </tr>\n",
       "                </tbody>\n",
       "            </table>\n",
       "        </td>\n",
       "        <td>\n",
       "        <svg width=\"164\" height=\"154\" style=\"stroke:rgb(0,0,0);stroke-width:1\" >\n",
       "\n",
       "  <!-- Horizontal lines -->\n",
       "  <line x1=\"10\" y1=\"0\" x2=\"80\" y2=\"70\" style=\"stroke-width:2\" />\n",
       "  <line x1=\"10\" y1=\"33\" x2=\"80\" y2=\"104\" style=\"stroke-width:2\" />\n",
       "\n",
       "  <!-- Vertical lines -->\n",
       "  <line x1=\"10\" y1=\"0\" x2=\"10\" y2=\"33\" style=\"stroke-width:2\" />\n",
       "  <line x1=\"16\" y1=\"6\" x2=\"16\" y2=\"40\" />\n",
       "  <line x1=\"71\" y1=\"61\" x2=\"71\" y2=\"95\" />\n",
       "  <line x1=\"80\" y1=\"70\" x2=\"80\" y2=\"104\" style=\"stroke-width:2\" />\n",
       "\n",
       "  <!-- Colored Rectangle -->\n",
       "  <polygon points=\"10.0,0.0 80.58823529411765,70.58823529411765 80.58823529411765,104.16641749681233 10.0,33.578182202694684\" style=\"fill:#ECB172A0;stroke-width:0\"/>\n",
       "\n",
       "  <!-- Horizontal lines -->\n",
       "  <line x1=\"10\" y1=\"0\" x2=\"43\" y2=\"0\" style=\"stroke-width:2\" />\n",
       "  <line x1=\"16\" y1=\"6\" x2=\"50\" y2=\"6\" />\n",
       "  <line x1=\"71\" y1=\"61\" x2=\"105\" y2=\"61\" />\n",
       "  <line x1=\"80\" y1=\"70\" x2=\"114\" y2=\"70\" style=\"stroke-width:2\" />\n",
       "\n",
       "  <!-- Vertical lines -->\n",
       "  <line x1=\"10\" y1=\"0\" x2=\"80\" y2=\"70\" style=\"stroke-width:2\" />\n",
       "  <line x1=\"43\" y1=\"0\" x2=\"114\" y2=\"70\" style=\"stroke-width:2\" />\n",
       "\n",
       "  <!-- Colored Rectangle -->\n",
       "  <polygon points=\"10.0,0.0 43.578182202694684,0.0 114.16641749681233,70.58823529411765 80.58823529411765,70.58823529411765\" style=\"fill:#ECB172A0;stroke-width:0\"/>\n",
       "\n",
       "  <!-- Horizontal lines -->\n",
       "  <line x1=\"80\" y1=\"70\" x2=\"114\" y2=\"70\" style=\"stroke-width:2\" />\n",
       "  <line x1=\"80\" y1=\"104\" x2=\"114\" y2=\"104\" style=\"stroke-width:2\" />\n",
       "\n",
       "  <!-- Vertical lines -->\n",
       "  <line x1=\"80\" y1=\"70\" x2=\"80\" y2=\"104\" style=\"stroke-width:2\" />\n",
       "  <line x1=\"114\" y1=\"70\" x2=\"114\" y2=\"104\" style=\"stroke-width:2\" />\n",
       "\n",
       "  <!-- Colored Rectangle -->\n",
       "  <polygon points=\"80.58823529411765,70.58823529411765 114.16641749681233,70.58823529411765 114.16641749681233,104.16641749681233 80.58823529411765,104.16641749681233\" style=\"fill:#ECB172A0;stroke-width:0\"/>\n",
       "\n",
       "  <!-- Text -->\n",
       "  <text x=\"97.377326\" y=\"124.166417\" font-size=\"1.0rem\" font-weight=\"100\" text-anchor=\"middle\" >32</text>\n",
       "  <text x=\"134.166417\" y=\"87.377326\" font-size=\"1.0rem\" font-weight=\"100\" text-anchor=\"middle\" transform=\"rotate(0,134.166417,87.377326)\">32</text>\n",
       "  <text x=\"35.294118\" y=\"88.872300\" font-size=\"1.0rem\" font-weight=\"100\" text-anchor=\"middle\" transform=\"rotate(45,35.294118,88.872300)\">744</text>\n",
       "</svg>\n",
       "        </td>\n",
       "    </tr>\n",
       "</table></div></div></li><li class='xr-section-item'><input id='section-eb7093d9-23f3-4d7c-84fb-df5c06a5dd8d' class='xr-section-summary-in' type='checkbox'  checked><label for='section-eb7093d9-23f3-4d7c-84fb-df5c06a5dd8d' class='xr-section-summary' >Coordinates: <span>(5)</span></label><div class='xr-section-inline-details'></div><div class='xr-section-details'><ul class='xr-var-list'><li class='xr-var-item'><div class='xr-var-name'><span class='xr-has-index'>latitude</span></div><div class='xr-var-dims'>(latitude)</div><div class='xr-var-dtype'>float64</div><div class='xr-var-preview xr-preview'>47.03 47.38 47.73 ... 57.59 57.95</div><input id='attrs-7e88fb07-a2dc-4c34-8f21-5f37b086ef28' class='xr-var-attrs-in' type='checkbox' ><label for='attrs-7e88fb07-a2dc-4c34-8f21-5f37b086ef28' title='Show/Hide attributes'><svg class='icon xr-icon-file-text2'><use xlink:href='#icon-file-text2'></use></svg></label><input id='data-365d50bf-9852-44e9-905c-66d67e511e0d' class='xr-var-data-in' type='checkbox'><label for='data-365d50bf-9852-44e9-905c-66d67e511e0d' title='Show/Hide data repr'><svg class='icon xr-icon-database'><use xlink:href='#icon-database'></use></svg></label><div class='xr-var-attrs'><dl class='xr-attrs'><dt><span>long_name :</span></dt><dd>latitude</dd><dt><span>standard_name :</span></dt><dd>latitude</dd><dt><span>units :</span></dt><dd>degrees_north</dd></dl></div><div class='xr-var-data'><pre>array([47.02544 , 47.377691, 47.729941, 48.082192, 48.434442, 48.786693,\n",
       "       49.138943, 49.491194, 49.843444, 50.195695, 50.547945, 50.900196,\n",
       "       51.252446, 51.604697, 51.956947, 52.309198, 52.661448, 53.013699,\n",
       "       53.365949, 53.7182  , 54.07045 , 54.422701, 54.774951, 55.127202,\n",
       "       55.479452, 55.831703, 56.183953, 56.536204, 56.888454, 57.240705,\n",
       "       57.592955, 57.945205])</pre></div></li><li class='xr-var-item'><div class='xr-var-name'><span class='xr-has-index'>longitude</span></div><div class='xr-var-dims'>(longitude)</div><div class='xr-var-dtype'>float64</div><div class='xr-var-preview xr-preview'>5.273 5.625 5.977 ... 15.82 16.17</div><input id='attrs-e1a46117-6f76-4b0c-b937-cc2fdd9f2e59' class='xr-var-attrs-in' type='checkbox' ><label for='attrs-e1a46117-6f76-4b0c-b937-cc2fdd9f2e59' title='Show/Hide attributes'><svg class='icon xr-icon-file-text2'><use xlink:href='#icon-file-text2'></use></svg></label><input id='data-51aa2f99-e367-4bec-a305-359e500cfe02' class='xr-var-data-in' type='checkbox'><label for='data-51aa2f99-e367-4bec-a305-359e500cfe02' title='Show/Hide data repr'><svg class='icon xr-icon-database'><use xlink:href='#icon-database'></use></svg></label><div class='xr-var-attrs'><dl class='xr-attrs'><dt><span>long_name :</span></dt><dd>longitude</dd><dt><span>standard_name :</span></dt><dd>longitude</dd><dt><span>units :</span></dt><dd>degrees_east</dd></dl></div><div class='xr-var-data'><pre>array([ 5.273438,  5.625   ,  5.976562,  6.328125,  6.679688,  7.03125 ,\n",
       "        7.382812,  7.734375,  8.085938,  8.4375  ,  8.789062,  9.140625,\n",
       "        9.492188,  9.84375 , 10.195312, 10.546875, 10.898438, 11.25    ,\n",
       "       11.601562, 11.953125, 12.304688, 12.65625 , 13.007812, 13.359375,\n",
       "       13.710938, 14.0625  , 14.414062, 14.765625, 15.117188, 15.46875 ,\n",
       "       15.820312, 16.171875])</pre></div></li><li class='xr-var-item'><div class='xr-var-name'><span>step</span></div><div class='xr-var-dims'>()</div><div class='xr-var-dtype'>timedelta64[ns]</div><div class='xr-var-preview xr-preview'>...</div><input id='attrs-815014c4-3c2a-4cdd-9bc2-2db2c852a436' class='xr-var-attrs-in' type='checkbox' ><label for='attrs-815014c4-3c2a-4cdd-9bc2-2db2c852a436' title='Show/Hide attributes'><svg class='icon xr-icon-file-text2'><use xlink:href='#icon-file-text2'></use></svg></label><input id='data-7082dcb9-c0ca-42db-926f-ef182a99e233' class='xr-var-data-in' type='checkbox'><label for='data-7082dcb9-c0ca-42db-926f-ef182a99e233' title='Show/Hide data repr'><svg class='icon xr-icon-database'><use xlink:href='#icon-database'></use></svg></label><div class='xr-var-attrs'><dl class='xr-attrs'><dt><span>long_name :</span></dt><dd>time since forecast_reference_time</dd><dt><span>standard_name :</span></dt><dd>forecast_period</dd></dl></div><div class='xr-var-data'><pre>[1 values with dtype=timedelta64[ns]]</pre></div></li><li class='xr-var-item'><div class='xr-var-name'><span>surface</span></div><div class='xr-var-dims'>()</div><div class='xr-var-dtype'>float64</div><div class='xr-var-preview xr-preview'>...</div><input id='attrs-2aa28f28-e1c1-46a2-a4a8-03eb918a8c23' class='xr-var-attrs-in' type='checkbox' ><label for='attrs-2aa28f28-e1c1-46a2-a4a8-03eb918a8c23' title='Show/Hide attributes'><svg class='icon xr-icon-file-text2'><use xlink:href='#icon-file-text2'></use></svg></label><input id='data-29ad5638-e9b5-47de-a3d2-8b9f75e58673' class='xr-var-data-in' type='checkbox'><label for='data-29ad5638-e9b5-47de-a3d2-8b9f75e58673' title='Show/Hide data repr'><svg class='icon xr-icon-database'><use xlink:href='#icon-database'></use></svg></label><div class='xr-var-attrs'><dl class='xr-attrs'><dt><span>long_name :</span></dt><dd>original GRIB coordinate for key: level(surface)</dd><dt><span>units :</span></dt><dd>1</dd></dl></div><div class='xr-var-data'><pre>[1 values with dtype=float64]</pre></div></li><li class='xr-var-item'><div class='xr-var-name'><span class='xr-has-index'>time</span></div><div class='xr-var-dims'>(time)</div><div class='xr-var-dtype'>datetime64[ns]</div><div class='xr-var-preview xr-preview'>2020-08-01 ... 2020-08-31T23:00:00</div><input id='attrs-8f76ff43-7ecb-4e1a-bcd9-6f08a0a9e80b' class='xr-var-attrs-in' type='checkbox' disabled><label for='attrs-8f76ff43-7ecb-4e1a-bcd9-6f08a0a9e80b' title='Show/Hide attributes'><svg class='icon xr-icon-file-text2'><use xlink:href='#icon-file-text2'></use></svg></label><input id='data-81570f0d-512d-4777-bf10-649eecf74461' class='xr-var-data-in' type='checkbox'><label for='data-81570f0d-512d-4777-bf10-649eecf74461' title='Show/Hide data repr'><svg class='icon xr-icon-database'><use xlink:href='#icon-database'></use></svg></label><div class='xr-var-attrs'><dl class='xr-attrs'></dl></div><div class='xr-var-data'><pre>array([&#x27;2020-08-01T00:00:00.000000000&#x27;, &#x27;2020-08-01T01:00:00.000000000&#x27;,\n",
       "       &#x27;2020-08-01T02:00:00.000000000&#x27;, ..., &#x27;2020-08-31T21:00:00.000000000&#x27;,\n",
       "       &#x27;2020-08-31T22:00:00.000000000&#x27;, &#x27;2020-08-31T23:00:00.000000000&#x27;],\n",
       "      dtype=&#x27;datetime64[ns]&#x27;)</pre></div></li></ul></div></li><li class='xr-section-item'><input id='section-37d673b4-b2cb-4bc2-8fd2-13ef2faf4857' class='xr-section-summary-in' type='checkbox'  ><label for='section-37d673b4-b2cb-4bc2-8fd2-13ef2faf4857' class='xr-section-summary' >Indexes: <span>(3)</span></label><div class='xr-section-inline-details'></div><div class='xr-section-details'><ul class='xr-var-list'><li class='xr-var-item'><div class='xr-index-name'><div>latitude</div></div><div class='xr-index-preview'>PandasIndex</div><div></div><input id='index-2e4f1a9a-363e-4000-82d7-a08c2fba5c35' class='xr-index-data-in' type='checkbox'/><label for='index-2e4f1a9a-363e-4000-82d7-a08c2fba5c35' title='Show/Hide index repr'><svg class='icon xr-icon-database'><use xlink:href='#icon-database'></use></svg></label><div class='xr-index-data'><pre>PandasIndex(Index([47.025440313111545, 47.377690802348326,  47.72994129158511,\n",
       "       48.082191780821915, 48.434442270058696, 48.786692759295505,\n",
       "       49.138943248532286, 49.491193737769066, 49.843444227005875,\n",
       "       50.195694716242656,  50.54794520547944, 50.900195694716245,\n",
       "       51.252446183953026,  51.60469667318981, 51.956947162426616,\n",
       "       52.309197651663396,  52.66144814090018, 53.013698630136986,\n",
       "        53.36594911937377,  53.71819960861055,  54.07045009784736,\n",
       "        54.42270058708414,  54.77495107632092, 55.127201565557726,\n",
       "        55.47945205479451, 55.831702544031316,   56.1839530332681,\n",
       "        56.53620352250488,  56.88845401174169,  57.24070450097847,\n",
       "        57.59295499021525, 57.945205479452056],\n",
       "      dtype=&#x27;float64&#x27;, name=&#x27;latitude&#x27;))</pre></div></li><li class='xr-var-item'><div class='xr-index-name'><div>longitude</div></div><div class='xr-index-preview'>PandasIndex</div><div></div><input id='index-ee8f1234-f476-4e7c-b891-cf9d0283694f' class='xr-index-data-in' type='checkbox'/><label for='index-ee8f1234-f476-4e7c-b891-cf9d0283694f' title='Show/Hide index repr'><svg class='icon xr-icon-database'><use xlink:href='#icon-database'></use></svg></label><div class='xr-index-data'><pre>PandasIndex(Index([         5.2734375,              5.625,          5.9765625,\n",
       "                 6.328125,          6.6796875,            7.03125,\n",
       "                7.3828125,  7.734375000000001,          8.0859375,\n",
       "                   8.4375,          8.7890625,           9.140625,\n",
       "                9.4921875,            9.84375,         10.1953125,\n",
       "                10.546875,         10.8984375,              11.25,\n",
       "               11.6015625,          11.953125,         12.3046875,\n",
       "                 12.65625,         13.0078125,          13.359375,\n",
       "               13.7109375,            14.0625, 14.414062499999998,\n",
       "                14.765625,         15.1171875, 15.468750000000002,\n",
       "               15.8203125,          16.171875],\n",
       "      dtype=&#x27;float64&#x27;, name=&#x27;longitude&#x27;))</pre></div></li><li class='xr-var-item'><div class='xr-index-name'><div>time</div></div><div class='xr-index-preview'>PandasIndex</div><div></div><input id='index-4476c6d5-beb9-4591-b28c-1ef4f6557d12' class='xr-index-data-in' type='checkbox'/><label for='index-4476c6d5-beb9-4591-b28c-1ef4f6557d12' title='Show/Hide index repr'><svg class='icon xr-icon-database'><use xlink:href='#icon-database'></use></svg></label><div class='xr-index-data'><pre>PandasIndex(DatetimeIndex([&#x27;2020-08-01 00:00:00&#x27;, &#x27;2020-08-01 01:00:00&#x27;,\n",
       "               &#x27;2020-08-01 02:00:00&#x27;, &#x27;2020-08-01 03:00:00&#x27;,\n",
       "               &#x27;2020-08-01 04:00:00&#x27;, &#x27;2020-08-01 05:00:00&#x27;,\n",
       "               &#x27;2020-08-01 06:00:00&#x27;, &#x27;2020-08-01 07:00:00&#x27;,\n",
       "               &#x27;2020-08-01 08:00:00&#x27;, &#x27;2020-08-01 09:00:00&#x27;,\n",
       "               ...\n",
       "               &#x27;2020-08-31 14:00:00&#x27;, &#x27;2020-08-31 15:00:00&#x27;,\n",
       "               &#x27;2020-08-31 16:00:00&#x27;, &#x27;2020-08-31 17:00:00&#x27;,\n",
       "               &#x27;2020-08-31 18:00:00&#x27;, &#x27;2020-08-31 19:00:00&#x27;,\n",
       "               &#x27;2020-08-31 20:00:00&#x27;, &#x27;2020-08-31 21:00:00&#x27;,\n",
       "               &#x27;2020-08-31 22:00:00&#x27;, &#x27;2020-08-31 23:00:00&#x27;],\n",
       "              dtype=&#x27;datetime64[ns]&#x27;, name=&#x27;time&#x27;, length=744, freq=None))</pre></div></li></ul></div></li><li class='xr-section-item'><input id='section-07b9f4eb-488a-4ed1-b919-b5c08bc8940c' class='xr-section-summary-in' type='checkbox'  checked><label for='section-07b9f4eb-488a-4ed1-b919-b5c08bc8940c' class='xr-section-summary' >Attributes: <span>(1)</span></label><div class='xr-section-inline-details'></div><div class='xr-section-details'><dl class='xr-attrs'><dt><span>units :</span></dt><dd>C</dd></dl></div></li></ul></div></div>"
      ],
      "text/plain": [
       "<xarray.DataArray 't2m' (time: 744, latitude: 32, longitude: 32)> Size: 3MB\n",
       "dask.array<getitem, shape=(744, 32, 32), dtype=float32, chunksize=(576, 32, 32), chunktype=numpy.ndarray>\n",
       "Coordinates:\n",
       "  * latitude   (latitude) float64 256B 47.03 47.38 47.73 ... 57.24 57.59 57.95\n",
       "  * longitude  (longitude) float64 256B 5.273 5.625 5.977 ... 15.47 15.82 16.17\n",
       "    step       timedelta64[ns] 8B ...\n",
       "    surface    float64 8B ...\n",
       "  * time       (time) datetime64[ns] 6kB 2020-08-01 ... 2020-08-31T23:00:00\n",
       "Attributes:\n",
       "    units:    C"
      ]
     },
     "execution_count": 8,
     "metadata": {},
     "output_type": "execute_result"
    }
   ],
   "source": [
    "data = xr.open_dataset(\n",
    "        \"https://cacheb.dcms.destine.eu/d1-climate-dt/ScenarioMIP-SSP3-7.0-IFS-NEMO-0001-standard-sfc-v0.zarr\",\n",
    "        engine=\"zarr\",\n",
    "        storage_options={\"client_kwargs\": {\"trust_env\": \"true\"}},\n",
    "        chunks={},\n",
    "    )\n",
    "t2m_lr = data.t2m.astype(\"float32\") - 273.15\n",
    "t2m_lr.attrs[\"units\"] = \"C\"\n",
    "lr = t2m_lr.sel(**{\"latitude\": slice(47, 58.22), \"longitude\": slice(5, 16.25)})\n",
    "lr = lr.sel(time=\"2020-08\")\n",
    "lr"
   ]
  },
  {
   "cell_type": "code",
   "execution_count": 9,
   "id": "5b5b10ee",
   "metadata": {},
   "outputs": [],
   "source": [
    "data = xr.open_dataset(\n",
    "        \"https://cacheb.dcms.destine.eu/d1-climate-dt/ScenarioMIP-SSP3-7.0-IFS-NEMO-0001-high-sfc-v0.zarr\",\n",
    "        engine=\"zarr\",\n",
    "        storage_options={\"client_kwargs\": {\"trust_env\": \"true\"}},\n",
    "        chunks={},\n",
    "    )\n",
    "t2m_hr = data.t2m.astype(\"float32\") - 273.15\n",
    "t2m_hr.attrs[\"units\"] = \"C\"\n",
    "hr = t2m_hr.sel(**{\"latitude\": slice(47, 58.22), \"longitude\": slice(5, 16.25)})\n",
    "hr = hr.sel(time=\"2020-08\")"
   ]
  },
  {
   "cell_type": "code",
   "execution_count": 10,
   "id": "b945ea6c",
   "metadata": {},
   "outputs": [],
   "source": [
    "hr = hr.load()\n",
    "lr = lr.load()"
   ]
  },
  {
   "cell_type": "code",
   "execution_count": 11,
   "id": "a08e0284",
   "metadata": {},
   "outputs": [
    {
     "data": {
      "text/plain": [
       "Text(0.5, 1.0, 'High-Resolution')"
      ]
     },
     "execution_count": 11,
     "metadata": {},
     "output_type": "execute_result"
    },
    {
     "data": {
      "image/png": "[encoded data removed]",
      "text/plain": [
       "<Figure size 1200x600 with 2 Axes>"
      ]
     },
     "metadata": {},
     "output_type": "display_data"
    }
   ],
   "source": [
    "fig, ax = plt.subplots(1, 2, figsize=(12, 6), subplot_kw={'projection': ccrs.Mercator()})\n",
    "# Define the area of interest\n",
    "lon_min, lon_max = 5, 16.25\n",
    "lat_min, lat_max = 47, 58.22\n",
    "# Plot high-resolution data\n",
    "ax[0].coastlines()\n",
    "ax[0].add_feature(cf.BORDERS)\n",
    "ax[0].set_extent([lon_min, lon_max, lat_min, lat_max], crs=ccrs.PlateCarree())\n",
    "ax[0].imshow(lr[0].values, origin='upper', extent=[lon_min, lon_max, lat_min, lat_max], transform=ccrs.PlateCarree(), cmap=\"YlOrRd\")\n",
    "ax[0].set_title(\"Low-Resolution\")\n",
    "\n",
    "# Plot low-resolution data\n",
    "ax[1].coastlines()\n",
    "ax[1].add_feature(cf.BORDERS)\n",
    "ax[1].set_extent([lon_min, lon_max, lat_min, lat_max], crs=ccrs.PlateCarree())\n",
    "ax[1].imshow(hr[0].values, origin='upper', extent=[lon_min, lon_max, lat_min, lat_max], transform=ccrs.PlateCarree(), cmap=\"YlOrRd\")\n",
    "ax[1].set_title(\"High-Resolution\")"
   ]
  },
  {
   "cell_type": "code",
   "execution_count": 12,
   "id": "76a8b547",
   "metadata": {},
   "outputs": [
    {
     "name": "stdout",
     "output_type": "stream",
     "text": [
      "scaling factor latitude: 8.0\n",
      "scaling factor longitude: 8.0\n"
     ]
    }
   ],
   "source": [
    "scale_factor_latitude = hr[0].shape[0] /lr[0].shape[0]\n",
    "scale_factor_longitude = hr[0].shape[1] /lr[0].shape[1]\n",
    "print(f\"scaling factor latitude: {scale_factor_latitude}\")\n",
    "print(f\"scaling factor longitude: {scale_factor_longitude}\")"
   ]
  },
  {
   "cell_type": "markdown",
   "id": "83f3d0dd",
   "metadata": {},
   "source": [
    "## Generate dataset"
   ]
  },
  {
   "cell_type": "code",
   "execution_count": 13,
   "id": "6574b4b1",
   "metadata": {},
   "outputs": [
    {
     "name": "stdout",
     "output_type": "stream",
     "text": [
      "hr_mean: 16.20488739013672,hr_std 4.528378009796143\n",
      "lr_mean: 16.192955017089844,lr_std 4.557614326477051\n"
     ]
    }
   ],
   "source": [
    "hr_mean, hr_std = compute_mean_std(hr)\n",
    "lr_mean, lr_std = compute_mean_std(lr)\n",
    "print(f\"hr_mean: {hr_mean},hr_std {hr_std}\")\n",
    "print(f\"lr_mean: {lr_mean},lr_std {lr_std}\")"
   ]
  },
  {
   "cell_type": "code",
   "execution_count": 14,
   "id": "3a9aef5b",
   "metadata": {},
   "outputs": [],
   "source": [
    "# Custom Dataset class\n",
    "class CreateDataset(Dataset):\n",
    "    def __init__(self, hr_data, lr_data, hr_mean, hr_std, lr_mean, lr_std):\n",
    "        \"\"\"\n",
    "        Args:\n",
    "            hr_data (xarray.DataArray): High-resolution data\n",
    "            lr_data (xarray.DataArray): Low-resolution data\n",
    "        \"\"\"\n",
    "        self.hr_data = hr_data\n",
    "        self.lr_data = lr_data\n",
    "        self.hr_mean, self.hr_std = hr_mean, hr_std\n",
    "        self.lr_mean, self.lr_std = lr_mean, lr_std\n",
    "\n",
    "        # Define the transformations for high-resolution and low-resolution data\n",
    "        self.hr_transform = transforms.Normalize(mean=[hr_mean], std=[hr_std])\n",
    "        self.lr_transform = transforms.Normalize(mean=[lr_mean], std=[lr_std])\n",
    "\n",
    "\n",
    "    def __len__(self):\n",
    "        # Dataset length is the number of time steps\n",
    "        return self.hr_data.shape[0]\n",
    "\n",
    "    def __getitem__(self, idx):\n",
    "        \"\"\"\n",
    "        Args:\n",
    "            idx (int): Index of the sample to return\n",
    "        Returns:\n",
    "            tuple: (low-resolution, high-resolution) data as tensors\n",
    "        \"\"\"\n",
    "        # Select the time slice at the given index\n",
    "        hr_sample = self.hr_data.isel(time=idx).values  # (lat, lon)\n",
    "\n",
    "        lr_sample = self.lr_data.isel(time=idx).values  # (lat, lon)\n",
    "\n",
    "        # Convert to torch tensors and reshape to match (C, H, W) format\n",
    "        hr_sample = torch.tensor(hr_sample, dtype=torch.float32).unsqueeze(0)  # (1, lat, lon)\n",
    "        lr_sample = torch.tensor(lr_sample, dtype=torch.float32).unsqueeze(0)  # (1, lat, lon)\n",
    "\n",
    "        hr_sample = self.hr_transform(hr_sample)\n",
    "        lr_sample = self.lr_transform(lr_sample)\n",
    "\n",
    "        return lr_sample, hr_sample"
   ]
  },
  {
   "cell_type": "code",
   "execution_count": 15,
   "id": "8b4b843a",
   "metadata": {},
   "outputs": [],
   "source": [
    "# # Get the total number of time steps\n",
    "# total_samples = len(hr.time.values)\n",
    "\n",
    "# # Calculate split sizes (70% training, 15% validation, 15% testing)\n",
    "# train_size = int(0.7 * total_samples)  # 70% for training\n",
    "# val_size = int(0.15 * total_samples)   # 15% for validation\n",
    "# test_size = total_samples - train_size - val_size  # The rest for testing\n",
    "\n",
    "# # Split the high-resolution and low-resolution data based on the time index\n",
    "# train_hr = hr.isel(time=slice(0, train_size))\n",
    "# val_hr = hr.isel(time=slice(train_size, train_size + val_size))\n",
    "# test_hr = hr.isel(time=slice(train_size + val_size, total_samples))\n",
    "\n",
    "# train_lr = lr.isel(time=slice(0, train_size))\n",
    "# val_lr = lr.isel(time=slice(train_size, train_size + val_size))\n",
    "# test_lr = lr.isel(time=slice(train_size + val_size, total_samples))\n",
    "\n",
    "# # Create the dataset for training, validation, and testing\n",
    "# train_dataset = CreateDataset(hr_data=train_hr, lr_data=train_lr,\n",
    "#                               hr_mean=hr_mean, hr_std=hr_std,\n",
    "#                               lr_mean=lr_mean, lr_std=lr_std)\n",
    "\n",
    "# val_dataset = CreateDataset(hr_data=val_hr, lr_data=val_lr,\n",
    "#                              hr_mean=hr_mean, hr_std=hr_std,\n",
    "#                               lr_mean=lr_mean, lr_std=lr_std)\n",
    "\n",
    "# test_dataset = CreateDataset(hr_data=test_hr, lr_data=test_lr,\n",
    "#                               hr_mean=hr_mean, hr_std=hr_std,\n",
    "#                               lr_mean=lr_mean, lr_std=lr_std)\n",
    "\n",
    "# # DataLoader for batching and shuffling\n",
    "# batch_size = 32\n",
    "\n",
    "# train_loader = DataLoader(train_dataset, batch_size=batch_size, shuffle=False, num_workers=14)\n",
    "# val_loader = DataLoader(val_dataset, batch_size=batch_size, shuffle=False, num_workers=14)\n",
    "# test_loader = DataLoader(test_dataset, batch_size=batch_size, shuffle=False, num_workers=14)"
   ]
  },
  {
   "cell_type": "code",
   "execution_count": 16,
   "id": "1e6e37ef",
   "metadata": {},
   "outputs": [
    {
     "name": "stdout",
     "output_type": "stream",
     "text": [
      "Train samples: 520\n",
      "Validation samples: 179\n",
      "Test samples: 45\n"
     ]
    }
   ],
   "source": [
    "time_indices = np.arange(len(hr.time.values))\n",
    "\n",
    "\n",
    "# First, split into train and remaining (validation + test)\n",
    "train_indices, remaining_indices = train_test_split(time_indices , train_size=0.7, shuffle=True, random_state=42)\n",
    "\n",
    "# Split the remaining indices into validation and test sets (50% of the remaining data each)\n",
    "val_indices, test_indices = train_test_split(remaining_indices, test_size=0.2, shuffle=True, random_state=42)\n",
    "\n",
    "# Use the indices to create train, validation, and test datasets\n",
    "train_hr = hr.isel(time=train_indices)\n",
    "val_hr = hr.isel(time=val_indices)\n",
    "test_hr = hr.isel(time=test_indices)\n",
    "\n",
    "# If you need to split both HR and LR datasets, do the same for lr:\n",
    "train_lr = lr.isel(time=train_indices)\n",
    "val_lr = lr.isel(time=val_indices)\n",
    "test_lr = lr.isel(time=test_indices)\n",
    "\n",
    "print(f\"Train samples: {len(train_hr.time.values)}\")\n",
    "print(f\"Validation samples: {len(val_hr.time.values)}\")\n",
    "print(f\"Test samples: {len(test_hr.time.values)}\")"
   ]
  },
  {
   "cell_type": "code",
   "execution_count": 17,
   "id": "4343f8b3",
   "metadata": {},
   "outputs": [],
   "source": [
    "train_dataset = CreateDataset(hr_data=train_hr, lr_data=train_lr,\n",
    "                              hr_mean=hr_mean, hr_std=hr_std,\n",
    "                              lr_mean=lr_mean, lr_std=lr_std)\n",
    "\n",
    "val_dataset = CreateDataset(hr_data=val_hr, lr_data=val_lr,\n",
    "                             hr_mean=hr_mean, hr_std=hr_std,\n",
    "                              lr_mean=lr_mean, lr_std=lr_std)\n",
    "\n",
    "test_dataset = CreateDataset(hr_data=test_hr, lr_data=test_lr,\n",
    "                              hr_mean=hr_mean, hr_std=hr_std,\n",
    "                              lr_mean=lr_mean, lr_std=lr_std)\n",
    "\n",
    "# DataLoader for batching and shuffling\n",
    "batch_size = 32\n",
    "\n",
    "train_loader = DataLoader(train_dataset, batch_size=batch_size, shuffle=False, num_workers=14)\n",
    "val_loader = DataLoader(val_dataset, batch_size=batch_size, shuffle=False, num_workers=14)\n",
    "test_loader = DataLoader(test_dataset, batch_size=batch_size, shuffle=False, num_workers=14)"
   ]
  },
  {
   "cell_type": "code",
   "execution_count": 18,
   "id": "eed69d1c",
   "metadata": {},
   "outputs": [
    {
     "data": {
      "text/plain": [
       "Text(0.5, 1.0, 'High-Resolution: 2020-08-12T14:00:00.000000000')"
      ]
     },
     "execution_count": 18,
     "metadata": {},
     "output_type": "execute_result"
    },
    {
     "data": {
      "image/png": "[encoded data removed]",
      "text/plain": [
       "<Figure size 1200x600 with 2 Axes>"
      ]
     },
     "metadata": {},
     "output_type": "display_data"
    }
   ],
   "source": [
    "fig, ax = plt.subplots(1, 2, figsize=(12, 6), subplot_kw={'projection': ccrs.Mercator()})\n",
    "# Define the area of interest\n",
    "lon_min, lon_max = 5, 16.25\n",
    "lat_min, lat_max = 47, 58.22\n",
    "# Plot high-resolution data\n",
    "ax[0].coastlines()\n",
    "ax[0].add_feature(cf.BORDERS)\n",
    "ax[0].set_extent([lon_min, lon_max, lat_min, lat_max], crs=ccrs.PlateCarree())\n",
    "ax[0].imshow(train_lr[100].values, origin='upper', extent=[lon_min, lon_max, lat_min, lat_max], transform=ccrs.PlateCarree(), cmap=\"YlOrRd\")\n",
    "ax[0].set_title(f\"Low-Resolution: {train_lr[100].time.values}\")\n",
    "\n",
    "# Plot low-resolution data\n",
    "ax[1].coastlines()\n",
    "ax[1].add_feature(cf.BORDERS)\n",
    "ax[1].set_extent([lon_min, lon_max, lat_min, lat_max], crs=ccrs.PlateCarree())\n",
    "ax[1].imshow(train_hr[100].values, origin='upper', extent=[lon_min, lon_max, lat_min, lat_max], transform=ccrs.PlateCarree(), cmap=\"YlOrRd\")\n",
    "ax[1].set_title(f\"High-Resolution: {train_hr[100].time.values}\")"
   ]
  },
  {
   "cell_type": "code",
   "execution_count": 19,
   "id": "98a657c1",
   "metadata": {},
   "outputs": [
    {
     "name": "stderr",
     "output_type": "stream",
     "text": [
      "GPU available: True (cuda), used: True\n",
      "TPU available: False, using: 0 TPU cores\n",
      "HPU available: False, using: 0 HPUs\n"
     ]
    }
   ],
   "source": [
    "from lightning.pytorch.callbacks import ModelCheckpoint\n",
    "from model import SRResNet\n",
    "\n",
    "# Instantiate the LightningModule (SuperResolutionModel)\n",
    "model = SuperResolutionModel(SRResNet(large_kernel_size=9, small_kernel_size=3, n_channels=64, n_blocks=16, scaling_factor=8))\n",
    "\n",
    "# Define the model checkpoint callback\n",
    "checkpoint_val_loss = ModelCheckpoint(\n",
    "    monitor=\"val_loss\",         # Metric to monitor (e.g., 'val_loss')\n",
    "    filename=\"best-val-loss-{epoch:02d}-{val_loss:.2f}\",  # Filename template\n",
    "    save_top_k=1,               # Save only the best model (by val_loss)\n",
    "    mode=\"min\"                  # 'min' because we want to minimize validation loss\n",
    ")\n",
    "# Set up the Trainer with the checkpoint callback\n",
    "trainer = L.Trainer(\n",
    "    devices=[0],  # specify GPU devices\n",
    "    max_epochs=100,\n",
    "    accelerator=\"gpu\",\n",
    "    deterministic=True,\n",
    "    callbacks=[checkpoint_val_loss],\n",
    ")"
   ]
  },
  {
   "cell_type": "code",
   "execution_count": 20,
   "id": "aff34d5e",
   "metadata": {},
   "outputs": [
    {
     "name": "stderr",
     "output_type": "stream",
     "text": [
      "LOCAL_RANK: 0 - CUDA_VISIBLE_DEVICES: [0]\n",
      "\n",
      "  | Name  | Type                              | Params | Mode \n",
      "--------------------------------------------------------------------\n",
      "0 | model | SRResNet                          | 1.7 M  | train\n",
      "1 | psnr  | _PeakSignalNoiseRatio             | 0      | train\n",
      "2 | ssim  | _StructuralSimilarityIndexMeasure | 0      | train\n",
      "--------------------------------------------------------------------\n",
      "1.7 M     Trainable params\n",
      "0         Non-trainable params\n",
      "1.7 M     Total params\n",
      "6.706     Total estimated model params size (MB)\n",
      "189       Modules in train mode\n",
      "0         Modules in eval mode\n"
     ]
    },
    {
     "data": {
      "application/vnd.jupyter.widget-view+json": {
       "model_id": "202b4eca15784e7b8cdd4dd6c38488bd",
       "version_major": 2,
       "version_minor": 0
      },
      "text/plain": [
       "Sanity Checking: |          | 0/? [00:00<?, ?it/s]"
      ]
     },
     "metadata": {},
     "output_type": "display_data"
    },
    {
     "data": {
      "application/vnd.jupyter.widget-view+json": {
       "model_id": "619d712e03c5462491f46b60e7aa7a48",
       "version_major": 2,
       "version_minor": 0
      },
      "text/plain": [
       "Training: |          | 0/? [00:00<?, ?it/s]"
      ]
     },
     "metadata": {},
     "output_type": "display_data"
    },
    {
     "data": {
      "application/vnd.jupyter.widget-view+json": {
       "model_id": "399b11466f2046378cce11754434a2d9",
       "version_major": 2,
       "version_minor": 0
      },
      "text/plain": [
       "Validation: |          | 0/? [00:00<?, ?it/s]"
      ]
     },
     "metadata": {},
     "output_type": "display_data"
    },
    {
     "data": {
      "application/vnd.jupyter.widget-view+json": {
       "model_id": "3dedba0aaf35459ea9d049e40102b6f1",
       "version_major": 2,
       "version_minor": 0
      },
      "text/plain": [
       "Validation: |          | 0/? [00:00<?, ?it/s]"
      ]
     },
     "metadata": {},
     "output_type": "display_data"
    },
    {
     "data": {
      "application/vnd.jupyter.widget-view+json": {
       "model_id": "53c7b172c58e4b9d97227cb892e07fb4",
       "version_major": 2,
       "version_minor": 0
      },
      "text/plain": [
       "Validation: |          | 0/? [00:00<?, ?it/s]"
      ]
     },
     "metadata": {},
     "output_type": "display_data"
    },
    {
     "data": {
      "application/vnd.jupyter.widget-view+json": {
       "model_id": "889659f27ba34766969a4792403611be",
       "version_major": 2,
       "version_minor": 0
      },
      "text/plain": [
       "Validation: |          | 0/? [00:00<?, ?it/s]"
      ]
     },
     "metadata": {},
     "output_type": "display_data"
    },
    {
     "data": {
      "application/vnd.jupyter.widget-view+json": {
       "model_id": "caffc25960f0431f9e20cb238644af0e",
       "version_major": 2,
       "version_minor": 0
      },
      "text/plain": [
       "Validation: |          | 0/? [00:00<?, ?it/s]"
      ]
     },
     "metadata": {},
     "output_type": "display_data"
    },
    {
     "data": {
      "application/vnd.jupyter.widget-view+json": {
       "model_id": "680a806fe087449d9c44a790cb38a6dd",
       "version_major": 2,
       "version_minor": 0
      },
      "text/plain": [
       "Validation: |          | 0/? [00:00<?, ?it/s]"
      ]
     },
     "metadata": {},
     "output_type": "display_data"
    },
    {
     "data": {
      "application/vnd.jupyter.widget-view+json": {
       "model_id": "4a29f3a69b424eeebf6c938a06436ab2",
       "version_major": 2,
       "version_minor": 0
      },
      "text/plain": [
       "Validation: |          | 0/? [00:00<?, ?it/s]"
      ]
     },
     "metadata": {},
     "output_type": "display_data"
    },
    {
     "data": {
      "application/vnd.jupyter.widget-view+json": {
       "model_id": "3cc225c944ed4007b20b026017ae4a06",
       "version_major": 2,
       "version_minor": 0
      },
      "text/plain": [
       "Validation: |          | 0/? [00:00<?, ?it/s]"
      ]
     },
     "metadata": {},
     "output_type": "display_data"
    },
    {
     "data": {
      "application/vnd.jupyter.widget-view+json": {
       "model_id": "712ddc4c3521470c863ee46bff65ae0c",
       "version_major": 2,
       "version_minor": 0
      },
      "text/plain": [
       "Validation: |          | 0/? [00:00<?, ?it/s]"
      ]
     },
     "metadata": {},
     "output_type": "display_data"
    },
    {
     "data": {
      "application/vnd.jupyter.widget-view+json": {
       "model_id": "0ae450d41c9f4cbe8bc14d8671c06119",
       "version_major": 2,
       "version_minor": 0
      },
      "text/plain": [
       "Validation: |          | 0/? [00:00<?, ?it/s]"
      ]
     },
     "metadata": {},
     "output_type": "display_data"
    },
    {
     "data": {
      "application/vnd.jupyter.widget-view+json": {
       "model_id": "eab891e2272640209be2e38595c34c14",
       "version_major": 2,
       "version_minor": 0
      },
      "text/plain": [
       "Validation: |          | 0/? [00:00<?, ?it/s]"
      ]
     },
     "metadata": {},
     "output_type": "display_data"
    },
    {
     "data": {
      "application/vnd.jupyter.widget-view+json": {
       "model_id": "d82e6c46fdb44329b8ebbe8950a21dce",
       "version_major": 2,
       "version_minor": 0
      },
      "text/plain": [
       "Validation: |          | 0/? [00:00<?, ?it/s]"
      ]
     },
     "metadata": {},
     "output_type": "display_data"
    },
    {
     "data": {
      "application/vnd.jupyter.widget-view+json": {
       "model_id": "742fd10b4872453594c262ae3763618e",
       "version_major": 2,
       "version_minor": 0
      },
      "text/plain": [
       "Validation: |          | 0/? [00:00<?, ?it/s]"
      ]
     },
     "metadata": {},
     "output_type": "display_data"
    },
    {
     "data": {
      "application/vnd.jupyter.widget-view+json": {
       "model_id": "6d4cfcc802b54d238424de5620957246",
       "version_major": 2,
       "version_minor": 0
      },
      "text/plain": [
       "Validation: |          | 0/? [00:00<?, ?it/s]"
      ]
     },
     "metadata": {},
     "output_type": "display_data"
    },
    {
     "data": {
      "application/vnd.jupyter.widget-view+json": {
       "model_id": "550e02dc8a4944a8948ca48ee1e16877",
       "version_major": 2,
       "version_minor": 0
      },
      "text/plain": [
       "Validation: |          | 0/? [00:00<?, ?it/s]"
      ]
     },
     "metadata": {},
     "output_type": "display_data"
    },
    {
     "data": {
      "application/vnd.jupyter.widget-view+json": {
       "model_id": "32056bce23f0421ead6b23bd16ad5d6b",
       "version_major": 2,
       "version_minor": 0
      },
      "text/plain": [
       "Validation: |          | 0/? [00:00<?, ?it/s]"
      ]
     },
     "metadata": {},
     "output_type": "display_data"
    },
    {
     "data": {
      "application/vnd.jupyter.widget-view+json": {
       "model_id": "dbdb8d341d634b99ac639d2dde40ba7f",
       "version_major": 2,
       "version_minor": 0
      },
      "text/plain": [
       "Validation: |          | 0/? [00:00<?, ?it/s]"
      ]
     },
     "metadata": {},
     "output_type": "display_data"
    },
    {
     "data": {
      "application/vnd.jupyter.widget-view+json": {
       "model_id": "78ca4f315d57409da183b2eda4305572",
       "version_major": 2,
       "version_minor": 0
      },
      "text/plain": [
       "Validation: |          | 0/? [00:00<?, ?it/s]"
      ]
     },
     "metadata": {},
     "output_type": "display_data"
    },
    {
     "data": {
      "application/vnd.jupyter.widget-view+json": {
       "model_id": "e7eb667ef5584dcda4617b8e6aaa15cc",
       "version_major": 2,
       "version_minor": 0
      },
      "text/plain": [
       "Validation: |          | 0/? [00:00<?, ?it/s]"
      ]
     },
     "metadata": {},
     "output_type": "display_data"
    },
    {
     "data": {
      "application/vnd.jupyter.widget-view+json": {
       "model_id": "bfbdf8ccb7a143d39e1ac005856feb27",
       "version_major": 2,
       "version_minor": 0
      },
      "text/plain": [
       "Validation: |          | 0/? [00:00<?, ?it/s]"
      ]
     },
     "metadata": {},
     "output_type": "display_data"
    },
    {
     "data": {
      "application/vnd.jupyter.widget-view+json": {
       "model_id": "9988dc71268347a0ba67fdd00aa37b75",
       "version_major": 2,
       "version_minor": 0
      },
      "text/plain": [
       "Validation: |          | 0/? [00:00<?, ?it/s]"
      ]
     },
     "metadata": {},
     "output_type": "display_data"
    },
    {
     "data": {
      "application/vnd.jupyter.widget-view+json": {
       "model_id": "42905dc27f9c400696acb0f73c93d835",
       "version_major": 2,
       "version_minor": 0
      },
      "text/plain": [
       "Validation: |          | 0/? [00:00<?, ?it/s]"
      ]
     },
     "metadata": {},
     "output_type": "display_data"
    },
    {
     "data": {
      "application/vnd.jupyter.widget-view+json": {
       "model_id": "3b4de43bc8914eaa935b5ef1805fbe8e",
       "version_major": 2,
       "version_minor": 0
      },
      "text/plain": [
       "Validation: |          | 0/? [00:00<?, ?it/s]"
      ]
     },
     "metadata": {},
     "output_type": "display_data"
    },
    {
     "data": {
      "application/vnd.jupyter.widget-view+json": {
       "model_id": "7a43d8e5e2e74cec878b4fc80eddbde5",
       "version_major": 2,
       "version_minor": 0
      },
      "text/plain": [
       "Validation: |          | 0/? [00:00<?, ?it/s]"
      ]
     },
     "metadata": {},
     "output_type": "display_data"
    },
    {
     "data": {
      "application/vnd.jupyter.widget-view+json": {
       "model_id": "6bc175597ed2455e8ccafa7ee815ec9a",
       "version_major": 2,
       "version_minor": 0
      },
      "text/plain": [
       "Validation: |          | 0/? [00:00<?, ?it/s]"
      ]
     },
     "metadata": {},
     "output_type": "display_data"
    },
    {
     "data": {
      "application/vnd.jupyter.widget-view+json": {
       "model_id": "bc04df3ff0344783b9f4350fb3437050",
       "version_major": 2,
       "version_minor": 0
      },
      "text/plain": [
       "Validation: |          | 0/? [00:00<?, ?it/s]"
      ]
     },
     "metadata": {},
     "output_type": "display_data"
    },
    {
     "data": {
      "application/vnd.jupyter.widget-view+json": {
       "model_id": "e55f925e316b40498f0bef567d7fb080",
       "version_major": 2,
       "version_minor": 0
      },
      "text/plain": [
       "Validation: |          | 0/? [00:00<?, ?it/s]"
      ]
     },
     "metadata": {},
     "output_type": "display_data"
    },
    {
     "data": {
      "application/vnd.jupyter.widget-view+json": {
       "model_id": "0ac9f05791474c8c87446b5ad3e40d7b",
       "version_major": 2,
       "version_minor": 0
      },
      "text/plain": [
       "Validation: |          | 0/? [00:00<?, ?it/s]"
      ]
     },
     "metadata": {},
     "output_type": "display_data"
    },
    {
     "data": {
      "application/vnd.jupyter.widget-view+json": {
       "model_id": "2e7266eec91240afaebdb167b5efd6e9",
       "version_major": 2,
       "version_minor": 0
      },
      "text/plain": [
       "Validation: |          | 0/? [00:00<?, ?it/s]"
      ]
     },
     "metadata": {},
     "output_type": "display_data"
    },
    {
     "data": {
      "application/vnd.jupyter.widget-view+json": {
       "model_id": "2927ff094e9043df8e671f27f4d97575",
       "version_major": 2,
       "version_minor": 0
      },
      "text/plain": [
       "Validation: |          | 0/? [00:00<?, ?it/s]"
      ]
     },
     "metadata": {},
     "output_type": "display_data"
    },
    {
     "data": {
      "application/vnd.jupyter.widget-view+json": {
       "model_id": "a6f0106602bd49428e5c5805f99521d6",
       "version_major": 2,
       "version_minor": 0
      },
      "text/plain": [
       "Validation: |          | 0/? [00:00<?, ?it/s]"
      ]
     },
     "metadata": {},
     "output_type": "display_data"
    },
    {
     "data": {
      "application/vnd.jupyter.widget-view+json": {
       "model_id": "e8269bb2805d4edab3a1c7036b326e44",
       "version_major": 2,
       "version_minor": 0
      },
      "text/plain": [
       "Validation: |          | 0/? [00:00<?, ?it/s]"
      ]
     },
     "metadata": {},
     "output_type": "display_data"
    },
    {
     "data": {
      "application/vnd.jupyter.widget-view+json": {
       "model_id": "97a059f5dd5d4b1982c1b7360cf1e198",
       "version_major": 2,
       "version_minor": 0
      },
      "text/plain": [
       "Validation: |          | 0/? [00:00<?, ?it/s]"
      ]
     },
     "metadata": {},
     "output_type": "display_data"
    },
    {
     "data": {
      "application/vnd.jupyter.widget-view+json": {
       "model_id": "681160b241c24e9fb207a14e956894b6",
       "version_major": 2,
       "version_minor": 0
      },
      "text/plain": [
       "Validation: |          | 0/? [00:00<?, ?it/s]"
      ]
     },
     "metadata": {},
     "output_type": "display_data"
    },
    {
     "data": {
      "application/vnd.jupyter.widget-view+json": {
       "model_id": "696cbddfec574f09867cef48ac5fabcb",
       "version_major": 2,
       "version_minor": 0
      },
      "text/plain": [
       "Validation: |          | 0/? [00:00<?, ?it/s]"
      ]
     },
     "metadata": {},
     "output_type": "display_data"
    },
    {
     "data": {
      "application/vnd.jupyter.widget-view+json": {
       "model_id": "76e415f17c904964a35e9375b4793a30",
       "version_major": 2,
       "version_minor": 0
      },
      "text/plain": [
       "Validation: |          | 0/? [00:00<?, ?it/s]"
      ]
     },
     "metadata": {},
     "output_type": "display_data"
    },
    {
     "data": {
      "application/vnd.jupyter.widget-view+json": {
       "model_id": "fd0f569781144f06a25cdda09d919ba4",
       "version_major": 2,
       "version_minor": 0
      },
      "text/plain": [
       "Validation: |          | 0/? [00:00<?, ?it/s]"
      ]
     },
     "metadata": {},
     "output_type": "display_data"
    },
    {
     "data": {
      "application/vnd.jupyter.widget-view+json": {
       "model_id": "44da32c1f2c34a4a974a1c17788c0464",
       "version_major": 2,
       "version_minor": 0
      },
      "text/plain": [
       "Validation: |          | 0/? [00:00<?, ?it/s]"
      ]
     },
     "metadata": {},
     "output_type": "display_data"
    },
    {
     "data": {
      "application/vnd.jupyter.widget-view+json": {
       "model_id": "eeb1282d6f28458a9debb4a2ee1595d1",
       "version_major": 2,
       "version_minor": 0
      },
      "text/plain": [
       "Validation: |          | 0/? [00:00<?, ?it/s]"
      ]
     },
     "metadata": {},
     "output_type": "display_data"
    },
    {
     "data": {
      "application/vnd.jupyter.widget-view+json": {
       "model_id": "e32b8242919b40a5a9ad7446b070e7dc",
       "version_major": 2,
       "version_minor": 0
      },
      "text/plain": [
       "Validation: |          | 0/? [00:00<?, ?it/s]"
      ]
     },
     "metadata": {},
     "output_type": "display_data"
    },
    {
     "data": {
      "application/vnd.jupyter.widget-view+json": {
       "model_id": "e524bab5adcf44c9b223a5a2451b3e4b",
       "version_major": 2,
       "version_minor": 0
      },
      "text/plain": [
       "Validation: |          | 0/? [00:00<?, ?it/s]"
      ]
     },
     "metadata": {},
     "output_type": "display_data"
    },
    {
     "data": {
      "application/vnd.jupyter.widget-view+json": {
       "model_id": "d1431f0945414f6ca0913a8af13ebec1",
       "version_major": 2,
       "version_minor": 0
      },
      "text/plain": [
       "Validation: |          | 0/? [00:00<?, ?it/s]"
      ]
     },
     "metadata": {},
     "output_type": "display_data"
    },
    {
     "data": {
      "application/vnd.jupyter.widget-view+json": {
       "model_id": "27132d0a8c704628902334e1a9ad1c54",
       "version_major": 2,
       "version_minor": 0
      },
      "text/plain": [
       "Validation: |          | 0/? [00:00<?, ?it/s]"
      ]
     },
     "metadata": {},
     "output_type": "display_data"
    },
    {
     "data": {
      "application/vnd.jupyter.widget-view+json": {
       "model_id": "178d57f571fd4664abaf7b9d93bfd4aa",
       "version_major": 2,
       "version_minor": 0
      },
      "text/plain": [
       "Validation: |          | 0/? [00:00<?, ?it/s]"
      ]
     },
     "metadata": {},
     "output_type": "display_data"
    },
    {
     "data": {
      "application/vnd.jupyter.widget-view+json": {
       "model_id": "c0f4a99b2a844ddeacec3f4daa178cb3",
       "version_major": 2,
       "version_minor": 0
      },
      "text/plain": [
       "Validation: |          | 0/? [00:00<?, ?it/s]"
      ]
     },
     "metadata": {},
     "output_type": "display_data"
    },
    {
     "data": {
      "application/vnd.jupyter.widget-view+json": {
       "model_id": "a8dfa52595594dd1ae6d436e52e08812",
       "version_major": 2,
       "version_minor": 0
      },
      "text/plain": [
       "Validation: |          | 0/? [00:00<?, ?it/s]"
      ]
     },
     "metadata": {},
     "output_type": "display_data"
    },
    {
     "data": {
      "application/vnd.jupyter.widget-view+json": {
       "model_id": "a42f1b5984aa436baf7e5dde75aff055",
       "version_major": 2,
       "version_minor": 0
      },
      "text/plain": [
       "Validation: |          | 0/? [00:00<?, ?it/s]"
      ]
     },
     "metadata": {},
     "output_type": "display_data"
    },
    {
     "data": {
      "application/vnd.jupyter.widget-view+json": {
       "model_id": "917bfc2210d644419b435d57d0b9c3f0",
       "version_major": 2,
       "version_minor": 0
      },
      "text/plain": [
       "Validation: |          | 0/? [00:00<?, ?it/s]"
      ]
     },
     "metadata": {},
     "output_type": "display_data"
    },
    {
     "data": {
      "application/vnd.jupyter.widget-view+json": {
       "model_id": "6ca06c13b1b34a3fb81588190fcab955",
       "version_major": 2,
       "version_minor": 0
      },
      "text/plain": [
       "Validation: |          | 0/? [00:00<?, ?it/s]"
      ]
     },
     "metadata": {},
     "output_type": "display_data"
    },
    {
     "data": {
      "application/vnd.jupyter.widget-view+json": {
       "model_id": "3f36da35dfe942a08d8d89a19e3794ff",
       "version_major": 2,
       "version_minor": 0
      },
      "text/plain": [
       "Validation: |          | 0/? [00:00<?, ?it/s]"
      ]
     },
     "metadata": {},
     "output_type": "display_data"
    },
    {
     "data": {
      "application/vnd.jupyter.widget-view+json": {
       "model_id": "cd59664ea55845c68ec841a09a6e0d9d",
       "version_major": 2,
       "version_minor": 0
      },
      "text/plain": [
       "Validation: |          | 0/? [00:00<?, ?it/s]"
      ]
     },
     "metadata": {},
     "output_type": "display_data"
    },
    {
     "data": {
      "application/vnd.jupyter.widget-view+json": {
       "model_id": "1e75445baed245319640493a027ff5a4",
       "version_major": 2,
       "version_minor": 0
      },
      "text/plain": [
       "Validation: |          | 0/? [00:00<?, ?it/s]"
      ]
     },
     "metadata": {},
     "output_type": "display_data"
    },
    {
     "data": {
      "application/vnd.jupyter.widget-view+json": {
       "model_id": "f6128f4529a946568e8fd8bf59836e41",
       "version_major": 2,
       "version_minor": 0
      },
      "text/plain": [
       "Validation: |          | 0/? [00:00<?, ?it/s]"
      ]
     },
     "metadata": {},
     "output_type": "display_data"
    },
    {
     "data": {
      "application/vnd.jupyter.widget-view+json": {
       "model_id": "4b7a0a9f5b02484080717d7364be40c3",
       "version_major": 2,
       "version_minor": 0
      },
      "text/plain": [
       "Validation: |          | 0/? [00:00<?, ?it/s]"
      ]
     },
     "metadata": {},
     "output_type": "display_data"
    },
    {
     "data": {
      "application/vnd.jupyter.widget-view+json": {
       "model_id": "6fb92ef89a0e4ac79d652294bb49bf3a",
       "version_major": 2,
       "version_minor": 0
      },
      "text/plain": [
       "Validation: |          | 0/? [00:00<?, ?it/s]"
      ]
     },
     "metadata": {},
     "output_type": "display_data"
    },
    {
     "data": {
      "application/vnd.jupyter.widget-view+json": {
       "model_id": "810983872351452dba54bf95768f366f",
       "version_major": 2,
       "version_minor": 0
      },
      "text/plain": [
       "Validation: |          | 0/? [00:00<?, ?it/s]"
      ]
     },
     "metadata": {},
     "output_type": "display_data"
    },
    {
     "data": {
      "application/vnd.jupyter.widget-view+json": {
       "model_id": "38267d3f0eb44b78bd273e5ea2bcf3a0",
       "version_major": 2,
       "version_minor": 0
      },
      "text/plain": [
       "Validation: |          | 0/? [00:00<?, ?it/s]"
      ]
     },
     "metadata": {},
     "output_type": "display_data"
    },
    {
     "data": {
      "application/vnd.jupyter.widget-view+json": {
       "model_id": "026b39741a584c52b744a6fe7bb02f8b",
       "version_major": 2,
       "version_minor": 0
      },
      "text/plain": [
       "Validation: |          | 0/? [00:00<?, ?it/s]"
      ]
     },
     "metadata": {},
     "output_type": "display_data"
    },
    {
     "data": {
      "application/vnd.jupyter.widget-view+json": {
       "model_id": "6f393da627374784ad04d17e0b18f142",
       "version_major": 2,
       "version_minor": 0
      },
      "text/plain": [
       "Validation: |          | 0/? [00:00<?, ?it/s]"
      ]
     },
     "metadata": {},
     "output_type": "display_data"
    },
    {
     "data": {
      "application/vnd.jupyter.widget-view+json": {
       "model_id": "71fd4a087b584b97bcc09e3746a01fee",
       "version_major": 2,
       "version_minor": 0
      },
      "text/plain": [
       "Validation: |          | 0/? [00:00<?, ?it/s]"
      ]
     },
     "metadata": {},
     "output_type": "display_data"
    },
    {
     "data": {
      "application/vnd.jupyter.widget-view+json": {
       "model_id": "d15b7d4709b24f2aa70b08a3284d43b3",
       "version_major": 2,
       "version_minor": 0
      },
      "text/plain": [
       "Validation: |          | 0/? [00:00<?, ?it/s]"
      ]
     },
     "metadata": {},
     "output_type": "display_data"
    },
    {
     "data": {
      "application/vnd.jupyter.widget-view+json": {
       "model_id": "ff0f804c81664fbb8c6e1f6bef8de949",
       "version_major": 2,
       "version_minor": 0
      },
      "text/plain": [
       "Validation: |          | 0/? [00:00<?, ?it/s]"
      ]
     },
     "metadata": {},
     "output_type": "display_data"
    },
    {
     "data": {
      "application/vnd.jupyter.widget-view+json": {
       "model_id": "3b0ff879d5cc4628be41a008f94eae81",
       "version_major": 2,
       "version_minor": 0
      },
      "text/plain": [
       "Validation: |          | 0/? [00:00<?, ?it/s]"
      ]
     },
     "metadata": {},
     "output_type": "display_data"
    },
    {
     "data": {
      "application/vnd.jupyter.widget-view+json": {
       "model_id": "c1e47740078e47fabf2241bcb0efd36a",
       "version_major": 2,
       "version_minor": 0
      },
      "text/plain": [
       "Validation: |          | 0/? [00:00<?, ?it/s]"
      ]
     },
     "metadata": {},
     "output_type": "display_data"
    },
    {
     "data": {
      "application/vnd.jupyter.widget-view+json": {
       "model_id": "b7009970a2534ac79809d971d8d02784",
       "version_major": 2,
       "version_minor": 0
      },
      "text/plain": [
       "Validation: |          | 0/? [00:00<?, ?it/s]"
      ]
     },
     "metadata": {},
     "output_type": "display_data"
    },
    {
     "data": {
      "application/vnd.jupyter.widget-view+json": {
       "model_id": "2f204a464333431889c9aaf97ffda804",
       "version_major": 2,
       "version_minor": 0
      },
      "text/plain": [
       "Validation: |          | 0/? [00:00<?, ?it/s]"
      ]
     },
     "metadata": {},
     "output_type": "display_data"
    },
    {
     "data": {
      "application/vnd.jupyter.widget-view+json": {
       "model_id": "32e2093d0d0646e58d0ff878345d60a8",
       "version_major": 2,
       "version_minor": 0
      },
      "text/plain": [
       "Validation: |          | 0/? [00:00<?, ?it/s]"
      ]
     },
     "metadata": {},
     "output_type": "display_data"
    },
    {
     "data": {
      "application/vnd.jupyter.widget-view+json": {
       "model_id": "b6158ae182dd43c6b58331be73e84a10",
       "version_major": 2,
       "version_minor": 0
      },
      "text/plain": [
       "Validation: |          | 0/? [00:00<?, ?it/s]"
      ]
     },
     "metadata": {},
     "output_type": "display_data"
    },
    {
     "data": {
      "application/vnd.jupyter.widget-view+json": {
       "model_id": "dc07490192fe48589e02c42f227833ef",
       "version_major": 2,
       "version_minor": 0
      },
      "text/plain": [
       "Validation: |          | 0/? [00:00<?, ?it/s]"
      ]
     },
     "metadata": {},
     "output_type": "display_data"
    },
    {
     "data": {
      "application/vnd.jupyter.widget-view+json": {
       "model_id": "5031c2c5665a4ddea25abbcc133070b5",
       "version_major": 2,
       "version_minor": 0
      },
      "text/plain": [
       "Validation: |          | 0/? [00:00<?, ?it/s]"
      ]
     },
     "metadata": {},
     "output_type": "display_data"
    },
    {
     "data": {
      "application/vnd.jupyter.widget-view+json": {
       "model_id": "628631566d4a49bab43b507012f35d50",
       "version_major": 2,
       "version_minor": 0
      },
      "text/plain": [
       "Validation: |          | 0/? [00:00<?, ?it/s]"
      ]
     },
     "metadata": {},
     "output_type": "display_data"
    },
    {
     "data": {
      "application/vnd.jupyter.widget-view+json": {
       "model_id": "7cd1ea0734cf4320b39746abf66f2ebd",
       "version_major": 2,
       "version_minor": 0
      },
      "text/plain": [
       "Validation: |          | 0/? [00:00<?, ?it/s]"
      ]
     },
     "metadata": {},
     "output_type": "display_data"
    },
    {
     "data": {
      "application/vnd.jupyter.widget-view+json": {
       "model_id": "0323043328c9431094036cd87711ca34",
       "version_major": 2,
       "version_minor": 0
      },
      "text/plain": [
       "Validation: |          | 0/? [00:00<?, ?it/s]"
      ]
     },
     "metadata": {},
     "output_type": "display_data"
    },
    {
     "data": {
      "application/vnd.jupyter.widget-view+json": {
       "model_id": "ad4f2715ab25459e91e90f3119d1af58",
       "version_major": 2,
       "version_minor": 0
      },
      "text/plain": [
       "Validation: |          | 0/? [00:00<?, ?it/s]"
      ]
     },
     "metadata": {},
     "output_type": "display_data"
    },
    {
     "data": {
      "application/vnd.jupyter.widget-view+json": {
       "model_id": "a6a72890897e4bf99150bf678cfa9dea",
       "version_major": 2,
       "version_minor": 0
      },
      "text/plain": [
       "Validation: |          | 0/? [00:00<?, ?it/s]"
      ]
     },
     "metadata": {},
     "output_type": "display_data"
    },
    {
     "data": {
      "application/vnd.jupyter.widget-view+json": {
       "model_id": "0ae00dff673d48d9838f2affd0be827a",
       "version_major": 2,
       "version_minor": 0
      },
      "text/plain": [
       "Validation: |          | 0/? [00:00<?, ?it/s]"
      ]
     },
     "metadata": {},
     "output_type": "display_data"
    },
    {
     "data": {
      "application/vnd.jupyter.widget-view+json": {
       "model_id": "bded4a2b1b5246cba4a3db6bbea28ff8",
       "version_major": 2,
       "version_minor": 0
      },
      "text/plain": [
       "Validation: |          | 0/? [00:00<?, ?it/s]"
      ]
     },
     "metadata": {},
     "output_type": "display_data"
    },
    {
     "data": {
      "application/vnd.jupyter.widget-view+json": {
       "model_id": "127c7f3d96bc47dc82ead5997fbc7574",
       "version_major": 2,
       "version_minor": 0
      },
      "text/plain": [
       "Validation: |          | 0/? [00:00<?, ?it/s]"
      ]
     },
     "metadata": {},
     "output_type": "display_data"
    },
    {
     "data": {
      "application/vnd.jupyter.widget-view+json": {
       "model_id": "c99b28cb62ad458296ab30a5b96f1dda",
       "version_major": 2,
       "version_minor": 0
      },
      "text/plain": [
       "Validation: |          | 0/? [00:00<?, ?it/s]"
      ]
     },
     "metadata": {},
     "output_type": "display_data"
    },
    {
     "data": {
      "application/vnd.jupyter.widget-view+json": {
       "model_id": "f3bf4fe4e6734217ba43088f6fa87799",
       "version_major": 2,
       "version_minor": 0
      },
      "text/plain": [
       "Validation: |          | 0/? [00:00<?, ?it/s]"
      ]
     },
     "metadata": {},
     "output_type": "display_data"
    },
    {
     "data": {
      "application/vnd.jupyter.widget-view+json": {
       "model_id": "10b987361da14636ba940532a4c2af0c",
       "version_major": 2,
       "version_minor": 0
      },
      "text/plain": [
       "Validation: |          | 0/? [00:00<?, ?it/s]"
      ]
     },
     "metadata": {},
     "output_type": "display_data"
    },
    {
     "data": {
      "application/vnd.jupyter.widget-view+json": {
       "model_id": "58c9c1f849a64266afffdfb039b69a32",
       "version_major": 2,
       "version_minor": 0
      },
      "text/plain": [
       "Validation: |          | 0/? [00:00<?, ?it/s]"
      ]
     },
     "metadata": {},
     "output_type": "display_data"
    },
    {
     "data": {
      "application/vnd.jupyter.widget-view+json": {
       "model_id": "987ae58d26484fd19eec8c8ae1ec0ba3",
       "version_major": 2,
       "version_minor": 0
      },
      "text/plain": [
       "Validation: |          | 0/? [00:00<?, ?it/s]"
      ]
     },
     "metadata": {},
     "output_type": "display_data"
    },
    {
     "data": {
      "application/vnd.jupyter.widget-view+json": {
       "model_id": "ab16748d7df945ba88b171b11e5df614",
       "version_major": 2,
       "version_minor": 0
      },
      "text/plain": [
       "Validation: |          | 0/? [00:00<?, ?it/s]"
      ]
     },
     "metadata": {},
     "output_type": "display_data"
    },
    {
     "data": {
      "application/vnd.jupyter.widget-view+json": {
       "model_id": "35430e363579414eb0a91e33e7fa8022",
       "version_major": 2,
       "version_minor": 0
      },
      "text/plain": [
       "Validation: |          | 0/? [00:00<?, ?it/s]"
      ]
     },
     "metadata": {},
     "output_type": "display_data"
    },
    {
     "data": {
      "application/vnd.jupyter.widget-view+json": {
       "model_id": "eba891746896449b8fcab6b8431c61f2",
       "version_major": 2,
       "version_minor": 0
      },
      "text/plain": [
       "Validation: |          | 0/? [00:00<?, ?it/s]"
      ]
     },
     "metadata": {},
     "output_type": "display_data"
    },
    {
     "data": {
      "application/vnd.jupyter.widget-view+json": {
       "model_id": "70ac85f3a4da42ec9a9bc83764249dcf",
       "version_major": 2,
       "version_minor": 0
      },
      "text/plain": [
       "Validation: |          | 0/? [00:00<?, ?it/s]"
      ]
     },
     "metadata": {},
     "output_type": "display_data"
    },
    {
     "data": {
      "application/vnd.jupyter.widget-view+json": {
       "model_id": "a2d1af1fbbd14dceb6898b249de53770",
       "version_major": 2,
       "version_minor": 0
      },
      "text/plain": [
       "Validation: |          | 0/? [00:00<?, ?it/s]"
      ]
     },
     "metadata": {},
     "output_type": "display_data"
    },
    {
     "data": {
      "application/vnd.jupyter.widget-view+json": {
       "model_id": "b27ddb4a3af749ebbbbed404f59ddd1d",
       "version_major": 2,
       "version_minor": 0
      },
      "text/plain": [
       "Validation: |          | 0/? [00:00<?, ?it/s]"
      ]
     },
     "metadata": {},
     "output_type": "display_data"
    },
    {
     "data": {
      "application/vnd.jupyter.widget-view+json": {
       "model_id": "559d7845043b4906b71b584600b16ca3",
       "version_major": 2,
       "version_minor": 0
      },
      "text/plain": [
       "Validation: |          | 0/? [00:00<?, ?it/s]"
      ]
     },
     "metadata": {},
     "output_type": "display_data"
    },
    {
     "data": {
      "application/vnd.jupyter.widget-view+json": {
       "model_id": "26ea21aa52b04aa1904e76fedfc0a694",
       "version_major": 2,
       "version_minor": 0
      },
      "text/plain": [
       "Validation: |          | 0/? [00:00<?, ?it/s]"
      ]
     },
     "metadata": {},
     "output_type": "display_data"
    },
    {
     "data": {
      "application/vnd.jupyter.widget-view+json": {
       "model_id": "9e2e6c8069d349339fb29401062a3555",
       "version_major": 2,
       "version_minor": 0
      },
      "text/plain": [
       "Validation: |          | 0/? [00:00<?, ?it/s]"
      ]
     },
     "metadata": {},
     "output_type": "display_data"
    },
    {
     "data": {
      "application/vnd.jupyter.widget-view+json": {
       "model_id": "7f05777209474d45b85ccb6b3814682e",
       "version_major": 2,
       "version_minor": 0
      },
      "text/plain": [
       "Validation: |          | 0/? [00:00<?, ?it/s]"
      ]
     },
     "metadata": {},
     "output_type": "display_data"
    },
    {
     "data": {
      "application/vnd.jupyter.widget-view+json": {
       "model_id": "b6f528a312964911a03c137ca0c83044",
       "version_major": 2,
       "version_minor": 0
      },
      "text/plain": [
       "Validation: |          | 0/? [00:00<?, ?it/s]"
      ]
     },
     "metadata": {},
     "output_type": "display_data"
    },
    {
     "data": {
      "application/vnd.jupyter.widget-view+json": {
       "model_id": "adfb63e5523e4b2ab977c2defba576b6",
       "version_major": 2,
       "version_minor": 0
      },
      "text/plain": [
       "Validation: |          | 0/? [00:00<?, ?it/s]"
      ]
     },
     "metadata": {},
     "output_type": "display_data"
    },
    {
     "data": {
      "application/vnd.jupyter.widget-view+json": {
       "model_id": "a5015c94820f4f5984fed9ad25e57dd2",
       "version_major": 2,
       "version_minor": 0
      },
      "text/plain": [
       "Validation: |          | 0/? [00:00<?, ?it/s]"
      ]
     },
     "metadata": {},
     "output_type": "display_data"
    },
    {
     "data": {
      "application/vnd.jupyter.widget-view+json": {
       "model_id": "32b8bf5358564b5ab0f8307868018106",
       "version_major": 2,
       "version_minor": 0
      },
      "text/plain": [
       "Validation: |          | 0/? [00:00<?, ?it/s]"
      ]
     },
     "metadata": {},
     "output_type": "display_data"
    },
    {
     "data": {
      "application/vnd.jupyter.widget-view+json": {
       "model_id": "7e1a52bb426f453ab7374c361328df56",
       "version_major": 2,
       "version_minor": 0
      },
      "text/plain": [
       "Validation: |          | 0/? [00:00<?, ?it/s]"
      ]
     },
     "metadata": {},
     "output_type": "display_data"
    },
    {
     "data": {
      "application/vnd.jupyter.widget-view+json": {
       "model_id": "139c84e5811645a180f9822a7aed0005",
       "version_major": 2,
       "version_minor": 0
      },
      "text/plain": [
       "Validation: |          | 0/? [00:00<?, ?it/s]"
      ]
     },
     "metadata": {},
     "output_type": "display_data"
    },
    {
     "data": {
      "application/vnd.jupyter.widget-view+json": {
       "model_id": "97d8aa74b19d4b7abaa6889b8828a8fb",
       "version_major": 2,
       "version_minor": 0
      },
      "text/plain": [
       "Validation: |          | 0/? [00:00<?, ?it/s]"
      ]
     },
     "metadata": {},
     "output_type": "display_data"
    },
    {
     "name": "stderr",
     "output_type": "stream",
     "text": [
      "`Trainer.fit` stopped: `max_epochs=100` reached.\n"
     ]
    }
   ],
   "source": [
    "# Start training\n",
    "trainer.fit(model, train_loader, val_loader)"
   ]
  },
  {
   "cell_type": "code",
   "execution_count": 22,
   "id": "30737866",
   "metadata": {},
   "outputs": [
    {
     "name": "stderr",
     "output_type": "stream",
     "text": [
      "LOCAL_RANK: 0 - CUDA_VISIBLE_DEVICES: [0]\n"
     ]
    },
    {
     "data": {
      "application/vnd.jupyter.widget-view+json": {
       "model_id": "c3ddc241820548d6970ac7d660ed8f80",
       "version_major": 2,
       "version_minor": 0
      },
      "text/plain": [
       "Testing: |          | 0/? [00:00<?, ?it/s]"
      ]
     },
     "metadata": {},
     "output_type": "display_data"
    },
    {
     "data": {
      "text/html": [
       "<pre style=\"white-space:pre;overflow-x:auto;line-height:normal;font-family:Menlo,'DejaVu Sans Mono',consolas,'Courier New',monospace\">┏━━━━━━━━━━━━━━━━━━━━━━━━━━━┳━━━━━━━━━━━━━━━━━━━━━━━━━━━┓\n",
       "┃<span style=\"font-weight: bold\">        Test metric        </span>┃<span style=\"font-weight: bold\">       DataLoader 0        </span>┃\n",
       "┡━━━━━━━━━━━━━━━━━━━━━━━━━━━╇━━━━━━━━━━━━━━━━━━━━━━━━━━━┩\n",
       "│<span style=\"color: #008080; text-decoration-color: #008080\">         test_loss         </span>│<span style=\"color: #800080; text-decoration-color: #800080\">    0.35675087571144104    </span>│\n",
       "│<span style=\"color: #008080; text-decoration-color: #008080\">         test_psnr         </span>│<span style=\"color: #800080; text-decoration-color: #800080\">     22.10894012451172     </span>│\n",
       "│<span style=\"color: #008080; text-decoration-color: #008080\">         test_ssim         </span>│<span style=\"color: #800080; text-decoration-color: #800080\">    0.39884376525878906    </span>│\n",
       "└───────────────────────────┴───────────────────────────┘\n",
       "</pre>\n"
      ],
      "text/plain": [
       "┏━━━━━━━━━━━━━━━━━━━━━━━━━━━┳━━━━━━━━━━━━━━━━━━━━━━━━━━━┓\n",
       "┃\u001b[1m \u001b[0m\u001b[1m       Test metric       \u001b[0m\u001b[1m \u001b[0m┃\u001b[1m \u001b[0m\u001b[1m      DataLoader 0       \u001b[0m\u001b[1m \u001b[0m┃\n",
       "┡━━━━━━━━━━━━━━━━━━━━━━━━━━━╇━━━━━━━━━━━━━━━━━━━━━━━━━━━┩\n",
       "│\u001b[36m \u001b[0m\u001b[36m        test_loss        \u001b[0m\u001b[36m \u001b[0m│\u001b[35m \u001b[0m\u001b[35m   0.35675087571144104   \u001b[0m\u001b[35m \u001b[0m│\n",
       "│\u001b[36m \u001b[0m\u001b[36m        test_psnr        \u001b[0m\u001b[36m \u001b[0m│\u001b[35m \u001b[0m\u001b[35m    22.10894012451172    \u001b[0m\u001b[35m \u001b[0m│\n",
       "│\u001b[36m \u001b[0m\u001b[36m        test_ssim        \u001b[0m\u001b[36m \u001b[0m│\u001b[35m \u001b[0m\u001b[35m   0.39884376525878906   \u001b[0m\u001b[35m \u001b[0m│\n",
       "└───────────────────────────┴───────────────────────────┘\n"
      ]
     },
     "metadata": {},
     "output_type": "display_data"
    },
    {
     "data": {
      "text/plain": [
       "[{'test_loss': 0.35675087571144104,\n",
       "  'test_psnr': 22.10894012451172,\n",
       "  'test_ssim': 0.39884376525878906}]"
      ]
     },
     "execution_count": 22,
     "metadata": {},
     "output_type": "execute_result"
    }
   ],
   "source": [
    "trainer.test(model, test_loader)"
   ]
  },
  {
   "cell_type": "code",
   "execution_count": null,
   "id": "05b23a1e",
   "metadata": {},
   "outputs": [],
   "source": [
    "[{'test_loss': 0.35675087571144104,\n",
    "  'test_psnr': 22.10894012451172,\n",
    "  'test_ssim': 0.39884376525878906}]"
   ]
  },
  {
   "cell_type": "code",
   "execution_count": null,
   "id": "91e3907d",
   "metadata": {},
   "outputs": [],
   "source": []
  }
 ],
 "metadata": {
  "kernelspec": {
   "display_name": "exp",
   "language": "python",
   "name": "python3"
  },
  "language_info": {
   "codemirror_mode": {
    "name": "ipython",
    "version": 3
   },
   "file_extension": ".py",
   "mimetype": "text/x-python",
   "name": "python",
   "nbconvert_exporter": "python",
   "pygments_lexer": "ipython3",
   "version": "3.12.2"
  }
 },
 "nbformat": 4,
 "nbformat_minor": 5
}
